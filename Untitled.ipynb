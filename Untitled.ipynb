{
  "nbformat": 4,
  "nbformat_minor": 0,
  "metadata": {
    "kernelspec": {
      "display_name": "Python 3",
      "language": "python",
      "name": "python3"
    },
    "language_info": {
      "codemirror_mode": {
        "name": "ipython",
        "version": 3
      },
      "file_extension": ".py",
      "mimetype": "text/x-python",
      "name": "python",
      "nbconvert_exporter": "python",
      "pygments_lexer": "ipython3",
      "version": "3.7.6"
    },
    "colab": {
      "name": "Untitled.ipynb",
      "provenance": [],
      "include_colab_link": true
    }
  },
  "cells": [
    {
      "cell_type": "markdown",
      "metadata": {
        "id": "view-in-github",
        "colab_type": "text"
      },
      "source": [
        "<a href=\"https://colab.research.google.com/github/ochese/Testpy/blob/RamaJose/Untitled.ipynb\" target=\"_parent\"><img src=\"https://colab.research.google.com/assets/colab-badge.svg\" alt=\"Open In Colab\"/></a>"
      ]
    },
    {
      "cell_type": "code",
      "metadata": {
        "id": "mIJ3WdH0jq6I",
        "colab_type": "code",
        "colab": {}
      },
      "source": [
        "import pandas as pd\n",
        "import numpy as np"
      ],
      "execution_count": 0,
      "outputs": []
    },
    {
      "cell_type": "code",
      "metadata": {
        "id": "JcLil_1bjq6S",
        "colab_type": "code",
        "colab": {}
      },
      "source": [
        "df = pd.read_excel('form_python.xlsx')"
      ],
      "execution_count": 0,
      "outputs": []
    },
    {
      "cell_type": "code",
      "metadata": {
        "id": "z_ACbbPFjq6W",
        "colab_type": "code",
        "colab": {
          "base_uri": "https://localhost:8080/",
          "height": 632
        },
        "outputId": "f41a21d0-dc56-412e-cad8-dd57159ea8a0"
      },
      "source": [
        "df.head(5)"
      ],
      "execution_count": 12,
      "outputs": [
        {
          "output_type": "execute_result",
          "data": {
            "text/html": [
              "<div>\n",
              "<style scoped>\n",
              "    .dataframe tbody tr th:only-of-type {\n",
              "        vertical-align: middle;\n",
              "    }\n",
              "\n",
              "    .dataframe tbody tr th {\n",
              "        vertical-align: top;\n",
              "    }\n",
              "\n",
              "    .dataframe thead th {\n",
              "        text-align: right;\n",
              "    }\n",
              "</style>\n",
              "<table border=\"1\" class=\"dataframe\">\n",
              "  <thead>\n",
              "    <tr style=\"text-align: right;\">\n",
              "      <th></th>\n",
              "      <th>Marca temporal</th>\n",
              "      <th>Codigo</th>\n",
              "      <th>Año de Nacimiento</th>\n",
              "      <th>SEXO</th>\n",
              "      <th>Lugar de Residencia Actual</th>\n",
              "      <th>TIPO DE COLEGIO EN EL QUE ESTUDIO</th>\n",
              "      <th>En que periodo ingreso ?</th>\n",
              "      <th>TIPO DE INGRESO</th>\n",
              "      <th>PUNTAJE DE INGRESO (LO MAS CERCANO A SU PUNTAJE REAL)</th>\n",
              "      <th>CUANTOS CURSOS DESAPROBO EL PRIMER AÑO DE ESTUDIO? O EN LO QUE  DEL AÑO</th>\n",
              "      <th>EN CUANTOS CURSOS ESTUVO EN PRIMERA REPITENCIA</th>\n",
              "      <th>EN CUANTOS CURSOS ESTUVO EN SEGUNDA REPITENCIA</th>\n",
              "      <th>EN CUANTOS CURSOS ESTUVO EN TERCERA REPITENCIA</th>\n",
              "      <th>TUVO MAS DE 3 REPITENCIAS EN UN CURSO</th>\n",
              "      <th>GRADO DE EDUCACION DE LA MADRE</th>\n",
              "      <th>GRADO DE EDUCACION DEL PADRE</th>\n",
              "      <th>OCUPACION DEL PADRE</th>\n",
              "      <th>OCUPACION DE LA MADRE</th>\n",
              "      <th>CLASE SOCIAL</th>\n",
              "      <th>TIEMPO QUE DEMORA EN LLEGAR A LA UNIVERSIDAD</th>\n",
              "      <th>NUMERO DE HERMANOS</th>\n",
              "      <th>TIENE HERMANOS CON ESTUDIOS SUPERIORES? (TECNICO O UNIVERSITARIO)</th>\n",
              "      <th>ESTADO CIVIL CUANDO EMPEZO LA UNIVERSIDAD</th>\n",
              "      <th>SE PREPARO EN ACADEMIA?</th>\n",
              "      <th>CUANTO TIEMPO SE PREPARO EN ACADEMIA</th>\n",
              "      <th>CUANTOS AÑOS TENIA CUANDO INGRESO A LA UNIVERSIDAD?</th>\n",
              "      <th>APORTABA ECONOMICAMENTE EN SU CASA EL AÑO QUE INGRESO?</th>\n",
              "      <th>TRABAJABA DURANTE EL PRIMER AÑO DE UNIVERSIDAD?</th>\n",
              "      <th>SE SIENTE SATISFECHO CON LA CALIDAD DE ENSEÑANZA EN LA UNIVERSIDAD?</th>\n",
              "      <th>SI NO HUBIERA TENIDO ALGUN  TIPO DE PRESION FAMILIAR  O ECONOMICA, CREE QUE HUBIERA ELEGIDO LA CARRERA QUE ESTUDIA ACTUALMENTE?</th>\n",
              "      <th>Ciudad donde nacio</th>\n",
              "      <th>Padres Separados?</th>\n",
              "      <th>Considera que en su hogar surgen conflictos  familiares recurrentes?</th>\n",
              "      <th>Unnamed: 33</th>\n",
              "    </tr>\n",
              "  </thead>\n",
              "  <tbody>\n",
              "    <tr>\n",
              "      <th>0</th>\n",
              "      <td>2019-09-28 01:02:10.297</td>\n",
              "      <td>15200053</td>\n",
              "      <td>1996</td>\n",
              "      <td>Hombre</td>\n",
              "      <td>LINCE</td>\n",
              "      <td>PARTICULAR</td>\n",
              "      <td>Setiembre</td>\n",
              "      <td>CEPRE</td>\n",
              "      <td>1350.0</td>\n",
              "      <td>0</td>\n",
              "      <td>2</td>\n",
              "      <td>0</td>\n",
              "      <td>0</td>\n",
              "      <td>No</td>\n",
              "      <td>TECNICA</td>\n",
              "      <td>UNIVERSITARIA</td>\n",
              "      <td>PROFESIONAL</td>\n",
              "      <td>OCUPACIONES BASICAS</td>\n",
              "      <td>CLASE MEDIA</td>\n",
              "      <td>MENOS DE UNA HORA</td>\n",
              "      <td>1</td>\n",
              "      <td>Sí</td>\n",
              "      <td>SOLTERO</td>\n",
              "      <td>Sí</td>\n",
              "      <td>UN AÑO Y MEDIO</td>\n",
              "      <td>18</td>\n",
              "      <td>NO</td>\n",
              "      <td>No</td>\n",
              "      <td>Sí</td>\n",
              "      <td>Sí</td>\n",
              "      <td>NaN</td>\n",
              "      <td>NaN</td>\n",
              "      <td>NaN</td>\n",
              "      <td>NaN</td>\n",
              "    </tr>\n",
              "    <tr>\n",
              "      <th>1</th>\n",
              "      <td>2019-09-28 01:25:28.747</td>\n",
              "      <td>15200015</td>\n",
              "      <td>1995</td>\n",
              "      <td>Hombre</td>\n",
              "      <td>SAN MARTIN DE PORRES</td>\n",
              "      <td>PARTICULAR</td>\n",
              "      <td>Setiembre</td>\n",
              "      <td>EXAMEN ORDINARIO</td>\n",
              "      <td>1530.0</td>\n",
              "      <td>0</td>\n",
              "      <td>4</td>\n",
              "      <td>1</td>\n",
              "      <td>0</td>\n",
              "      <td>No</td>\n",
              "      <td>SECUNDARIA</td>\n",
              "      <td>UNIVERSITARIA</td>\n",
              "      <td>NaN</td>\n",
              "      <td>NaN</td>\n",
              "      <td>CLASE MEDIA BAJA</td>\n",
              "      <td>MENOS DE UNA HORA</td>\n",
              "      <td>4</td>\n",
              "      <td>Sí</td>\n",
              "      <td>SOLTERO</td>\n",
              "      <td>Sí</td>\n",
              "      <td>DOS AÑOS</td>\n",
              "      <td>19</td>\n",
              "      <td>NO</td>\n",
              "      <td>Sí</td>\n",
              "      <td>No</td>\n",
              "      <td>Sí</td>\n",
              "      <td>NaN</td>\n",
              "      <td>NaN</td>\n",
              "      <td>NaN</td>\n",
              "      <td>NaN</td>\n",
              "    </tr>\n",
              "    <tr>\n",
              "      <th>2</th>\n",
              "      <td>2019-09-28 08:08:23.336</td>\n",
              "      <td>15200052</td>\n",
              "      <td>1994</td>\n",
              "      <td>Hombre</td>\n",
              "      <td>SAN JUAN DE LURIGANCHO</td>\n",
              "      <td>PARTICULAR</td>\n",
              "      <td>Setiembre</td>\n",
              "      <td>CEPRE</td>\n",
              "      <td>1300.0</td>\n",
              "      <td>1</td>\n",
              "      <td>4</td>\n",
              "      <td>1</td>\n",
              "      <td>0</td>\n",
              "      <td>No</td>\n",
              "      <td>PRIMARIA</td>\n",
              "      <td>SECUNDARIA</td>\n",
              "      <td>OCUPACIONES BASICAS</td>\n",
              "      <td>OCUPACIONES BASICAS</td>\n",
              "      <td>CLASE MEDIA</td>\n",
              "      <td>DOS HORAS</td>\n",
              "      <td>2</td>\n",
              "      <td>Sí</td>\n",
              "      <td>SOLTERO</td>\n",
              "      <td>No</td>\n",
              "      <td>NO SE PREPARO EN ACADEMIA</td>\n",
              "      <td>20</td>\n",
              "      <td>NO</td>\n",
              "      <td>No</td>\n",
              "      <td>Sí</td>\n",
              "      <td>Sí</td>\n",
              "      <td>NaN</td>\n",
              "      <td>NaN</td>\n",
              "      <td>NaN</td>\n",
              "      <td>NaN</td>\n",
              "    </tr>\n",
              "    <tr>\n",
              "      <th>3</th>\n",
              "      <td>2019-09-28 11:32:04.743</td>\n",
              "      <td>15200024</td>\n",
              "      <td>1996</td>\n",
              "      <td>Hombre</td>\n",
              "      <td>LIMA</td>\n",
              "      <td>PARTICULAR</td>\n",
              "      <td>Setiembre</td>\n",
              "      <td>EXAMEN ORDINARIO</td>\n",
              "      <td>1589.9</td>\n",
              "      <td>0</td>\n",
              "      <td>0</td>\n",
              "      <td>0</td>\n",
              "      <td>0</td>\n",
              "      <td>No</td>\n",
              "      <td>TECNICA</td>\n",
              "      <td>UNIVERSITARIA</td>\n",
              "      <td>PROFESIONAL</td>\n",
              "      <td>TECNICO O PROFESIONAL DE APOYO</td>\n",
              "      <td>CLASE MEDIA BAJA</td>\n",
              "      <td>HORA Y MEDIA</td>\n",
              "      <td>0</td>\n",
              "      <td>No</td>\n",
              "      <td>SOLTERO</td>\n",
              "      <td>Sí</td>\n",
              "      <td>UN AÑO Y MEDIO</td>\n",
              "      <td>15</td>\n",
              "      <td>NO</td>\n",
              "      <td>No</td>\n",
              "      <td>No</td>\n",
              "      <td>Sí</td>\n",
              "      <td>NaN</td>\n",
              "      <td>NaN</td>\n",
              "      <td>NaN</td>\n",
              "      <td>NaN</td>\n",
              "    </tr>\n",
              "    <tr>\n",
              "      <th>4</th>\n",
              "      <td>2019-09-28 13:36:07.393</td>\n",
              "      <td>15200125</td>\n",
              "      <td>1996</td>\n",
              "      <td>Mujer</td>\n",
              "      <td>VILLA EL SALVADOR</td>\n",
              "      <td>NACIONAL</td>\n",
              "      <td>Marzo</td>\n",
              "      <td>EXAMEN ORDINARIO</td>\n",
              "      <td>1520.0</td>\n",
              "      <td>1</td>\n",
              "      <td>7</td>\n",
              "      <td>0</td>\n",
              "      <td>0</td>\n",
              "      <td>No</td>\n",
              "      <td>SECUNDARIA</td>\n",
              "      <td>SECUNDARIA</td>\n",
              "      <td>TRABAJADORES DE LA INDUSTRIA MANUFACTURERA O C...</td>\n",
              "      <td>TRABAJADORES DE SERVICIOS DE PROTECCION, PERSO...</td>\n",
              "      <td>CLASE MEDIA</td>\n",
              "      <td>DOS HORAS</td>\n",
              "      <td>3</td>\n",
              "      <td>No</td>\n",
              "      <td>SOLTERO</td>\n",
              "      <td>Sí</td>\n",
              "      <td>DOS AÑOS</td>\n",
              "      <td>18</td>\n",
              "      <td>NO</td>\n",
              "      <td>No</td>\n",
              "      <td>No</td>\n",
              "      <td>Sí</td>\n",
              "      <td>NaN</td>\n",
              "      <td>NaN</td>\n",
              "      <td>NaN</td>\n",
              "      <td>NaN</td>\n",
              "    </tr>\n",
              "  </tbody>\n",
              "</table>\n",
              "</div>"
            ],
            "text/plain": [
              "           Marca temporal  ...  Unnamed: 33\n",
              "0 2019-09-28 01:02:10.297  ...          NaN\n",
              "1 2019-09-28 01:25:28.747  ...          NaN\n",
              "2 2019-09-28 08:08:23.336  ...          NaN\n",
              "3 2019-09-28 11:32:04.743  ...          NaN\n",
              "4 2019-09-28 13:36:07.393  ...          NaN\n",
              "\n",
              "[5 rows x 34 columns]"
            ]
          },
          "metadata": {
            "tags": []
          },
          "execution_count": 12
        }
      ]
    },
    {
      "cell_type": "code",
      "metadata": {
        "id": "74htFQO_jq6c",
        "colab_type": "code",
        "colab": {
          "base_uri": "https://localhost:8080/",
          "height": 34
        },
        "outputId": "a30b568e-398d-45e0-f8bc-8bbbc47ed27f"
      },
      "source": [
        "df.shape\n"
      ],
      "execution_count": 13,
      "outputs": [
        {
          "output_type": "execute_result",
          "data": {
            "text/plain": [
              "(125, 34)"
            ]
          },
          "metadata": {
            "tags": []
          },
          "execution_count": 13
        }
      ]
    },
    {
      "cell_type": "code",
      "metadata": {
        "id": "onNBpWTcjq6f",
        "colab_type": "code",
        "colab": {
          "base_uri": "https://localhost:8080/",
          "height": 425
        },
        "outputId": "28ba58c8-3828-4ac0-e2d8-f992b3dca227"
      },
      "source": [
        "df.columns"
      ],
      "execution_count": 14,
      "outputs": [
        {
          "output_type": "execute_result",
          "data": {
            "text/plain": [
              "Index(['Marca temporal', 'Codigo', 'Año de Nacimiento', 'SEXO',\n",
              "       'Lugar de Residencia Actual', 'TIPO DE COLEGIO EN EL QUE ESTUDIO',\n",
              "       'En que periodo ingreso ?', 'TIPO DE INGRESO',\n",
              "       'PUNTAJE DE INGRESO (LO MAS CERCANO A SU PUNTAJE REAL)',\n",
              "       'CUANTOS CURSOS DESAPROBO EL PRIMER AÑO DE ESTUDIO? O EN LO QUE  DEL AÑO',\n",
              "       'EN CUANTOS CURSOS ESTUVO EN PRIMERA REPITENCIA',\n",
              "       'EN CUANTOS CURSOS ESTUVO EN SEGUNDA REPITENCIA',\n",
              "       'EN CUANTOS CURSOS ESTUVO EN TERCERA REPITENCIA',\n",
              "       'TUVO MAS DE 3 REPITENCIAS EN UN CURSO ',\n",
              "       'GRADO DE EDUCACION DE LA MADRE', 'GRADO DE EDUCACION DEL PADRE',\n",
              "       'OCUPACION DEL PADRE', 'OCUPACION DE LA MADRE', 'CLASE SOCIAL',\n",
              "       'TIEMPO QUE DEMORA EN LLEGAR A LA UNIVERSIDAD', 'NUMERO DE HERMANOS',\n",
              "       'TIENE HERMANOS CON ESTUDIOS SUPERIORES? (TECNICO O UNIVERSITARIO)',\n",
              "       'ESTADO CIVIL CUANDO EMPEZO LA UNIVERSIDAD', 'SE PREPARO EN ACADEMIA?',\n",
              "       'CUANTO TIEMPO SE PREPARO EN ACADEMIA',\n",
              "       'CUANTOS AÑOS TENIA CUANDO INGRESO A LA UNIVERSIDAD?',\n",
              "       'APORTABA ECONOMICAMENTE EN SU CASA EL AÑO QUE INGRESO?',\n",
              "       'TRABAJABA DURANTE EL PRIMER AÑO DE UNIVERSIDAD?',\n",
              "       'SE SIENTE SATISFECHO CON LA CALIDAD DE ENSEÑANZA EN LA UNIVERSIDAD?',\n",
              "       'SI NO HUBIERA TENIDO ALGUN  TIPO DE PRESION FAMILIAR  O ECONOMICA, CREE QUE HUBIERA ELEGIDO LA CARRERA QUE ESTUDIA ACTUALMENTE?',\n",
              "       'Ciudad donde nacio', 'Padres Separados?',\n",
              "       'Considera que en su hogar surgen conflictos  familiares recurrentes?',\n",
              "       'Unnamed: 33'],\n",
              "      dtype='object')"
            ]
          },
          "metadata": {
            "tags": []
          },
          "execution_count": 14
        }
      ]
    },
    {
      "cell_type": "code",
      "metadata": {
        "id": "KR10GRvBjq6i",
        "colab_type": "code",
        "colab": {}
      },
      "source": [
        "dt=df.drop(['Marca temporal','Unnamed: 33'], axis=1)"
      ],
      "execution_count": 0,
      "outputs": []
    },
    {
      "cell_type": "code",
      "metadata": {
        "id": "m11DBcmjjq6l",
        "colab_type": "code",
        "colab": {
          "base_uri": "https://localhost:8080/",
          "height": 408
        },
        "outputId": "4e485baf-053e-429d-fa3d-c2d049c37ba9"
      },
      "source": [
        "dt.columns"
      ],
      "execution_count": 16,
      "outputs": [
        {
          "output_type": "execute_result",
          "data": {
            "text/plain": [
              "Index(['Codigo', 'Año de Nacimiento', 'SEXO', 'Lugar de Residencia Actual',\n",
              "       'TIPO DE COLEGIO EN EL QUE ESTUDIO', 'En que periodo ingreso ?',\n",
              "       'TIPO DE INGRESO',\n",
              "       'PUNTAJE DE INGRESO (LO MAS CERCANO A SU PUNTAJE REAL)',\n",
              "       'CUANTOS CURSOS DESAPROBO EL PRIMER AÑO DE ESTUDIO? O EN LO QUE  DEL AÑO',\n",
              "       'EN CUANTOS CURSOS ESTUVO EN PRIMERA REPITENCIA',\n",
              "       'EN CUANTOS CURSOS ESTUVO EN SEGUNDA REPITENCIA',\n",
              "       'EN CUANTOS CURSOS ESTUVO EN TERCERA REPITENCIA',\n",
              "       'TUVO MAS DE 3 REPITENCIAS EN UN CURSO ',\n",
              "       'GRADO DE EDUCACION DE LA MADRE', 'GRADO DE EDUCACION DEL PADRE',\n",
              "       'OCUPACION DEL PADRE', 'OCUPACION DE LA MADRE', 'CLASE SOCIAL',\n",
              "       'TIEMPO QUE DEMORA EN LLEGAR A LA UNIVERSIDAD', 'NUMERO DE HERMANOS',\n",
              "       'TIENE HERMANOS CON ESTUDIOS SUPERIORES? (TECNICO O UNIVERSITARIO)',\n",
              "       'ESTADO CIVIL CUANDO EMPEZO LA UNIVERSIDAD', 'SE PREPARO EN ACADEMIA?',\n",
              "       'CUANTO TIEMPO SE PREPARO EN ACADEMIA',\n",
              "       'CUANTOS AÑOS TENIA CUANDO INGRESO A LA UNIVERSIDAD?',\n",
              "       'APORTABA ECONOMICAMENTE EN SU CASA EL AÑO QUE INGRESO?',\n",
              "       'TRABAJABA DURANTE EL PRIMER AÑO DE UNIVERSIDAD?',\n",
              "       'SE SIENTE SATISFECHO CON LA CALIDAD DE ENSEÑANZA EN LA UNIVERSIDAD?',\n",
              "       'SI NO HUBIERA TENIDO ALGUN  TIPO DE PRESION FAMILIAR  O ECONOMICA, CREE QUE HUBIERA ELEGIDO LA CARRERA QUE ESTUDIA ACTUALMENTE?',\n",
              "       'Ciudad donde nacio', 'Padres Separados?',\n",
              "       'Considera que en su hogar surgen conflictos  familiares recurrentes?'],\n",
              "      dtype='object')"
            ]
          },
          "metadata": {
            "tags": []
          },
          "execution_count": 16
        }
      ]
    },
    {
      "cell_type": "code",
      "metadata": {
        "id": "U1NVFI-6jq6p",
        "colab_type": "code",
        "colab": {}
      },
      "source": [
        "#Cambiar nombres de las columnas\n",
        "dt.columns=['Codigo', 'AnioNac', 'Sexo', 'Resid',\n",
        "       'TipoCole', 'MesIngres',\n",
        "       'TipoIngres',\n",
        "       'PuntajeIngre',\n",
        "       'CurDes1Ano',\n",
        "       'PrimRep',\n",
        "       'SegRep',\n",
        "       'TercRep',\n",
        "       'Mas3Rep',\n",
        "       'EduMadre', 'EduPadre',\n",
        "       'OcuPadre', 'OcuMadre', 'ClaseSoc',\n",
        "       'TempViajeUni', 'NumHermano',\n",
        "       'HermanoEstSup',\n",
        "       'EstadCivilInicio', 'PrepaAcademia',\n",
        "       'TempPrepAcadem',\n",
        "       'EdadIngreso',\n",
        "       'AporteEcono',\n",
        "       'TrabajoUniversi1Anio',\n",
        "       'SatisfCalidad',\n",
        "       'VocacionXpresion',\n",
        "       'CiudNac', 'PadreSep',\n",
        "       'ProbFamiliFreq']"
      ],
      "execution_count": 0,
      "outputs": []
    },
    {
      "cell_type": "code",
      "metadata": {
        "id": "2FYr_2kQjq6s",
        "colab_type": "code",
        "colab": {
          "base_uri": "https://localhost:8080/",
          "height": 153
        },
        "outputId": "5dcff2d8-3859-476a-b872-12e42b29eab1"
      },
      "source": [
        "dt.columns"
      ],
      "execution_count": 18,
      "outputs": [
        {
          "output_type": "execute_result",
          "data": {
            "text/plain": [
              "Index(['Codigo', 'AnioNac', 'Sexo', 'Resid', 'TipoCole', 'MesIngres',\n",
              "       'TipoIngres', 'PuntajeIngre', 'CurDes1Ano', 'PrimRep', 'SegRep',\n",
              "       'TercRep', 'Mas3Rep', 'EduMadre', 'EduPadre', 'OcuPadre', 'OcuMadre',\n",
              "       'ClaseSoc', 'TempViajeUni', 'NumHermano', 'HermanoEstSup',\n",
              "       'EstadCivilInicio', 'PrepaAcademia', 'TempPrepAcadem', 'EdadIngreso',\n",
              "       'AporteEcono', 'TrabajoUniversi1Anio', 'SatisfCalidad',\n",
              "       'VocacionXpresion', 'CiudNac', 'PadreSep', 'ProbFamiliFreq'],\n",
              "      dtype='object')"
            ]
          },
          "metadata": {
            "tags": []
          },
          "execution_count": 18
        }
      ]
    },
    {
      "cell_type": "code",
      "metadata": {
        "id": "W-DXH18mjq6v",
        "colab_type": "code",
        "colab": {
          "base_uri": "https://localhost:8080/",
          "height": 770
        },
        "outputId": "06a6308e-e9d6-4bb5-8b93-58db9b76a44e"
      },
      "source": [
        "dt.head(10)"
      ],
      "execution_count": 19,
      "outputs": [
        {
          "output_type": "execute_result",
          "data": {
            "text/html": [
              "<div>\n",
              "<style scoped>\n",
              "    .dataframe tbody tr th:only-of-type {\n",
              "        vertical-align: middle;\n",
              "    }\n",
              "\n",
              "    .dataframe tbody tr th {\n",
              "        vertical-align: top;\n",
              "    }\n",
              "\n",
              "    .dataframe thead th {\n",
              "        text-align: right;\n",
              "    }\n",
              "</style>\n",
              "<table border=\"1\" class=\"dataframe\">\n",
              "  <thead>\n",
              "    <tr style=\"text-align: right;\">\n",
              "      <th></th>\n",
              "      <th>Codigo</th>\n",
              "      <th>AnioNac</th>\n",
              "      <th>Sexo</th>\n",
              "      <th>Resid</th>\n",
              "      <th>TipoCole</th>\n",
              "      <th>MesIngres</th>\n",
              "      <th>TipoIngres</th>\n",
              "      <th>PuntajeIngre</th>\n",
              "      <th>CurDes1Ano</th>\n",
              "      <th>PrimRep</th>\n",
              "      <th>SegRep</th>\n",
              "      <th>TercRep</th>\n",
              "      <th>Mas3Rep</th>\n",
              "      <th>EduMadre</th>\n",
              "      <th>EduPadre</th>\n",
              "      <th>OcuPadre</th>\n",
              "      <th>OcuMadre</th>\n",
              "      <th>ClaseSoc</th>\n",
              "      <th>TempViajeUni</th>\n",
              "      <th>NumHermano</th>\n",
              "      <th>HermanoEstSup</th>\n",
              "      <th>EstadCivilInicio</th>\n",
              "      <th>PrepaAcademia</th>\n",
              "      <th>TempPrepAcadem</th>\n",
              "      <th>EdadIngreso</th>\n",
              "      <th>AporteEcono</th>\n",
              "      <th>TrabajoUniversi1Anio</th>\n",
              "      <th>SatisfCalidad</th>\n",
              "      <th>VocacionXpresion</th>\n",
              "      <th>CiudNac</th>\n",
              "      <th>PadreSep</th>\n",
              "      <th>ProbFamiliFreq</th>\n",
              "    </tr>\n",
              "  </thead>\n",
              "  <tbody>\n",
              "    <tr>\n",
              "      <th>0</th>\n",
              "      <td>15200053</td>\n",
              "      <td>1996</td>\n",
              "      <td>Hombre</td>\n",
              "      <td>LINCE</td>\n",
              "      <td>PARTICULAR</td>\n",
              "      <td>Setiembre</td>\n",
              "      <td>CEPRE</td>\n",
              "      <td>1350.0</td>\n",
              "      <td>0</td>\n",
              "      <td>2</td>\n",
              "      <td>0</td>\n",
              "      <td>0</td>\n",
              "      <td>No</td>\n",
              "      <td>TECNICA</td>\n",
              "      <td>UNIVERSITARIA</td>\n",
              "      <td>PROFESIONAL</td>\n",
              "      <td>OCUPACIONES BASICAS</td>\n",
              "      <td>CLASE MEDIA</td>\n",
              "      <td>MENOS DE UNA HORA</td>\n",
              "      <td>1</td>\n",
              "      <td>Sí</td>\n",
              "      <td>SOLTERO</td>\n",
              "      <td>Sí</td>\n",
              "      <td>UN AÑO Y MEDIO</td>\n",
              "      <td>18</td>\n",
              "      <td>NO</td>\n",
              "      <td>No</td>\n",
              "      <td>Sí</td>\n",
              "      <td>Sí</td>\n",
              "      <td>NaN</td>\n",
              "      <td>NaN</td>\n",
              "      <td>NaN</td>\n",
              "    </tr>\n",
              "    <tr>\n",
              "      <th>1</th>\n",
              "      <td>15200015</td>\n",
              "      <td>1995</td>\n",
              "      <td>Hombre</td>\n",
              "      <td>SAN MARTIN DE PORRES</td>\n",
              "      <td>PARTICULAR</td>\n",
              "      <td>Setiembre</td>\n",
              "      <td>EXAMEN ORDINARIO</td>\n",
              "      <td>1530.0</td>\n",
              "      <td>0</td>\n",
              "      <td>4</td>\n",
              "      <td>1</td>\n",
              "      <td>0</td>\n",
              "      <td>No</td>\n",
              "      <td>SECUNDARIA</td>\n",
              "      <td>UNIVERSITARIA</td>\n",
              "      <td>NaN</td>\n",
              "      <td>NaN</td>\n",
              "      <td>CLASE MEDIA BAJA</td>\n",
              "      <td>MENOS DE UNA HORA</td>\n",
              "      <td>4</td>\n",
              "      <td>Sí</td>\n",
              "      <td>SOLTERO</td>\n",
              "      <td>Sí</td>\n",
              "      <td>DOS AÑOS</td>\n",
              "      <td>19</td>\n",
              "      <td>NO</td>\n",
              "      <td>Sí</td>\n",
              "      <td>No</td>\n",
              "      <td>Sí</td>\n",
              "      <td>NaN</td>\n",
              "      <td>NaN</td>\n",
              "      <td>NaN</td>\n",
              "    </tr>\n",
              "    <tr>\n",
              "      <th>2</th>\n",
              "      <td>15200052</td>\n",
              "      <td>1994</td>\n",
              "      <td>Hombre</td>\n",
              "      <td>SAN JUAN DE LURIGANCHO</td>\n",
              "      <td>PARTICULAR</td>\n",
              "      <td>Setiembre</td>\n",
              "      <td>CEPRE</td>\n",
              "      <td>1300.0</td>\n",
              "      <td>1</td>\n",
              "      <td>4</td>\n",
              "      <td>1</td>\n",
              "      <td>0</td>\n",
              "      <td>No</td>\n",
              "      <td>PRIMARIA</td>\n",
              "      <td>SECUNDARIA</td>\n",
              "      <td>OCUPACIONES BASICAS</td>\n",
              "      <td>OCUPACIONES BASICAS</td>\n",
              "      <td>CLASE MEDIA</td>\n",
              "      <td>DOS HORAS</td>\n",
              "      <td>2</td>\n",
              "      <td>Sí</td>\n",
              "      <td>SOLTERO</td>\n",
              "      <td>No</td>\n",
              "      <td>NO SE PREPARO EN ACADEMIA</td>\n",
              "      <td>20</td>\n",
              "      <td>NO</td>\n",
              "      <td>No</td>\n",
              "      <td>Sí</td>\n",
              "      <td>Sí</td>\n",
              "      <td>NaN</td>\n",
              "      <td>NaN</td>\n",
              "      <td>NaN</td>\n",
              "    </tr>\n",
              "    <tr>\n",
              "      <th>3</th>\n",
              "      <td>15200024</td>\n",
              "      <td>1996</td>\n",
              "      <td>Hombre</td>\n",
              "      <td>LIMA</td>\n",
              "      <td>PARTICULAR</td>\n",
              "      <td>Setiembre</td>\n",
              "      <td>EXAMEN ORDINARIO</td>\n",
              "      <td>1589.9</td>\n",
              "      <td>0</td>\n",
              "      <td>0</td>\n",
              "      <td>0</td>\n",
              "      <td>0</td>\n",
              "      <td>No</td>\n",
              "      <td>TECNICA</td>\n",
              "      <td>UNIVERSITARIA</td>\n",
              "      <td>PROFESIONAL</td>\n",
              "      <td>TECNICO O PROFESIONAL DE APOYO</td>\n",
              "      <td>CLASE MEDIA BAJA</td>\n",
              "      <td>HORA Y MEDIA</td>\n",
              "      <td>0</td>\n",
              "      <td>No</td>\n",
              "      <td>SOLTERO</td>\n",
              "      <td>Sí</td>\n",
              "      <td>UN AÑO Y MEDIO</td>\n",
              "      <td>15</td>\n",
              "      <td>NO</td>\n",
              "      <td>No</td>\n",
              "      <td>No</td>\n",
              "      <td>Sí</td>\n",
              "      <td>NaN</td>\n",
              "      <td>NaN</td>\n",
              "      <td>NaN</td>\n",
              "    </tr>\n",
              "    <tr>\n",
              "      <th>4</th>\n",
              "      <td>15200125</td>\n",
              "      <td>1996</td>\n",
              "      <td>Mujer</td>\n",
              "      <td>VILLA EL SALVADOR</td>\n",
              "      <td>NACIONAL</td>\n",
              "      <td>Marzo</td>\n",
              "      <td>EXAMEN ORDINARIO</td>\n",
              "      <td>1520.0</td>\n",
              "      <td>1</td>\n",
              "      <td>7</td>\n",
              "      <td>0</td>\n",
              "      <td>0</td>\n",
              "      <td>No</td>\n",
              "      <td>SECUNDARIA</td>\n",
              "      <td>SECUNDARIA</td>\n",
              "      <td>TRABAJADORES DE LA INDUSTRIA MANUFACTURERA O C...</td>\n",
              "      <td>TRABAJADORES DE SERVICIOS DE PROTECCION, PERSO...</td>\n",
              "      <td>CLASE MEDIA</td>\n",
              "      <td>DOS HORAS</td>\n",
              "      <td>3</td>\n",
              "      <td>No</td>\n",
              "      <td>SOLTERO</td>\n",
              "      <td>Sí</td>\n",
              "      <td>DOS AÑOS</td>\n",
              "      <td>18</td>\n",
              "      <td>NO</td>\n",
              "      <td>No</td>\n",
              "      <td>No</td>\n",
              "      <td>Sí</td>\n",
              "      <td>NaN</td>\n",
              "      <td>NaN</td>\n",
              "      <td>NaN</td>\n",
              "    </tr>\n",
              "    <tr>\n",
              "      <th>5</th>\n",
              "      <td>16200033</td>\n",
              "      <td>1997</td>\n",
              "      <td>Mujer</td>\n",
              "      <td>COMAS</td>\n",
              "      <td>PARROQUIAL</td>\n",
              "      <td>Setiembre</td>\n",
              "      <td>EXAMEN ORDINARIO</td>\n",
              "      <td>1400.0</td>\n",
              "      <td>0</td>\n",
              "      <td>1</td>\n",
              "      <td>0</td>\n",
              "      <td>0</td>\n",
              "      <td>No</td>\n",
              "      <td>TECNICA</td>\n",
              "      <td>TECNICA</td>\n",
              "      <td>TRABAJADORES DE SERVICIOS DE SEGURIDAD, RESTAU...</td>\n",
              "      <td>OCUPACIONES BASICAS</td>\n",
              "      <td>CLASE MEDIA</td>\n",
              "      <td>UN HORA</td>\n",
              "      <td>2</td>\n",
              "      <td>Sí</td>\n",
              "      <td>SOLTERO</td>\n",
              "      <td>Sí</td>\n",
              "      <td>UN AÑO Y MEDIO</td>\n",
              "      <td>17</td>\n",
              "      <td>NO</td>\n",
              "      <td>No</td>\n",
              "      <td>No</td>\n",
              "      <td>No</td>\n",
              "      <td>NaN</td>\n",
              "      <td>NaN</td>\n",
              "      <td>NaN</td>\n",
              "    </tr>\n",
              "    <tr>\n",
              "      <th>6</th>\n",
              "      <td>14200151</td>\n",
              "      <td>1996</td>\n",
              "      <td>Hombre</td>\n",
              "      <td>LIMA</td>\n",
              "      <td>PARTICULAR</td>\n",
              "      <td>Setiembre</td>\n",
              "      <td>CEPRE</td>\n",
              "      <td>1300.0</td>\n",
              "      <td>3</td>\n",
              "      <td>5</td>\n",
              "      <td>1</td>\n",
              "      <td>0</td>\n",
              "      <td>No</td>\n",
              "      <td>TECNICA</td>\n",
              "      <td>UNIVERSITARIA</td>\n",
              "      <td>PROFESIONAL</td>\n",
              "      <td>EMPLEADO CONTABLE, ADMINISTRATIVO U OTRO EMPLE...</td>\n",
              "      <td>CLASE MEDIA</td>\n",
              "      <td>MENOS DE UNA HORA</td>\n",
              "      <td>1</td>\n",
              "      <td>No</td>\n",
              "      <td>SOLTERO</td>\n",
              "      <td>Sí</td>\n",
              "      <td>UN AÑO</td>\n",
              "      <td>17</td>\n",
              "      <td>NO</td>\n",
              "      <td>No</td>\n",
              "      <td>No</td>\n",
              "      <td>Sí</td>\n",
              "      <td>Lima</td>\n",
              "      <td>No</td>\n",
              "      <td>No</td>\n",
              "    </tr>\n",
              "    <tr>\n",
              "      <th>7</th>\n",
              "      <td>15200114</td>\n",
              "      <td>1987</td>\n",
              "      <td>Hombre</td>\n",
              "      <td>VILLA MARIA DEL TRIUNFO</td>\n",
              "      <td>NACIONAL</td>\n",
              "      <td>Marzo</td>\n",
              "      <td>EXAMEN ORDINARIO</td>\n",
              "      <td>1475.0</td>\n",
              "      <td>3</td>\n",
              "      <td>15</td>\n",
              "      <td>4</td>\n",
              "      <td>1</td>\n",
              "      <td>No</td>\n",
              "      <td>PRIMARIA</td>\n",
              "      <td>PRIMARIA</td>\n",
              "      <td>OCUPACIONES BASICAS</td>\n",
              "      <td>OCUPACIONES BASICAS</td>\n",
              "      <td>CLASE MEDIA BAJA</td>\n",
              "      <td>DOS HORAS</td>\n",
              "      <td>4</td>\n",
              "      <td>Sí</td>\n",
              "      <td>SOLTERO</td>\n",
              "      <td>No</td>\n",
              "      <td>NO SE PREPARO EN ACADEMIA</td>\n",
              "      <td>27</td>\n",
              "      <td>SI</td>\n",
              "      <td>Sí</td>\n",
              "      <td>Sí</td>\n",
              "      <td>No</td>\n",
              "      <td>Lima</td>\n",
              "      <td>No</td>\n",
              "      <td>No</td>\n",
              "    </tr>\n",
              "    <tr>\n",
              "      <th>8</th>\n",
              "      <td>17200061</td>\n",
              "      <td>1999</td>\n",
              "      <td>Hombre</td>\n",
              "      <td>CARABAYLLO</td>\n",
              "      <td>PARTICULAR</td>\n",
              "      <td>Setiembre</td>\n",
              "      <td>EXAMEN ORDINARIO</td>\n",
              "      <td>1350.0</td>\n",
              "      <td>4</td>\n",
              "      <td>4</td>\n",
              "      <td>0</td>\n",
              "      <td>0</td>\n",
              "      <td>No</td>\n",
              "      <td>POSTGRADO</td>\n",
              "      <td>SECUNDARIA</td>\n",
              "      <td>OPERADOR DE MAQUINARIA</td>\n",
              "      <td>PROFESIONAL</td>\n",
              "      <td>CLASE MEDIA BAJA</td>\n",
              "      <td>DOS HORAS</td>\n",
              "      <td>3</td>\n",
              "      <td>Sí</td>\n",
              "      <td>SOLTERO</td>\n",
              "      <td>Sí</td>\n",
              "      <td>UN AÑO</td>\n",
              "      <td>16</td>\n",
              "      <td>NO</td>\n",
              "      <td>No</td>\n",
              "      <td>No</td>\n",
              "      <td>No</td>\n",
              "      <td>Ancash</td>\n",
              "      <td>No</td>\n",
              "      <td>Sí</td>\n",
              "    </tr>\n",
              "    <tr>\n",
              "      <th>9</th>\n",
              "      <td>16200020</td>\n",
              "      <td>1997</td>\n",
              "      <td>Hombre</td>\n",
              "      <td>SAN JUAN DE LURIGANCHO</td>\n",
              "      <td>PARTICULAR</td>\n",
              "      <td>Setiembre</td>\n",
              "      <td>EXAMEN ORDINARIO</td>\n",
              "      <td>1430.0</td>\n",
              "      <td>0</td>\n",
              "      <td>2</td>\n",
              "      <td>0</td>\n",
              "      <td>0</td>\n",
              "      <td>No</td>\n",
              "      <td>UNIVERSITARIA</td>\n",
              "      <td>TECNICA</td>\n",
              "      <td>OCUPACIONES BASICAS</td>\n",
              "      <td>OCUPACIONES BASICAS</td>\n",
              "      <td>CLASE MEDIA BAJA</td>\n",
              "      <td>DOS HORAS</td>\n",
              "      <td>2</td>\n",
              "      <td>No</td>\n",
              "      <td>SOLTERO</td>\n",
              "      <td>Sí</td>\n",
              "      <td>UN AÑO</td>\n",
              "      <td>19</td>\n",
              "      <td>NO</td>\n",
              "      <td>Sí</td>\n",
              "      <td>Sí</td>\n",
              "      <td>Sí</td>\n",
              "      <td>Lima</td>\n",
              "      <td>Sí</td>\n",
              "      <td>No</td>\n",
              "    </tr>\n",
              "  </tbody>\n",
              "</table>\n",
              "</div>"
            ],
            "text/plain": [
              "     Codigo  AnioNac    Sexo  ... CiudNac PadreSep ProbFamiliFreq\n",
              "0  15200053     1996  Hombre  ...     NaN      NaN            NaN\n",
              "1  15200015     1995  Hombre  ...     NaN      NaN            NaN\n",
              "2  15200052     1994  Hombre  ...     NaN      NaN            NaN\n",
              "3  15200024     1996  Hombre  ...     NaN      NaN            NaN\n",
              "4  15200125     1996   Mujer  ...     NaN      NaN            NaN\n",
              "5  16200033     1997   Mujer  ...     NaN      NaN            NaN\n",
              "6  14200151     1996  Hombre  ...    Lima       No             No\n",
              "7  15200114     1987  Hombre  ...    Lima       No             No\n",
              "8  17200061     1999  Hombre  ...  Ancash       No             Sí\n",
              "9  16200020     1997  Hombre  ...    Lima       Sí             No\n",
              "\n",
              "[10 rows x 32 columns]"
            ]
          },
          "metadata": {
            "tags": []
          },
          "execution_count": 19
        }
      ]
    },
    {
      "cell_type": "markdown",
      "metadata": {
        "id": "R2dmgxAojq6y",
        "colab_type": "text"
      },
      "source": [
        "## Tabla de contignecia de una variable"
      ]
    },
    {
      "cell_type": "code",
      "metadata": {
        "id": "ADDiJQ58jq6z",
        "colab_type": "code",
        "colab": {
          "base_uri": "https://localhost:8080/",
          "height": 173
        },
        "outputId": "bda7d1c3-e5d9-409e-fa3c-325dfc54631b"
      },
      "source": [
        "tab=pd.crosstab(index=dt['Sexo'],columns='Alumnos')\n",
        "tab"
      ],
      "execution_count": 20,
      "outputs": [
        {
          "output_type": "execute_result",
          "data": {
            "text/html": [
              "<div>\n",
              "<style scoped>\n",
              "    .dataframe tbody tr th:only-of-type {\n",
              "        vertical-align: middle;\n",
              "    }\n",
              "\n",
              "    .dataframe tbody tr th {\n",
              "        vertical-align: top;\n",
              "    }\n",
              "\n",
              "    .dataframe thead th {\n",
              "        text-align: right;\n",
              "    }\n",
              "</style>\n",
              "<table border=\"1\" class=\"dataframe\">\n",
              "  <thead>\n",
              "    <tr style=\"text-align: right;\">\n",
              "      <th>col_0</th>\n",
              "      <th>Alumnos</th>\n",
              "    </tr>\n",
              "    <tr>\n",
              "      <th>Sexo</th>\n",
              "      <th></th>\n",
              "    </tr>\n",
              "  </thead>\n",
              "  <tbody>\n",
              "    <tr>\n",
              "      <th>Hombre</th>\n",
              "      <td>101</td>\n",
              "    </tr>\n",
              "    <tr>\n",
              "      <th>Mujer</th>\n",
              "      <td>22</td>\n",
              "    </tr>\n",
              "    <tr>\n",
              "      <th>OTRO</th>\n",
              "      <td>2</td>\n",
              "    </tr>\n",
              "  </tbody>\n",
              "</table>\n",
              "</div>"
            ],
            "text/plain": [
              "col_0   Alumnos\n",
              "Sexo           \n",
              "Hombre      101\n",
              "Mujer        22\n",
              "OTRO          2"
            ]
          },
          "metadata": {
            "tags": []
          },
          "execution_count": 20
        }
      ]
    },
    {
      "cell_type": "code",
      "metadata": {
        "id": "GRILYgycjq60",
        "colab_type": "code",
        "colab": {
          "base_uri": "https://localhost:8080/",
          "height": 221
        },
        "outputId": "3d9a2252-d227-4122-eb46-02e37220b9eb"
      },
      "source": [
        "dt.Sexo.describe"
      ],
      "execution_count": 21,
      "outputs": [
        {
          "output_type": "execute_result",
          "data": {
            "text/plain": [
              "<bound method NDFrame.describe of 0      Hombre\n",
              "1      Hombre\n",
              "2      Hombre\n",
              "3      Hombre\n",
              "4       Mujer\n",
              "        ...  \n",
              "120      OTRO\n",
              "121    Hombre\n",
              "122    Hombre\n",
              "123    Hombre\n",
              "124    Hombre\n",
              "Name: Sexo, Length: 125, dtype: object>"
            ]
          },
          "metadata": {
            "tags": []
          },
          "execution_count": 21
        }
      ]
    },
    {
      "cell_type": "code",
      "metadata": {
        "id": "3a35zY2Wjq63",
        "colab_type": "code",
        "colab": {
          "base_uri": "https://localhost:8080/",
          "height": 204
        },
        "outputId": "c4b463f3-9222-4e2c-e27a-00537afd560f"
      },
      "source": [
        "tab=pd.crosstab(index=dt['Sexo'],columns='Alumnos',margins=True)\n",
        "tab"
      ],
      "execution_count": 22,
      "outputs": [
        {
          "output_type": "execute_result",
          "data": {
            "text/html": [
              "<div>\n",
              "<style scoped>\n",
              "    .dataframe tbody tr th:only-of-type {\n",
              "        vertical-align: middle;\n",
              "    }\n",
              "\n",
              "    .dataframe tbody tr th {\n",
              "        vertical-align: top;\n",
              "    }\n",
              "\n",
              "    .dataframe thead th {\n",
              "        text-align: right;\n",
              "    }\n",
              "</style>\n",
              "<table border=\"1\" class=\"dataframe\">\n",
              "  <thead>\n",
              "    <tr style=\"text-align: right;\">\n",
              "      <th>col_0</th>\n",
              "      <th>Alumnos</th>\n",
              "      <th>All</th>\n",
              "    </tr>\n",
              "    <tr>\n",
              "      <th>Sexo</th>\n",
              "      <th></th>\n",
              "      <th></th>\n",
              "    </tr>\n",
              "  </thead>\n",
              "  <tbody>\n",
              "    <tr>\n",
              "      <th>Hombre</th>\n",
              "      <td>101</td>\n",
              "      <td>101</td>\n",
              "    </tr>\n",
              "    <tr>\n",
              "      <th>Mujer</th>\n",
              "      <td>22</td>\n",
              "      <td>22</td>\n",
              "    </tr>\n",
              "    <tr>\n",
              "      <th>OTRO</th>\n",
              "      <td>2</td>\n",
              "      <td>2</td>\n",
              "    </tr>\n",
              "    <tr>\n",
              "      <th>All</th>\n",
              "      <td>125</td>\n",
              "      <td>125</td>\n",
              "    </tr>\n",
              "  </tbody>\n",
              "</table>\n",
              "</div>"
            ],
            "text/plain": [
              "col_0   Alumnos  All\n",
              "Sexo                \n",
              "Hombre      101  101\n",
              "Mujer        22   22\n",
              "OTRO          2    2\n",
              "All         125  125"
            ]
          },
          "metadata": {
            "tags": []
          },
          "execution_count": 22
        }
      ]
    },
    {
      "cell_type": "code",
      "metadata": {
        "id": "eBuzz49-jq65",
        "colab_type": "code",
        "colab": {
          "base_uri": "https://localhost:8080/",
          "height": 204
        },
        "outputId": "d2dc5c9e-d0a6-48f4-ffe8-603fa1d9cb36"
      },
      "source": [
        "tab=pd.crosstab(index=dt['Sexo'],columns=dt['TipoCole'],margins=True)\n",
        "tab.columns=['NAC', 'PARR','PAR','Total']\n",
        "tab\n",
        "#tab\n",
        "#dt[( 'AnioNac', 'Sexo', 'Resid','TipoCole', 'MesIngres')].describe()"
      ],
      "execution_count": 23,
      "outputs": [
        {
          "output_type": "execute_result",
          "data": {
            "text/html": [
              "<div>\n",
              "<style scoped>\n",
              "    .dataframe tbody tr th:only-of-type {\n",
              "        vertical-align: middle;\n",
              "    }\n",
              "\n",
              "    .dataframe tbody tr th {\n",
              "        vertical-align: top;\n",
              "    }\n",
              "\n",
              "    .dataframe thead th {\n",
              "        text-align: right;\n",
              "    }\n",
              "</style>\n",
              "<table border=\"1\" class=\"dataframe\">\n",
              "  <thead>\n",
              "    <tr style=\"text-align: right;\">\n",
              "      <th></th>\n",
              "      <th>NAC</th>\n",
              "      <th>PARR</th>\n",
              "      <th>PAR</th>\n",
              "      <th>Total</th>\n",
              "    </tr>\n",
              "    <tr>\n",
              "      <th>Sexo</th>\n",
              "      <th></th>\n",
              "      <th></th>\n",
              "      <th></th>\n",
              "      <th></th>\n",
              "    </tr>\n",
              "  </thead>\n",
              "  <tbody>\n",
              "    <tr>\n",
              "      <th>Hombre</th>\n",
              "      <td>43</td>\n",
              "      <td>11</td>\n",
              "      <td>47</td>\n",
              "      <td>101</td>\n",
              "    </tr>\n",
              "    <tr>\n",
              "      <th>Mujer</th>\n",
              "      <td>10</td>\n",
              "      <td>4</td>\n",
              "      <td>8</td>\n",
              "      <td>22</td>\n",
              "    </tr>\n",
              "    <tr>\n",
              "      <th>OTRO</th>\n",
              "      <td>0</td>\n",
              "      <td>0</td>\n",
              "      <td>2</td>\n",
              "      <td>2</td>\n",
              "    </tr>\n",
              "    <tr>\n",
              "      <th>All</th>\n",
              "      <td>53</td>\n",
              "      <td>15</td>\n",
              "      <td>57</td>\n",
              "      <td>125</td>\n",
              "    </tr>\n",
              "  </tbody>\n",
              "</table>\n",
              "</div>"
            ],
            "text/plain": [
              "        NAC  PARR  PAR  Total\n",
              "Sexo                         \n",
              "Hombre   43    11   47    101\n",
              "Mujer    10     4    8     22\n",
              "OTRO      0     0    2      2\n",
              "All      53    15   57    125"
            ]
          },
          "metadata": {
            "tags": []
          },
          "execution_count": 23
        }
      ]
    },
    {
      "cell_type": "code",
      "metadata": {
        "id": "VPs2VdU9jq67",
        "colab_type": "code",
        "colab": {
          "base_uri": "https://localhost:8080/",
          "height": 142
        },
        "outputId": "8a8b65f2-6cdb-4ac0-9e8e-4577efcadb95"
      },
      "source": [
        "tab=pd.crosstab(index=['Alumnos'],columns=[dt['TipoCole'],dt['Sexo']])\n",
        "tab"
      ],
      "execution_count": 24,
      "outputs": [
        {
          "output_type": "execute_result",
          "data": {
            "text/html": [
              "<div>\n",
              "<style scoped>\n",
              "    .dataframe tbody tr th:only-of-type {\n",
              "        vertical-align: middle;\n",
              "    }\n",
              "\n",
              "    .dataframe tbody tr th {\n",
              "        vertical-align: top;\n",
              "    }\n",
              "\n",
              "    .dataframe thead tr th {\n",
              "        text-align: left;\n",
              "    }\n",
              "\n",
              "    .dataframe thead tr:last-of-type th {\n",
              "        text-align: right;\n",
              "    }\n",
              "</style>\n",
              "<table border=\"1\" class=\"dataframe\">\n",
              "  <thead>\n",
              "    <tr>\n",
              "      <th>TipoCole</th>\n",
              "      <th colspan=\"2\" halign=\"left\">NACIONAL</th>\n",
              "      <th colspan=\"2\" halign=\"left\">PARROQUIAL</th>\n",
              "      <th colspan=\"3\" halign=\"left\">PARTICULAR</th>\n",
              "    </tr>\n",
              "    <tr>\n",
              "      <th>Sexo</th>\n",
              "      <th>Hombre</th>\n",
              "      <th>Mujer</th>\n",
              "      <th>Hombre</th>\n",
              "      <th>Mujer</th>\n",
              "      <th>Hombre</th>\n",
              "      <th>Mujer</th>\n",
              "      <th>OTRO</th>\n",
              "    </tr>\n",
              "    <tr>\n",
              "      <th>row_0</th>\n",
              "      <th></th>\n",
              "      <th></th>\n",
              "      <th></th>\n",
              "      <th></th>\n",
              "      <th></th>\n",
              "      <th></th>\n",
              "      <th></th>\n",
              "    </tr>\n",
              "  </thead>\n",
              "  <tbody>\n",
              "    <tr>\n",
              "      <th>Alumnos</th>\n",
              "      <td>43</td>\n",
              "      <td>10</td>\n",
              "      <td>11</td>\n",
              "      <td>4</td>\n",
              "      <td>47</td>\n",
              "      <td>8</td>\n",
              "      <td>2</td>\n",
              "    </tr>\n",
              "  </tbody>\n",
              "</table>\n",
              "</div>"
            ],
            "text/plain": [
              "TipoCole NACIONAL       PARROQUIAL       PARTICULAR           \n",
              "Sexo       Hombre Mujer     Hombre Mujer     Hombre Mujer OTRO\n",
              "row_0                                                         \n",
              "Alumnos        43    10         11     4         47     8    2"
            ]
          },
          "metadata": {
            "tags": []
          },
          "execution_count": 24
        }
      ]
    },
    {
      "cell_type": "code",
      "metadata": {
        "id": "twPq54wgjq69",
        "colab_type": "code",
        "colab": {
          "base_uri": "https://localhost:8080/",
          "height": 441
        },
        "outputId": "8ef0d637-5972-4964-e464-34029633cd1d"
      },
      "source": [
        "dt.groupby(['CiudNac']).count()"
      ],
      "execution_count": 25,
      "outputs": [
        {
          "output_type": "execute_result",
          "data": {
            "text/html": [
              "<div>\n",
              "<style scoped>\n",
              "    .dataframe tbody tr th:only-of-type {\n",
              "        vertical-align: middle;\n",
              "    }\n",
              "\n",
              "    .dataframe tbody tr th {\n",
              "        vertical-align: top;\n",
              "    }\n",
              "\n",
              "    .dataframe thead th {\n",
              "        text-align: right;\n",
              "    }\n",
              "</style>\n",
              "<table border=\"1\" class=\"dataframe\">\n",
              "  <thead>\n",
              "    <tr style=\"text-align: right;\">\n",
              "      <th></th>\n",
              "      <th>Codigo</th>\n",
              "      <th>AnioNac</th>\n",
              "      <th>Sexo</th>\n",
              "      <th>Resid</th>\n",
              "      <th>TipoCole</th>\n",
              "      <th>MesIngres</th>\n",
              "      <th>TipoIngres</th>\n",
              "      <th>PuntajeIngre</th>\n",
              "      <th>CurDes1Ano</th>\n",
              "      <th>PrimRep</th>\n",
              "      <th>SegRep</th>\n",
              "      <th>TercRep</th>\n",
              "      <th>Mas3Rep</th>\n",
              "      <th>EduMadre</th>\n",
              "      <th>EduPadre</th>\n",
              "      <th>OcuPadre</th>\n",
              "      <th>OcuMadre</th>\n",
              "      <th>ClaseSoc</th>\n",
              "      <th>TempViajeUni</th>\n",
              "      <th>NumHermano</th>\n",
              "      <th>HermanoEstSup</th>\n",
              "      <th>EstadCivilInicio</th>\n",
              "      <th>PrepaAcademia</th>\n",
              "      <th>TempPrepAcadem</th>\n",
              "      <th>EdadIngreso</th>\n",
              "      <th>AporteEcono</th>\n",
              "      <th>TrabajoUniversi1Anio</th>\n",
              "      <th>SatisfCalidad</th>\n",
              "      <th>VocacionXpresion</th>\n",
              "      <th>PadreSep</th>\n",
              "      <th>ProbFamiliFreq</th>\n",
              "    </tr>\n",
              "    <tr>\n",
              "      <th>CiudNac</th>\n",
              "      <th></th>\n",
              "      <th></th>\n",
              "      <th></th>\n",
              "      <th></th>\n",
              "      <th></th>\n",
              "      <th></th>\n",
              "      <th></th>\n",
              "      <th></th>\n",
              "      <th></th>\n",
              "      <th></th>\n",
              "      <th></th>\n",
              "      <th></th>\n",
              "      <th></th>\n",
              "      <th></th>\n",
              "      <th></th>\n",
              "      <th></th>\n",
              "      <th></th>\n",
              "      <th></th>\n",
              "      <th></th>\n",
              "      <th></th>\n",
              "      <th></th>\n",
              "      <th></th>\n",
              "      <th></th>\n",
              "      <th></th>\n",
              "      <th></th>\n",
              "      <th></th>\n",
              "      <th></th>\n",
              "      <th></th>\n",
              "      <th></th>\n",
              "      <th></th>\n",
              "      <th></th>\n",
              "    </tr>\n",
              "  </thead>\n",
              "  <tbody>\n",
              "    <tr>\n",
              "      <th>Ancash</th>\n",
              "      <td>4</td>\n",
              "      <td>4</td>\n",
              "      <td>4</td>\n",
              "      <td>4</td>\n",
              "      <td>4</td>\n",
              "      <td>4</td>\n",
              "      <td>4</td>\n",
              "      <td>4</td>\n",
              "      <td>4</td>\n",
              "      <td>4</td>\n",
              "      <td>4</td>\n",
              "      <td>4</td>\n",
              "      <td>4</td>\n",
              "      <td>4</td>\n",
              "      <td>4</td>\n",
              "      <td>4</td>\n",
              "      <td>4</td>\n",
              "      <td>4</td>\n",
              "      <td>4</td>\n",
              "      <td>4</td>\n",
              "      <td>4</td>\n",
              "      <td>4</td>\n",
              "      <td>4</td>\n",
              "      <td>4</td>\n",
              "      <td>4</td>\n",
              "      <td>4</td>\n",
              "      <td>4</td>\n",
              "      <td>4</td>\n",
              "      <td>4</td>\n",
              "      <td>4</td>\n",
              "      <td>4</td>\n",
              "    </tr>\n",
              "    <tr>\n",
              "      <th>Apurimac</th>\n",
              "      <td>1</td>\n",
              "      <td>1</td>\n",
              "      <td>1</td>\n",
              "      <td>1</td>\n",
              "      <td>1</td>\n",
              "      <td>1</td>\n",
              "      <td>1</td>\n",
              "      <td>1</td>\n",
              "      <td>1</td>\n",
              "      <td>1</td>\n",
              "      <td>1</td>\n",
              "      <td>1</td>\n",
              "      <td>1</td>\n",
              "      <td>1</td>\n",
              "      <td>1</td>\n",
              "      <td>1</td>\n",
              "      <td>1</td>\n",
              "      <td>1</td>\n",
              "      <td>1</td>\n",
              "      <td>1</td>\n",
              "      <td>1</td>\n",
              "      <td>1</td>\n",
              "      <td>1</td>\n",
              "      <td>1</td>\n",
              "      <td>1</td>\n",
              "      <td>1</td>\n",
              "      <td>1</td>\n",
              "      <td>1</td>\n",
              "      <td>1</td>\n",
              "      <td>1</td>\n",
              "      <td>1</td>\n",
              "    </tr>\n",
              "    <tr>\n",
              "      <th>Arequipa</th>\n",
              "      <td>1</td>\n",
              "      <td>1</td>\n",
              "      <td>1</td>\n",
              "      <td>1</td>\n",
              "      <td>1</td>\n",
              "      <td>1</td>\n",
              "      <td>1</td>\n",
              "      <td>1</td>\n",
              "      <td>1</td>\n",
              "      <td>1</td>\n",
              "      <td>1</td>\n",
              "      <td>1</td>\n",
              "      <td>1</td>\n",
              "      <td>1</td>\n",
              "      <td>1</td>\n",
              "      <td>1</td>\n",
              "      <td>1</td>\n",
              "      <td>1</td>\n",
              "      <td>1</td>\n",
              "      <td>1</td>\n",
              "      <td>1</td>\n",
              "      <td>1</td>\n",
              "      <td>1</td>\n",
              "      <td>1</td>\n",
              "      <td>1</td>\n",
              "      <td>1</td>\n",
              "      <td>1</td>\n",
              "      <td>1</td>\n",
              "      <td>1</td>\n",
              "      <td>1</td>\n",
              "      <td>1</td>\n",
              "    </tr>\n",
              "    <tr>\n",
              "      <th>Ayacucho</th>\n",
              "      <td>2</td>\n",
              "      <td>2</td>\n",
              "      <td>2</td>\n",
              "      <td>2</td>\n",
              "      <td>2</td>\n",
              "      <td>2</td>\n",
              "      <td>2</td>\n",
              "      <td>2</td>\n",
              "      <td>2</td>\n",
              "      <td>2</td>\n",
              "      <td>2</td>\n",
              "      <td>2</td>\n",
              "      <td>2</td>\n",
              "      <td>2</td>\n",
              "      <td>2</td>\n",
              "      <td>2</td>\n",
              "      <td>2</td>\n",
              "      <td>2</td>\n",
              "      <td>2</td>\n",
              "      <td>2</td>\n",
              "      <td>2</td>\n",
              "      <td>2</td>\n",
              "      <td>2</td>\n",
              "      <td>2</td>\n",
              "      <td>2</td>\n",
              "      <td>2</td>\n",
              "      <td>2</td>\n",
              "      <td>2</td>\n",
              "      <td>2</td>\n",
              "      <td>2</td>\n",
              "      <td>2</td>\n",
              "    </tr>\n",
              "    <tr>\n",
              "      <th>Callao</th>\n",
              "      <td>6</td>\n",
              "      <td>6</td>\n",
              "      <td>6</td>\n",
              "      <td>6</td>\n",
              "      <td>6</td>\n",
              "      <td>6</td>\n",
              "      <td>6</td>\n",
              "      <td>6</td>\n",
              "      <td>6</td>\n",
              "      <td>6</td>\n",
              "      <td>6</td>\n",
              "      <td>6</td>\n",
              "      <td>6</td>\n",
              "      <td>6</td>\n",
              "      <td>6</td>\n",
              "      <td>6</td>\n",
              "      <td>6</td>\n",
              "      <td>6</td>\n",
              "      <td>6</td>\n",
              "      <td>6</td>\n",
              "      <td>6</td>\n",
              "      <td>6</td>\n",
              "      <td>6</td>\n",
              "      <td>6</td>\n",
              "      <td>6</td>\n",
              "      <td>6</td>\n",
              "      <td>6</td>\n",
              "      <td>6</td>\n",
              "      <td>6</td>\n",
              "      <td>5</td>\n",
              "      <td>5</td>\n",
              "    </tr>\n",
              "    <tr>\n",
              "      <th>Cusco</th>\n",
              "      <td>2</td>\n",
              "      <td>2</td>\n",
              "      <td>2</td>\n",
              "      <td>2</td>\n",
              "      <td>2</td>\n",
              "      <td>2</td>\n",
              "      <td>2</td>\n",
              "      <td>2</td>\n",
              "      <td>2</td>\n",
              "      <td>2</td>\n",
              "      <td>2</td>\n",
              "      <td>2</td>\n",
              "      <td>2</td>\n",
              "      <td>2</td>\n",
              "      <td>2</td>\n",
              "      <td>2</td>\n",
              "      <td>2</td>\n",
              "      <td>2</td>\n",
              "      <td>2</td>\n",
              "      <td>2</td>\n",
              "      <td>2</td>\n",
              "      <td>2</td>\n",
              "      <td>2</td>\n",
              "      <td>2</td>\n",
              "      <td>2</td>\n",
              "      <td>2</td>\n",
              "      <td>2</td>\n",
              "      <td>2</td>\n",
              "      <td>2</td>\n",
              "      <td>2</td>\n",
              "      <td>2</td>\n",
              "    </tr>\n",
              "    <tr>\n",
              "      <th>Huanuco</th>\n",
              "      <td>1</td>\n",
              "      <td>1</td>\n",
              "      <td>1</td>\n",
              "      <td>1</td>\n",
              "      <td>1</td>\n",
              "      <td>1</td>\n",
              "      <td>1</td>\n",
              "      <td>1</td>\n",
              "      <td>1</td>\n",
              "      <td>1</td>\n",
              "      <td>1</td>\n",
              "      <td>1</td>\n",
              "      <td>1</td>\n",
              "      <td>1</td>\n",
              "      <td>1</td>\n",
              "      <td>1</td>\n",
              "      <td>1</td>\n",
              "      <td>1</td>\n",
              "      <td>1</td>\n",
              "      <td>1</td>\n",
              "      <td>1</td>\n",
              "      <td>1</td>\n",
              "      <td>1</td>\n",
              "      <td>1</td>\n",
              "      <td>1</td>\n",
              "      <td>1</td>\n",
              "      <td>1</td>\n",
              "      <td>1</td>\n",
              "      <td>1</td>\n",
              "      <td>1</td>\n",
              "      <td>1</td>\n",
              "    </tr>\n",
              "    <tr>\n",
              "      <th>Junín</th>\n",
              "      <td>4</td>\n",
              "      <td>4</td>\n",
              "      <td>4</td>\n",
              "      <td>4</td>\n",
              "      <td>4</td>\n",
              "      <td>4</td>\n",
              "      <td>4</td>\n",
              "      <td>4</td>\n",
              "      <td>4</td>\n",
              "      <td>4</td>\n",
              "      <td>4</td>\n",
              "      <td>4</td>\n",
              "      <td>4</td>\n",
              "      <td>4</td>\n",
              "      <td>4</td>\n",
              "      <td>4</td>\n",
              "      <td>4</td>\n",
              "      <td>4</td>\n",
              "      <td>4</td>\n",
              "      <td>4</td>\n",
              "      <td>4</td>\n",
              "      <td>4</td>\n",
              "      <td>4</td>\n",
              "      <td>4</td>\n",
              "      <td>4</td>\n",
              "      <td>4</td>\n",
              "      <td>4</td>\n",
              "      <td>4</td>\n",
              "      <td>4</td>\n",
              "      <td>4</td>\n",
              "      <td>4</td>\n",
              "    </tr>\n",
              "    <tr>\n",
              "      <th>Lima</th>\n",
              "      <td>96</td>\n",
              "      <td>96</td>\n",
              "      <td>96</td>\n",
              "      <td>96</td>\n",
              "      <td>96</td>\n",
              "      <td>96</td>\n",
              "      <td>96</td>\n",
              "      <td>96</td>\n",
              "      <td>96</td>\n",
              "      <td>96</td>\n",
              "      <td>96</td>\n",
              "      <td>96</td>\n",
              "      <td>96</td>\n",
              "      <td>96</td>\n",
              "      <td>96</td>\n",
              "      <td>96</td>\n",
              "      <td>96</td>\n",
              "      <td>96</td>\n",
              "      <td>96</td>\n",
              "      <td>96</td>\n",
              "      <td>96</td>\n",
              "      <td>96</td>\n",
              "      <td>96</td>\n",
              "      <td>96</td>\n",
              "      <td>96</td>\n",
              "      <td>96</td>\n",
              "      <td>96</td>\n",
              "      <td>96</td>\n",
              "      <td>96</td>\n",
              "      <td>96</td>\n",
              "      <td>95</td>\n",
              "    </tr>\n",
              "    <tr>\n",
              "      <th>Piura</th>\n",
              "      <td>1</td>\n",
              "      <td>1</td>\n",
              "      <td>1</td>\n",
              "      <td>1</td>\n",
              "      <td>1</td>\n",
              "      <td>1</td>\n",
              "      <td>1</td>\n",
              "      <td>1</td>\n",
              "      <td>1</td>\n",
              "      <td>1</td>\n",
              "      <td>1</td>\n",
              "      <td>1</td>\n",
              "      <td>1</td>\n",
              "      <td>1</td>\n",
              "      <td>1</td>\n",
              "      <td>1</td>\n",
              "      <td>1</td>\n",
              "      <td>1</td>\n",
              "      <td>1</td>\n",
              "      <td>1</td>\n",
              "      <td>1</td>\n",
              "      <td>1</td>\n",
              "      <td>1</td>\n",
              "      <td>1</td>\n",
              "      <td>1</td>\n",
              "      <td>1</td>\n",
              "      <td>1</td>\n",
              "      <td>1</td>\n",
              "      <td>1</td>\n",
              "      <td>1</td>\n",
              "      <td>1</td>\n",
              "    </tr>\n",
              "    <tr>\n",
              "      <th>Puno</th>\n",
              "      <td>1</td>\n",
              "      <td>1</td>\n",
              "      <td>1</td>\n",
              "      <td>1</td>\n",
              "      <td>1</td>\n",
              "      <td>1</td>\n",
              "      <td>1</td>\n",
              "      <td>1</td>\n",
              "      <td>1</td>\n",
              "      <td>1</td>\n",
              "      <td>1</td>\n",
              "      <td>1</td>\n",
              "      <td>1</td>\n",
              "      <td>1</td>\n",
              "      <td>1</td>\n",
              "      <td>1</td>\n",
              "      <td>1</td>\n",
              "      <td>1</td>\n",
              "      <td>1</td>\n",
              "      <td>1</td>\n",
              "      <td>1</td>\n",
              "      <td>1</td>\n",
              "      <td>1</td>\n",
              "      <td>1</td>\n",
              "      <td>1</td>\n",
              "      <td>1</td>\n",
              "      <td>1</td>\n",
              "      <td>1</td>\n",
              "      <td>1</td>\n",
              "      <td>1</td>\n",
              "      <td>1</td>\n",
              "    </tr>\n",
              "  </tbody>\n",
              "</table>\n",
              "</div>"
            ],
            "text/plain": [
              "          Codigo  AnioNac  Sexo  ...  VocacionXpresion  PadreSep  ProbFamiliFreq\n",
              "CiudNac                          ...                                            \n",
              "Ancash         4        4     4  ...                 4         4               4\n",
              "Apurimac       1        1     1  ...                 1         1               1\n",
              "Arequipa       1        1     1  ...                 1         1               1\n",
              "Ayacucho       2        2     2  ...                 2         2               2\n",
              "Callao         6        6     6  ...                 6         5               5\n",
              "Cusco          2        2     2  ...                 2         2               2\n",
              "Huanuco        1        1     1  ...                 1         1               1\n",
              "Junín          4        4     4  ...                 4         4               4\n",
              "Lima          96       96    96  ...                96        96              95\n",
              "Piura          1        1     1  ...                 1         1               1\n",
              "Puno           1        1     1  ...                 1         1               1\n",
              "\n",
              "[11 rows x 31 columns]"
            ]
          },
          "metadata": {
            "tags": []
          },
          "execution_count": 25
        }
      ]
    },
    {
      "cell_type": "code",
      "metadata": {
        "id": "i-V7fh1Tjq6-",
        "colab_type": "code",
        "colab": {
          "base_uri": "https://localhost:8080/",
          "height": 578
        },
        "outputId": "f95e13dc-376d-4fdf-a865-699f1f773ea7"
      },
      "source": [
        "dt.isnull().sum(axis=0)\n"
      ],
      "execution_count": 26,
      "outputs": [
        {
          "output_type": "execute_result",
          "data": {
            "text/plain": [
              "Codigo                  0\n",
              "AnioNac                 0\n",
              "Sexo                    0\n",
              "Resid                   0\n",
              "TipoCole                0\n",
              "MesIngres               0\n",
              "TipoIngres              0\n",
              "PuntajeIngre            0\n",
              "CurDes1Ano              0\n",
              "PrimRep                 0\n",
              "SegRep                  0\n",
              "TercRep                 0\n",
              "Mas3Rep                 0\n",
              "EduMadre                0\n",
              "EduPadre                0\n",
              "OcuPadre                1\n",
              "OcuMadre                1\n",
              "ClaseSoc                0\n",
              "TempViajeUni            0\n",
              "NumHermano              0\n",
              "HermanoEstSup           0\n",
              "EstadCivilInicio        0\n",
              "PrepaAcademia           0\n",
              "TempPrepAcadem          0\n",
              "EdadIngreso             0\n",
              "AporteEcono             0\n",
              "TrabajoUniversi1Anio    0\n",
              "SatisfCalidad           0\n",
              "VocacionXpresion        0\n",
              "CiudNac                 6\n",
              "PadreSep                7\n",
              "ProbFamiliFreq          8\n",
              "dtype: int64"
            ]
          },
          "metadata": {
            "tags": []
          },
          "execution_count": 26
        }
      ]
    },
    {
      "cell_type": "code",
      "metadata": {
        "id": "GYHmMBVMjq7A",
        "colab_type": "code",
        "colab": {
          "base_uri": "https://localhost:8080/",
          "height": 221
        },
        "outputId": "806c009a-0c7e-4c94-e966-2c1dec988572"
      },
      "source": [
        "dt.CiudNac.value_counts()"
      ],
      "execution_count": 27,
      "outputs": [
        {
          "output_type": "execute_result",
          "data": {
            "text/plain": [
              "Lima        96\n",
              "Callao       6\n",
              "Ancash       4\n",
              "Junín        4\n",
              "Cusco        2\n",
              "Ayacucho     2\n",
              "Apurimac     1\n",
              "Huanuco      1\n",
              "Puno         1\n",
              "Arequipa     1\n",
              "Piura        1\n",
              "Name: CiudNac, dtype: int64"
            ]
          },
          "metadata": {
            "tags": []
          },
          "execution_count": 27
        }
      ]
    },
    {
      "cell_type": "code",
      "metadata": {
        "id": "5G-kJnDqjq7C",
        "colab_type": "code",
        "colab": {
          "base_uri": "https://localhost:8080/",
          "height": 34
        },
        "outputId": "5c10fa2a-6ee5-46ab-ed54-770bebad4c71"
      },
      "source": [
        "dt.CiudNac.value_counts().index[0]"
      ],
      "execution_count": 28,
      "outputs": [
        {
          "output_type": "execute_result",
          "data": {
            "text/plain": [
              "'Lima'"
            ]
          },
          "metadata": {
            "tags": []
          },
          "execution_count": 28
        }
      ]
    },
    {
      "cell_type": "code",
      "metadata": {
        "id": "K9tGB3Ihjq7F",
        "colab_type": "code",
        "colab": {
          "base_uri": "https://localhost:8080/",
          "height": 151
        },
        "outputId": "14a40e31-52e7-4a80-b40d-404edf360af6"
      },
      "source": [
        "fil=dt[dt.OcuPadre.isnull()]\n",
        "fil"
      ],
      "execution_count": 29,
      "outputs": [
        {
          "output_type": "execute_result",
          "data": {
            "text/html": [
              "<div>\n",
              "<style scoped>\n",
              "    .dataframe tbody tr th:only-of-type {\n",
              "        vertical-align: middle;\n",
              "    }\n",
              "\n",
              "    .dataframe tbody tr th {\n",
              "        vertical-align: top;\n",
              "    }\n",
              "\n",
              "    .dataframe thead th {\n",
              "        text-align: right;\n",
              "    }\n",
              "</style>\n",
              "<table border=\"1\" class=\"dataframe\">\n",
              "  <thead>\n",
              "    <tr style=\"text-align: right;\">\n",
              "      <th></th>\n",
              "      <th>Codigo</th>\n",
              "      <th>AnioNac</th>\n",
              "      <th>Sexo</th>\n",
              "      <th>Resid</th>\n",
              "      <th>TipoCole</th>\n",
              "      <th>MesIngres</th>\n",
              "      <th>TipoIngres</th>\n",
              "      <th>PuntajeIngre</th>\n",
              "      <th>CurDes1Ano</th>\n",
              "      <th>PrimRep</th>\n",
              "      <th>SegRep</th>\n",
              "      <th>TercRep</th>\n",
              "      <th>Mas3Rep</th>\n",
              "      <th>EduMadre</th>\n",
              "      <th>EduPadre</th>\n",
              "      <th>OcuPadre</th>\n",
              "      <th>OcuMadre</th>\n",
              "      <th>ClaseSoc</th>\n",
              "      <th>TempViajeUni</th>\n",
              "      <th>NumHermano</th>\n",
              "      <th>HermanoEstSup</th>\n",
              "      <th>EstadCivilInicio</th>\n",
              "      <th>PrepaAcademia</th>\n",
              "      <th>TempPrepAcadem</th>\n",
              "      <th>EdadIngreso</th>\n",
              "      <th>AporteEcono</th>\n",
              "      <th>TrabajoUniversi1Anio</th>\n",
              "      <th>SatisfCalidad</th>\n",
              "      <th>VocacionXpresion</th>\n",
              "      <th>CiudNac</th>\n",
              "      <th>PadreSep</th>\n",
              "      <th>ProbFamiliFreq</th>\n",
              "    </tr>\n",
              "  </thead>\n",
              "  <tbody>\n",
              "    <tr>\n",
              "      <th>1</th>\n",
              "      <td>15200015</td>\n",
              "      <td>1995</td>\n",
              "      <td>Hombre</td>\n",
              "      <td>SAN MARTIN DE PORRES</td>\n",
              "      <td>PARTICULAR</td>\n",
              "      <td>Setiembre</td>\n",
              "      <td>EXAMEN ORDINARIO</td>\n",
              "      <td>1530.0</td>\n",
              "      <td>0</td>\n",
              "      <td>4</td>\n",
              "      <td>1</td>\n",
              "      <td>0</td>\n",
              "      <td>No</td>\n",
              "      <td>SECUNDARIA</td>\n",
              "      <td>UNIVERSITARIA</td>\n",
              "      <td>NaN</td>\n",
              "      <td>NaN</td>\n",
              "      <td>CLASE MEDIA BAJA</td>\n",
              "      <td>MENOS DE UNA HORA</td>\n",
              "      <td>4</td>\n",
              "      <td>Sí</td>\n",
              "      <td>SOLTERO</td>\n",
              "      <td>Sí</td>\n",
              "      <td>DOS AÑOS</td>\n",
              "      <td>19</td>\n",
              "      <td>NO</td>\n",
              "      <td>Sí</td>\n",
              "      <td>No</td>\n",
              "      <td>Sí</td>\n",
              "      <td>NaN</td>\n",
              "      <td>NaN</td>\n",
              "      <td>NaN</td>\n",
              "    </tr>\n",
              "  </tbody>\n",
              "</table>\n",
              "</div>"
            ],
            "text/plain": [
              "     Codigo  AnioNac    Sexo  ... CiudNac PadreSep ProbFamiliFreq\n",
              "1  15200015     1995  Hombre  ...     NaN      NaN            NaN\n",
              "\n",
              "[1 rows x 32 columns]"
            ]
          },
          "metadata": {
            "tags": []
          },
          "execution_count": 29
        }
      ]
    },
    {
      "cell_type": "markdown",
      "metadata": {
        "id": "-eePqejmjq7H",
        "colab_type": "text"
      },
      "source": [
        "##LLenando valores Nulso"
      ]
    },
    {
      "cell_type": "code",
      "metadata": {
        "id": "CAxA7eiijq7H",
        "colab_type": "code",
        "colab": {
          "base_uri": "https://localhost:8080/",
          "height": 0
        },
        "outputId": "214ad271-d099-4c1a-f455-3e1fbe674ae9"
      },
      "source": [
        "#LLenando valores nulos de CiudNac\n",
        "dt.loc[:,'CiudNac']=dt.loc[:,'CiudNac'].fillna(dt.CiudNac.value_counts().index[0])\n",
        "dt.CiudNac.value_counts()"
      ],
      "execution_count": 30,
      "outputs": [
        {
          "output_type": "execute_result",
          "data": {
            "text/plain": [
              "Lima        102\n",
              "Callao        6\n",
              "Ancash        4\n",
              "Junín         4\n",
              "Cusco         2\n",
              "Ayacucho      2\n",
              "Apurimac      1\n",
              "Huanuco       1\n",
              "Puno          1\n",
              "Arequipa      1\n",
              "Piura         1\n",
              "Name: CiudNac, dtype: int64"
            ]
          },
          "metadata": {
            "tags": []
          },
          "execution_count": 30
        }
      ]
    },
    {
      "cell_type": "code",
      "metadata": {
        "id": "WZTnMMvwjq7K",
        "colab_type": "code",
        "colab": {
          "base_uri": "https://localhost:8080/",
          "height": 0
        },
        "outputId": "5c5b0ffc-845d-48d3-b28f-72c49a97cc0e"
      },
      "source": [
        "dt.isnull().sum(axis=0)"
      ],
      "execution_count": 31,
      "outputs": [
        {
          "output_type": "execute_result",
          "data": {
            "text/plain": [
              "Codigo                  0\n",
              "AnioNac                 0\n",
              "Sexo                    0\n",
              "Resid                   0\n",
              "TipoCole                0\n",
              "MesIngres               0\n",
              "TipoIngres              0\n",
              "PuntajeIngre            0\n",
              "CurDes1Ano              0\n",
              "PrimRep                 0\n",
              "SegRep                  0\n",
              "TercRep                 0\n",
              "Mas3Rep                 0\n",
              "EduMadre                0\n",
              "EduPadre                0\n",
              "OcuPadre                1\n",
              "OcuMadre                1\n",
              "ClaseSoc                0\n",
              "TempViajeUni            0\n",
              "NumHermano              0\n",
              "HermanoEstSup           0\n",
              "EstadCivilInicio        0\n",
              "PrepaAcademia           0\n",
              "TempPrepAcadem          0\n",
              "EdadIngreso             0\n",
              "AporteEcono             0\n",
              "TrabajoUniversi1Anio    0\n",
              "SatisfCalidad           0\n",
              "VocacionXpresion        0\n",
              "CiudNac                 0\n",
              "PadreSep                7\n",
              "ProbFamiliFreq          8\n",
              "dtype: int64"
            ]
          },
          "metadata": {
            "tags": []
          },
          "execution_count": 31
        }
      ]
    },
    {
      "cell_type": "code",
      "metadata": {
        "id": "EKywFagyjq7M",
        "colab_type": "code",
        "colab": {
          "base_uri": "https://localhost:8080/",
          "height": 0
        },
        "outputId": "a2eb23bd-cecc-4d23-c1d7-da19a14c6df5"
      },
      "source": [
        "dt.OcuMadre.value_counts()"
      ],
      "execution_count": 32,
      "outputs": [
        {
          "output_type": "execute_result",
          "data": {
            "text/plain": [
              "OCUPACIONES BASICAS                                                                72\n",
              "TRABAJADORES DE SERVICIOS DE PROTECCION, PERSONALES, RESTAURACION, Y VENDEDORES    17\n",
              "PROFESIONAL                                                                        12\n",
              "TECNICO O PROFESIONAL DE APOYO                                                     10\n",
              "EMPLEADO CONTABLE, ADMINISTRATIVO U OTRO EMPLEADO DE OFICINA                        8\n",
              "TRABAJADORES DE LA INDUSTRIA MANUFACTURERA O CONSTRUCCION                           3\n",
              "TRABAJADORES EN EL SECTOR AGRICOLA, PESQUERO, GANADERO O FORESTAL                   2\n",
              "Name: OcuMadre, dtype: int64"
            ]
          },
          "metadata": {
            "tags": []
          },
          "execution_count": 32
        }
      ]
    },
    {
      "cell_type": "code",
      "metadata": {
        "id": "4fiZxUr9jq7O",
        "colab_type": "code",
        "colab": {
          "base_uri": "https://localhost:8080/",
          "height": 0
        },
        "outputId": "c59e0855-1c82-4f0d-ec24-02e1ab5de60e"
      },
      "source": [
        "#LLenando valores nulos de OcuMadre\n",
        "dt.loc[:,'OcuMadre']=dt.loc[:,'OcuMadre'].fillna(dt.OcuMadre.value_counts().index[0])\n",
        "dt.isnull().sum(axis=0)"
      ],
      "execution_count": 33,
      "outputs": [
        {
          "output_type": "execute_result",
          "data": {
            "text/plain": [
              "Codigo                  0\n",
              "AnioNac                 0\n",
              "Sexo                    0\n",
              "Resid                   0\n",
              "TipoCole                0\n",
              "MesIngres               0\n",
              "TipoIngres              0\n",
              "PuntajeIngre            0\n",
              "CurDes1Ano              0\n",
              "PrimRep                 0\n",
              "SegRep                  0\n",
              "TercRep                 0\n",
              "Mas3Rep                 0\n",
              "EduMadre                0\n",
              "EduPadre                0\n",
              "OcuPadre                1\n",
              "OcuMadre                0\n",
              "ClaseSoc                0\n",
              "TempViajeUni            0\n",
              "NumHermano              0\n",
              "HermanoEstSup           0\n",
              "EstadCivilInicio        0\n",
              "PrepaAcademia           0\n",
              "TempPrepAcadem          0\n",
              "EdadIngreso             0\n",
              "AporteEcono             0\n",
              "TrabajoUniversi1Anio    0\n",
              "SatisfCalidad           0\n",
              "VocacionXpresion        0\n",
              "CiudNac                 0\n",
              "PadreSep                7\n",
              "ProbFamiliFreq          8\n",
              "dtype: int64"
            ]
          },
          "metadata": {
            "tags": []
          },
          "execution_count": 33
        }
      ]
    },
    {
      "cell_type": "code",
      "metadata": {
        "id": "SU6BVuCpjq7R",
        "colab_type": "code",
        "colab": {
          "base_uri": "https://localhost:8080/",
          "height": 0
        },
        "outputId": "a959b3f6-5626-4785-b07c-c96cdc34fc06"
      },
      "source": [
        "dt.PadreSep.value_counts()"
      ],
      "execution_count": 34,
      "outputs": [
        {
          "output_type": "execute_result",
          "data": {
            "text/plain": [
              "No    80\n",
              "Sí    38\n",
              "Name: PadreSep, dtype: int64"
            ]
          },
          "metadata": {
            "tags": []
          },
          "execution_count": 34
        }
      ]
    },
    {
      "cell_type": "code",
      "metadata": {
        "id": "mFy-AuA5jq7T",
        "colab_type": "code",
        "colab": {
          "base_uri": "https://localhost:8080/",
          "height": 0
        },
        "outputId": "d3d73a0a-f130-44b6-cf70-adba0b71faa9"
      },
      "source": [
        "dt.PadreSep.fillna(dt.PadreSep.value_counts().index[0],inplace=True)\n",
        "dt.PadreSep.value_counts()"
      ],
      "execution_count": 35,
      "outputs": [
        {
          "output_type": "execute_result",
          "data": {
            "text/plain": [
              "No    87\n",
              "Sí    38\n",
              "Name: PadreSep, dtype: int64"
            ]
          },
          "metadata": {
            "tags": []
          },
          "execution_count": 35
        }
      ]
    },
    {
      "cell_type": "code",
      "metadata": {
        "id": "zKTkMG1Xjq7V",
        "colab_type": "code",
        "colab": {
          "base_uri": "https://localhost:8080/",
          "height": 0
        },
        "outputId": "526b8697-d4ef-4df3-e0a5-8aba0707b5e7"
      },
      "source": [
        "dt.ProbFamiliFreq.value_counts()"
      ],
      "execution_count": 36,
      "outputs": [
        {
          "output_type": "execute_result",
          "data": {
            "text/plain": [
              "No    87\n",
              "Sí    30\n",
              "Name: ProbFamiliFreq, dtype: int64"
            ]
          },
          "metadata": {
            "tags": []
          },
          "execution_count": 36
        }
      ]
    },
    {
      "cell_type": "code",
      "metadata": {
        "id": "H9wMCKq1jq7X",
        "colab_type": "code",
        "colab": {
          "base_uri": "https://localhost:8080/",
          "height": 0
        },
        "outputId": "494b745a-3c37-47cc-fa95-1c89c512da36"
      },
      "source": [
        "dt.ProbFamiliFreq.fillna(dt.ProbFamiliFreq.value_counts().index[0],inplace=True)\n",
        "dt.ProbFamiliFreq.value_counts()"
      ],
      "execution_count": 37,
      "outputs": [
        {
          "output_type": "execute_result",
          "data": {
            "text/plain": [
              "No    95\n",
              "Sí    30\n",
              "Name: ProbFamiliFreq, dtype: int64"
            ]
          },
          "metadata": {
            "tags": []
          },
          "execution_count": 37
        }
      ]
    },
    {
      "cell_type": "code",
      "metadata": {
        "id": "SaZK3JRQjq7Z",
        "colab_type": "code",
        "colab": {
          "base_uri": "https://localhost:8080/",
          "height": 0
        },
        "outputId": "8cf8571b-da8c-4c41-cb89-4d01a83a0671"
      },
      "source": [
        "dt.isnull().sum(axis=0)"
      ],
      "execution_count": 38,
      "outputs": [
        {
          "output_type": "execute_result",
          "data": {
            "text/plain": [
              "Codigo                  0\n",
              "AnioNac                 0\n",
              "Sexo                    0\n",
              "Resid                   0\n",
              "TipoCole                0\n",
              "MesIngres               0\n",
              "TipoIngres              0\n",
              "PuntajeIngre            0\n",
              "CurDes1Ano              0\n",
              "PrimRep                 0\n",
              "SegRep                  0\n",
              "TercRep                 0\n",
              "Mas3Rep                 0\n",
              "EduMadre                0\n",
              "EduPadre                0\n",
              "OcuPadre                1\n",
              "OcuMadre                0\n",
              "ClaseSoc                0\n",
              "TempViajeUni            0\n",
              "NumHermano              0\n",
              "HermanoEstSup           0\n",
              "EstadCivilInicio        0\n",
              "PrepaAcademia           0\n",
              "TempPrepAcadem          0\n",
              "EdadIngreso             0\n",
              "AporteEcono             0\n",
              "TrabajoUniversi1Anio    0\n",
              "SatisfCalidad           0\n",
              "VocacionXpresion        0\n",
              "CiudNac                 0\n",
              "PadreSep                0\n",
              "ProbFamiliFreq          0\n",
              "dtype: int64"
            ]
          },
          "metadata": {
            "tags": []
          },
          "execution_count": 38
        }
      ]
    },
    {
      "cell_type": "code",
      "metadata": {
        "id": "ITDXTkPNjq7b",
        "colab_type": "code",
        "colab": {
          "base_uri": "https://localhost:8080/",
          "height": 0
        },
        "outputId": "498f71d8-57f6-457e-e39f-929d51caa8f5"
      },
      "source": [
        "dt.head(10)"
      ],
      "execution_count": 39,
      "outputs": [
        {
          "output_type": "execute_result",
          "data": {
            "text/html": [
              "<div>\n",
              "<style scoped>\n",
              "    .dataframe tbody tr th:only-of-type {\n",
              "        vertical-align: middle;\n",
              "    }\n",
              "\n",
              "    .dataframe tbody tr th {\n",
              "        vertical-align: top;\n",
              "    }\n",
              "\n",
              "    .dataframe thead th {\n",
              "        text-align: right;\n",
              "    }\n",
              "</style>\n",
              "<table border=\"1\" class=\"dataframe\">\n",
              "  <thead>\n",
              "    <tr style=\"text-align: right;\">\n",
              "      <th></th>\n",
              "      <th>Codigo</th>\n",
              "      <th>AnioNac</th>\n",
              "      <th>Sexo</th>\n",
              "      <th>Resid</th>\n",
              "      <th>TipoCole</th>\n",
              "      <th>MesIngres</th>\n",
              "      <th>TipoIngres</th>\n",
              "      <th>PuntajeIngre</th>\n",
              "      <th>CurDes1Ano</th>\n",
              "      <th>PrimRep</th>\n",
              "      <th>SegRep</th>\n",
              "      <th>TercRep</th>\n",
              "      <th>Mas3Rep</th>\n",
              "      <th>EduMadre</th>\n",
              "      <th>EduPadre</th>\n",
              "      <th>OcuPadre</th>\n",
              "      <th>OcuMadre</th>\n",
              "      <th>ClaseSoc</th>\n",
              "      <th>TempViajeUni</th>\n",
              "      <th>NumHermano</th>\n",
              "      <th>HermanoEstSup</th>\n",
              "      <th>EstadCivilInicio</th>\n",
              "      <th>PrepaAcademia</th>\n",
              "      <th>TempPrepAcadem</th>\n",
              "      <th>EdadIngreso</th>\n",
              "      <th>AporteEcono</th>\n",
              "      <th>TrabajoUniversi1Anio</th>\n",
              "      <th>SatisfCalidad</th>\n",
              "      <th>VocacionXpresion</th>\n",
              "      <th>CiudNac</th>\n",
              "      <th>PadreSep</th>\n",
              "      <th>ProbFamiliFreq</th>\n",
              "    </tr>\n",
              "  </thead>\n",
              "  <tbody>\n",
              "    <tr>\n",
              "      <th>0</th>\n",
              "      <td>15200053</td>\n",
              "      <td>1996</td>\n",
              "      <td>Hombre</td>\n",
              "      <td>LINCE</td>\n",
              "      <td>PARTICULAR</td>\n",
              "      <td>Setiembre</td>\n",
              "      <td>CEPRE</td>\n",
              "      <td>1350.0</td>\n",
              "      <td>0</td>\n",
              "      <td>2</td>\n",
              "      <td>0</td>\n",
              "      <td>0</td>\n",
              "      <td>No</td>\n",
              "      <td>TECNICA</td>\n",
              "      <td>UNIVERSITARIA</td>\n",
              "      <td>PROFESIONAL</td>\n",
              "      <td>OCUPACIONES BASICAS</td>\n",
              "      <td>CLASE MEDIA</td>\n",
              "      <td>MENOS DE UNA HORA</td>\n",
              "      <td>1</td>\n",
              "      <td>Sí</td>\n",
              "      <td>SOLTERO</td>\n",
              "      <td>Sí</td>\n",
              "      <td>UN AÑO Y MEDIO</td>\n",
              "      <td>18</td>\n",
              "      <td>NO</td>\n",
              "      <td>No</td>\n",
              "      <td>Sí</td>\n",
              "      <td>Sí</td>\n",
              "      <td>Lima</td>\n",
              "      <td>No</td>\n",
              "      <td>No</td>\n",
              "    </tr>\n",
              "    <tr>\n",
              "      <th>1</th>\n",
              "      <td>15200015</td>\n",
              "      <td>1995</td>\n",
              "      <td>Hombre</td>\n",
              "      <td>SAN MARTIN DE PORRES</td>\n",
              "      <td>PARTICULAR</td>\n",
              "      <td>Setiembre</td>\n",
              "      <td>EXAMEN ORDINARIO</td>\n",
              "      <td>1530.0</td>\n",
              "      <td>0</td>\n",
              "      <td>4</td>\n",
              "      <td>1</td>\n",
              "      <td>0</td>\n",
              "      <td>No</td>\n",
              "      <td>SECUNDARIA</td>\n",
              "      <td>UNIVERSITARIA</td>\n",
              "      <td>NaN</td>\n",
              "      <td>OCUPACIONES BASICAS</td>\n",
              "      <td>CLASE MEDIA BAJA</td>\n",
              "      <td>MENOS DE UNA HORA</td>\n",
              "      <td>4</td>\n",
              "      <td>Sí</td>\n",
              "      <td>SOLTERO</td>\n",
              "      <td>Sí</td>\n",
              "      <td>DOS AÑOS</td>\n",
              "      <td>19</td>\n",
              "      <td>NO</td>\n",
              "      <td>Sí</td>\n",
              "      <td>No</td>\n",
              "      <td>Sí</td>\n",
              "      <td>Lima</td>\n",
              "      <td>No</td>\n",
              "      <td>No</td>\n",
              "    </tr>\n",
              "    <tr>\n",
              "      <th>2</th>\n",
              "      <td>15200052</td>\n",
              "      <td>1994</td>\n",
              "      <td>Hombre</td>\n",
              "      <td>SAN JUAN DE LURIGANCHO</td>\n",
              "      <td>PARTICULAR</td>\n",
              "      <td>Setiembre</td>\n",
              "      <td>CEPRE</td>\n",
              "      <td>1300.0</td>\n",
              "      <td>1</td>\n",
              "      <td>4</td>\n",
              "      <td>1</td>\n",
              "      <td>0</td>\n",
              "      <td>No</td>\n",
              "      <td>PRIMARIA</td>\n",
              "      <td>SECUNDARIA</td>\n",
              "      <td>OCUPACIONES BASICAS</td>\n",
              "      <td>OCUPACIONES BASICAS</td>\n",
              "      <td>CLASE MEDIA</td>\n",
              "      <td>DOS HORAS</td>\n",
              "      <td>2</td>\n",
              "      <td>Sí</td>\n",
              "      <td>SOLTERO</td>\n",
              "      <td>No</td>\n",
              "      <td>NO SE PREPARO EN ACADEMIA</td>\n",
              "      <td>20</td>\n",
              "      <td>NO</td>\n",
              "      <td>No</td>\n",
              "      <td>Sí</td>\n",
              "      <td>Sí</td>\n",
              "      <td>Lima</td>\n",
              "      <td>No</td>\n",
              "      <td>No</td>\n",
              "    </tr>\n",
              "    <tr>\n",
              "      <th>3</th>\n",
              "      <td>15200024</td>\n",
              "      <td>1996</td>\n",
              "      <td>Hombre</td>\n",
              "      <td>LIMA</td>\n",
              "      <td>PARTICULAR</td>\n",
              "      <td>Setiembre</td>\n",
              "      <td>EXAMEN ORDINARIO</td>\n",
              "      <td>1589.9</td>\n",
              "      <td>0</td>\n",
              "      <td>0</td>\n",
              "      <td>0</td>\n",
              "      <td>0</td>\n",
              "      <td>No</td>\n",
              "      <td>TECNICA</td>\n",
              "      <td>UNIVERSITARIA</td>\n",
              "      <td>PROFESIONAL</td>\n",
              "      <td>TECNICO O PROFESIONAL DE APOYO</td>\n",
              "      <td>CLASE MEDIA BAJA</td>\n",
              "      <td>HORA Y MEDIA</td>\n",
              "      <td>0</td>\n",
              "      <td>No</td>\n",
              "      <td>SOLTERO</td>\n",
              "      <td>Sí</td>\n",
              "      <td>UN AÑO Y MEDIO</td>\n",
              "      <td>15</td>\n",
              "      <td>NO</td>\n",
              "      <td>No</td>\n",
              "      <td>No</td>\n",
              "      <td>Sí</td>\n",
              "      <td>Lima</td>\n",
              "      <td>No</td>\n",
              "      <td>No</td>\n",
              "    </tr>\n",
              "    <tr>\n",
              "      <th>4</th>\n",
              "      <td>15200125</td>\n",
              "      <td>1996</td>\n",
              "      <td>Mujer</td>\n",
              "      <td>VILLA EL SALVADOR</td>\n",
              "      <td>NACIONAL</td>\n",
              "      <td>Marzo</td>\n",
              "      <td>EXAMEN ORDINARIO</td>\n",
              "      <td>1520.0</td>\n",
              "      <td>1</td>\n",
              "      <td>7</td>\n",
              "      <td>0</td>\n",
              "      <td>0</td>\n",
              "      <td>No</td>\n",
              "      <td>SECUNDARIA</td>\n",
              "      <td>SECUNDARIA</td>\n",
              "      <td>TRABAJADORES DE LA INDUSTRIA MANUFACTURERA O C...</td>\n",
              "      <td>TRABAJADORES DE SERVICIOS DE PROTECCION, PERSO...</td>\n",
              "      <td>CLASE MEDIA</td>\n",
              "      <td>DOS HORAS</td>\n",
              "      <td>3</td>\n",
              "      <td>No</td>\n",
              "      <td>SOLTERO</td>\n",
              "      <td>Sí</td>\n",
              "      <td>DOS AÑOS</td>\n",
              "      <td>18</td>\n",
              "      <td>NO</td>\n",
              "      <td>No</td>\n",
              "      <td>No</td>\n",
              "      <td>Sí</td>\n",
              "      <td>Lima</td>\n",
              "      <td>No</td>\n",
              "      <td>No</td>\n",
              "    </tr>\n",
              "    <tr>\n",
              "      <th>5</th>\n",
              "      <td>16200033</td>\n",
              "      <td>1997</td>\n",
              "      <td>Mujer</td>\n",
              "      <td>COMAS</td>\n",
              "      <td>PARROQUIAL</td>\n",
              "      <td>Setiembre</td>\n",
              "      <td>EXAMEN ORDINARIO</td>\n",
              "      <td>1400.0</td>\n",
              "      <td>0</td>\n",
              "      <td>1</td>\n",
              "      <td>0</td>\n",
              "      <td>0</td>\n",
              "      <td>No</td>\n",
              "      <td>TECNICA</td>\n",
              "      <td>TECNICA</td>\n",
              "      <td>TRABAJADORES DE SERVICIOS DE SEGURIDAD, RESTAU...</td>\n",
              "      <td>OCUPACIONES BASICAS</td>\n",
              "      <td>CLASE MEDIA</td>\n",
              "      <td>UN HORA</td>\n",
              "      <td>2</td>\n",
              "      <td>Sí</td>\n",
              "      <td>SOLTERO</td>\n",
              "      <td>Sí</td>\n",
              "      <td>UN AÑO Y MEDIO</td>\n",
              "      <td>17</td>\n",
              "      <td>NO</td>\n",
              "      <td>No</td>\n",
              "      <td>No</td>\n",
              "      <td>No</td>\n",
              "      <td>Lima</td>\n",
              "      <td>No</td>\n",
              "      <td>No</td>\n",
              "    </tr>\n",
              "    <tr>\n",
              "      <th>6</th>\n",
              "      <td>14200151</td>\n",
              "      <td>1996</td>\n",
              "      <td>Hombre</td>\n",
              "      <td>LIMA</td>\n",
              "      <td>PARTICULAR</td>\n",
              "      <td>Setiembre</td>\n",
              "      <td>CEPRE</td>\n",
              "      <td>1300.0</td>\n",
              "      <td>3</td>\n",
              "      <td>5</td>\n",
              "      <td>1</td>\n",
              "      <td>0</td>\n",
              "      <td>No</td>\n",
              "      <td>TECNICA</td>\n",
              "      <td>UNIVERSITARIA</td>\n",
              "      <td>PROFESIONAL</td>\n",
              "      <td>EMPLEADO CONTABLE, ADMINISTRATIVO U OTRO EMPLE...</td>\n",
              "      <td>CLASE MEDIA</td>\n",
              "      <td>MENOS DE UNA HORA</td>\n",
              "      <td>1</td>\n",
              "      <td>No</td>\n",
              "      <td>SOLTERO</td>\n",
              "      <td>Sí</td>\n",
              "      <td>UN AÑO</td>\n",
              "      <td>17</td>\n",
              "      <td>NO</td>\n",
              "      <td>No</td>\n",
              "      <td>No</td>\n",
              "      <td>Sí</td>\n",
              "      <td>Lima</td>\n",
              "      <td>No</td>\n",
              "      <td>No</td>\n",
              "    </tr>\n",
              "    <tr>\n",
              "      <th>7</th>\n",
              "      <td>15200114</td>\n",
              "      <td>1987</td>\n",
              "      <td>Hombre</td>\n",
              "      <td>VILLA MARIA DEL TRIUNFO</td>\n",
              "      <td>NACIONAL</td>\n",
              "      <td>Marzo</td>\n",
              "      <td>EXAMEN ORDINARIO</td>\n",
              "      <td>1475.0</td>\n",
              "      <td>3</td>\n",
              "      <td>15</td>\n",
              "      <td>4</td>\n",
              "      <td>1</td>\n",
              "      <td>No</td>\n",
              "      <td>PRIMARIA</td>\n",
              "      <td>PRIMARIA</td>\n",
              "      <td>OCUPACIONES BASICAS</td>\n",
              "      <td>OCUPACIONES BASICAS</td>\n",
              "      <td>CLASE MEDIA BAJA</td>\n",
              "      <td>DOS HORAS</td>\n",
              "      <td>4</td>\n",
              "      <td>Sí</td>\n",
              "      <td>SOLTERO</td>\n",
              "      <td>No</td>\n",
              "      <td>NO SE PREPARO EN ACADEMIA</td>\n",
              "      <td>27</td>\n",
              "      <td>SI</td>\n",
              "      <td>Sí</td>\n",
              "      <td>Sí</td>\n",
              "      <td>No</td>\n",
              "      <td>Lima</td>\n",
              "      <td>No</td>\n",
              "      <td>No</td>\n",
              "    </tr>\n",
              "    <tr>\n",
              "      <th>8</th>\n",
              "      <td>17200061</td>\n",
              "      <td>1999</td>\n",
              "      <td>Hombre</td>\n",
              "      <td>CARABAYLLO</td>\n",
              "      <td>PARTICULAR</td>\n",
              "      <td>Setiembre</td>\n",
              "      <td>EXAMEN ORDINARIO</td>\n",
              "      <td>1350.0</td>\n",
              "      <td>4</td>\n",
              "      <td>4</td>\n",
              "      <td>0</td>\n",
              "      <td>0</td>\n",
              "      <td>No</td>\n",
              "      <td>POSTGRADO</td>\n",
              "      <td>SECUNDARIA</td>\n",
              "      <td>OPERADOR DE MAQUINARIA</td>\n",
              "      <td>PROFESIONAL</td>\n",
              "      <td>CLASE MEDIA BAJA</td>\n",
              "      <td>DOS HORAS</td>\n",
              "      <td>3</td>\n",
              "      <td>Sí</td>\n",
              "      <td>SOLTERO</td>\n",
              "      <td>Sí</td>\n",
              "      <td>UN AÑO</td>\n",
              "      <td>16</td>\n",
              "      <td>NO</td>\n",
              "      <td>No</td>\n",
              "      <td>No</td>\n",
              "      <td>No</td>\n",
              "      <td>Ancash</td>\n",
              "      <td>No</td>\n",
              "      <td>Sí</td>\n",
              "    </tr>\n",
              "    <tr>\n",
              "      <th>9</th>\n",
              "      <td>16200020</td>\n",
              "      <td>1997</td>\n",
              "      <td>Hombre</td>\n",
              "      <td>SAN JUAN DE LURIGANCHO</td>\n",
              "      <td>PARTICULAR</td>\n",
              "      <td>Setiembre</td>\n",
              "      <td>EXAMEN ORDINARIO</td>\n",
              "      <td>1430.0</td>\n",
              "      <td>0</td>\n",
              "      <td>2</td>\n",
              "      <td>0</td>\n",
              "      <td>0</td>\n",
              "      <td>No</td>\n",
              "      <td>UNIVERSITARIA</td>\n",
              "      <td>TECNICA</td>\n",
              "      <td>OCUPACIONES BASICAS</td>\n",
              "      <td>OCUPACIONES BASICAS</td>\n",
              "      <td>CLASE MEDIA BAJA</td>\n",
              "      <td>DOS HORAS</td>\n",
              "      <td>2</td>\n",
              "      <td>No</td>\n",
              "      <td>SOLTERO</td>\n",
              "      <td>Sí</td>\n",
              "      <td>UN AÑO</td>\n",
              "      <td>19</td>\n",
              "      <td>NO</td>\n",
              "      <td>Sí</td>\n",
              "      <td>Sí</td>\n",
              "      <td>Sí</td>\n",
              "      <td>Lima</td>\n",
              "      <td>Sí</td>\n",
              "      <td>No</td>\n",
              "    </tr>\n",
              "  </tbody>\n",
              "</table>\n",
              "</div>"
            ],
            "text/plain": [
              "     Codigo  AnioNac    Sexo  ... CiudNac PadreSep ProbFamiliFreq\n",
              "0  15200053     1996  Hombre  ...    Lima       No             No\n",
              "1  15200015     1995  Hombre  ...    Lima       No             No\n",
              "2  15200052     1994  Hombre  ...    Lima       No             No\n",
              "3  15200024     1996  Hombre  ...    Lima       No             No\n",
              "4  15200125     1996   Mujer  ...    Lima       No             No\n",
              "5  16200033     1997   Mujer  ...    Lima       No             No\n",
              "6  14200151     1996  Hombre  ...    Lima       No             No\n",
              "7  15200114     1987  Hombre  ...    Lima       No             No\n",
              "8  17200061     1999  Hombre  ...  Ancash       No             Sí\n",
              "9  16200020     1997  Hombre  ...    Lima       Sí             No\n",
              "\n",
              "[10 rows x 32 columns]"
            ]
          },
          "metadata": {
            "tags": []
          },
          "execution_count": 39
        }
      ]
    },
    {
      "cell_type": "code",
      "metadata": {
        "id": "bq2J89Ftjq7d",
        "colab_type": "code",
        "colab": {
          "base_uri": "https://localhost:8080/",
          "height": 0
        },
        "outputId": "5dfbd0c2-9494-4e3b-c049-e6f3e660e48e"
      },
      "source": [
        "dt.PuntajeIngre.describe()"
      ],
      "execution_count": 40,
      "outputs": [
        {
          "output_type": "execute_result",
          "data": {
            "text/plain": [
              "count    1.250000e+02\n",
              "mean     1.365442e+05\n",
              "std      1.388986e+06\n",
              "min      1.100000e+01\n",
              "25%      1.300000e+03\n",
              "50%      1.410000e+03\n",
              "75%      1.500000e+03\n",
              "max      1.547625e+07\n",
              "Name: PuntajeIngre, dtype: float64"
            ]
          },
          "metadata": {
            "tags": []
          },
          "execution_count": 40
        }
      ]
    },
    {
      "cell_type": "code",
      "metadata": {
        "id": "OssZbjESjq7f",
        "colab_type": "code",
        "colab": {
          "base_uri": "https://localhost:8080/",
          "height": 0
        },
        "outputId": "8865dd61-e82e-4cfb-b686-c8fbfbe969af"
      },
      "source": [
        "dt.PuntajeIngre.min()"
      ],
      "execution_count": 41,
      "outputs": [
        {
          "output_type": "execute_result",
          "data": {
            "text/plain": [
              "11.0"
            ]
          },
          "metadata": {
            "tags": []
          },
          "execution_count": 41
        }
      ]
    },
    {
      "cell_type": "code",
      "metadata": {
        "id": "GrO3YA8fjq7h",
        "colab_type": "code",
        "colab": {
          "base_uri": "https://localhost:8080/",
          "height": 0
        },
        "outputId": "193e1c8d-c10c-4a04-ffc1-23b520d03a6c"
      },
      "source": [
        "dt.PuntajeIngre.max()"
      ],
      "execution_count": 42,
      "outputs": [
        {
          "output_type": "execute_result",
          "data": {
            "text/plain": [
              "15476250.0"
            ]
          },
          "metadata": {
            "tags": []
          },
          "execution_count": 42
        }
      ]
    },
    {
      "cell_type": "code",
      "metadata": {
        "id": "KHmRKXjKjq7i",
        "colab_type": "code",
        "colab": {
          "base_uri": "https://localhost:8080/",
          "height": 0
        },
        "outputId": "11812c13-8490-4cb4-e7ac-1a94ed68e266"
      },
      "source": [
        "dt.PuntajeIngre.sort_values(ascending=False).head()"
      ],
      "execution_count": 43,
      "outputs": [
        {
          "output_type": "execute_result",
          "data": {
            "text/plain": [
              "104    15476250.0\n",
              "75      1430675.0\n",
              "22         1800.0\n",
              "120        1750.0\n",
              "103        1707.0\n",
              "Name: PuntajeIngre, dtype: float64"
            ]
          },
          "metadata": {
            "tags": []
          },
          "execution_count": 43
        }
      ]
    },
    {
      "cell_type": "code",
      "metadata": {
        "id": "WYSMBOy5jq7k",
        "colab_type": "code",
        "colab": {
          "base_uri": "https://localhost:8080/",
          "height": 0
        },
        "outputId": "71eef1de-00c7-4bad-fc31-1a1c6b3327ca"
      },
      "source": [
        "#TRanformar a entero la columna de puntaje\n",
        "dt=dt.astype({'PuntajeIngre':int})\n",
        "dt.head()"
      ],
      "execution_count": 44,
      "outputs": [
        {
          "output_type": "execute_result",
          "data": {
            "text/html": [
              "<div>\n",
              "<style scoped>\n",
              "    .dataframe tbody tr th:only-of-type {\n",
              "        vertical-align: middle;\n",
              "    }\n",
              "\n",
              "    .dataframe tbody tr th {\n",
              "        vertical-align: top;\n",
              "    }\n",
              "\n",
              "    .dataframe thead th {\n",
              "        text-align: right;\n",
              "    }\n",
              "</style>\n",
              "<table border=\"1\" class=\"dataframe\">\n",
              "  <thead>\n",
              "    <tr style=\"text-align: right;\">\n",
              "      <th></th>\n",
              "      <th>Codigo</th>\n",
              "      <th>AnioNac</th>\n",
              "      <th>Sexo</th>\n",
              "      <th>Resid</th>\n",
              "      <th>TipoCole</th>\n",
              "      <th>MesIngres</th>\n",
              "      <th>TipoIngres</th>\n",
              "      <th>PuntajeIngre</th>\n",
              "      <th>CurDes1Ano</th>\n",
              "      <th>PrimRep</th>\n",
              "      <th>SegRep</th>\n",
              "      <th>TercRep</th>\n",
              "      <th>Mas3Rep</th>\n",
              "      <th>EduMadre</th>\n",
              "      <th>EduPadre</th>\n",
              "      <th>OcuPadre</th>\n",
              "      <th>OcuMadre</th>\n",
              "      <th>ClaseSoc</th>\n",
              "      <th>TempViajeUni</th>\n",
              "      <th>NumHermano</th>\n",
              "      <th>HermanoEstSup</th>\n",
              "      <th>EstadCivilInicio</th>\n",
              "      <th>PrepaAcademia</th>\n",
              "      <th>TempPrepAcadem</th>\n",
              "      <th>EdadIngreso</th>\n",
              "      <th>AporteEcono</th>\n",
              "      <th>TrabajoUniversi1Anio</th>\n",
              "      <th>SatisfCalidad</th>\n",
              "      <th>VocacionXpresion</th>\n",
              "      <th>CiudNac</th>\n",
              "      <th>PadreSep</th>\n",
              "      <th>ProbFamiliFreq</th>\n",
              "    </tr>\n",
              "  </thead>\n",
              "  <tbody>\n",
              "    <tr>\n",
              "      <th>0</th>\n",
              "      <td>15200053</td>\n",
              "      <td>1996</td>\n",
              "      <td>Hombre</td>\n",
              "      <td>LINCE</td>\n",
              "      <td>PARTICULAR</td>\n",
              "      <td>Setiembre</td>\n",
              "      <td>CEPRE</td>\n",
              "      <td>1350</td>\n",
              "      <td>0</td>\n",
              "      <td>2</td>\n",
              "      <td>0</td>\n",
              "      <td>0</td>\n",
              "      <td>No</td>\n",
              "      <td>TECNICA</td>\n",
              "      <td>UNIVERSITARIA</td>\n",
              "      <td>PROFESIONAL</td>\n",
              "      <td>OCUPACIONES BASICAS</td>\n",
              "      <td>CLASE MEDIA</td>\n",
              "      <td>MENOS DE UNA HORA</td>\n",
              "      <td>1</td>\n",
              "      <td>Sí</td>\n",
              "      <td>SOLTERO</td>\n",
              "      <td>Sí</td>\n",
              "      <td>UN AÑO Y MEDIO</td>\n",
              "      <td>18</td>\n",
              "      <td>NO</td>\n",
              "      <td>No</td>\n",
              "      <td>Sí</td>\n",
              "      <td>Sí</td>\n",
              "      <td>Lima</td>\n",
              "      <td>No</td>\n",
              "      <td>No</td>\n",
              "    </tr>\n",
              "    <tr>\n",
              "      <th>1</th>\n",
              "      <td>15200015</td>\n",
              "      <td>1995</td>\n",
              "      <td>Hombre</td>\n",
              "      <td>SAN MARTIN DE PORRES</td>\n",
              "      <td>PARTICULAR</td>\n",
              "      <td>Setiembre</td>\n",
              "      <td>EXAMEN ORDINARIO</td>\n",
              "      <td>1530</td>\n",
              "      <td>0</td>\n",
              "      <td>4</td>\n",
              "      <td>1</td>\n",
              "      <td>0</td>\n",
              "      <td>No</td>\n",
              "      <td>SECUNDARIA</td>\n",
              "      <td>UNIVERSITARIA</td>\n",
              "      <td>NaN</td>\n",
              "      <td>OCUPACIONES BASICAS</td>\n",
              "      <td>CLASE MEDIA BAJA</td>\n",
              "      <td>MENOS DE UNA HORA</td>\n",
              "      <td>4</td>\n",
              "      <td>Sí</td>\n",
              "      <td>SOLTERO</td>\n",
              "      <td>Sí</td>\n",
              "      <td>DOS AÑOS</td>\n",
              "      <td>19</td>\n",
              "      <td>NO</td>\n",
              "      <td>Sí</td>\n",
              "      <td>No</td>\n",
              "      <td>Sí</td>\n",
              "      <td>Lima</td>\n",
              "      <td>No</td>\n",
              "      <td>No</td>\n",
              "    </tr>\n",
              "    <tr>\n",
              "      <th>2</th>\n",
              "      <td>15200052</td>\n",
              "      <td>1994</td>\n",
              "      <td>Hombre</td>\n",
              "      <td>SAN JUAN DE LURIGANCHO</td>\n",
              "      <td>PARTICULAR</td>\n",
              "      <td>Setiembre</td>\n",
              "      <td>CEPRE</td>\n",
              "      <td>1300</td>\n",
              "      <td>1</td>\n",
              "      <td>4</td>\n",
              "      <td>1</td>\n",
              "      <td>0</td>\n",
              "      <td>No</td>\n",
              "      <td>PRIMARIA</td>\n",
              "      <td>SECUNDARIA</td>\n",
              "      <td>OCUPACIONES BASICAS</td>\n",
              "      <td>OCUPACIONES BASICAS</td>\n",
              "      <td>CLASE MEDIA</td>\n",
              "      <td>DOS HORAS</td>\n",
              "      <td>2</td>\n",
              "      <td>Sí</td>\n",
              "      <td>SOLTERO</td>\n",
              "      <td>No</td>\n",
              "      <td>NO SE PREPARO EN ACADEMIA</td>\n",
              "      <td>20</td>\n",
              "      <td>NO</td>\n",
              "      <td>No</td>\n",
              "      <td>Sí</td>\n",
              "      <td>Sí</td>\n",
              "      <td>Lima</td>\n",
              "      <td>No</td>\n",
              "      <td>No</td>\n",
              "    </tr>\n",
              "    <tr>\n",
              "      <th>3</th>\n",
              "      <td>15200024</td>\n",
              "      <td>1996</td>\n",
              "      <td>Hombre</td>\n",
              "      <td>LIMA</td>\n",
              "      <td>PARTICULAR</td>\n",
              "      <td>Setiembre</td>\n",
              "      <td>EXAMEN ORDINARIO</td>\n",
              "      <td>1589</td>\n",
              "      <td>0</td>\n",
              "      <td>0</td>\n",
              "      <td>0</td>\n",
              "      <td>0</td>\n",
              "      <td>No</td>\n",
              "      <td>TECNICA</td>\n",
              "      <td>UNIVERSITARIA</td>\n",
              "      <td>PROFESIONAL</td>\n",
              "      <td>TECNICO O PROFESIONAL DE APOYO</td>\n",
              "      <td>CLASE MEDIA BAJA</td>\n",
              "      <td>HORA Y MEDIA</td>\n",
              "      <td>0</td>\n",
              "      <td>No</td>\n",
              "      <td>SOLTERO</td>\n",
              "      <td>Sí</td>\n",
              "      <td>UN AÑO Y MEDIO</td>\n",
              "      <td>15</td>\n",
              "      <td>NO</td>\n",
              "      <td>No</td>\n",
              "      <td>No</td>\n",
              "      <td>Sí</td>\n",
              "      <td>Lima</td>\n",
              "      <td>No</td>\n",
              "      <td>No</td>\n",
              "    </tr>\n",
              "    <tr>\n",
              "      <th>4</th>\n",
              "      <td>15200125</td>\n",
              "      <td>1996</td>\n",
              "      <td>Mujer</td>\n",
              "      <td>VILLA EL SALVADOR</td>\n",
              "      <td>NACIONAL</td>\n",
              "      <td>Marzo</td>\n",
              "      <td>EXAMEN ORDINARIO</td>\n",
              "      <td>1520</td>\n",
              "      <td>1</td>\n",
              "      <td>7</td>\n",
              "      <td>0</td>\n",
              "      <td>0</td>\n",
              "      <td>No</td>\n",
              "      <td>SECUNDARIA</td>\n",
              "      <td>SECUNDARIA</td>\n",
              "      <td>TRABAJADORES DE LA INDUSTRIA MANUFACTURERA O C...</td>\n",
              "      <td>TRABAJADORES DE SERVICIOS DE PROTECCION, PERSO...</td>\n",
              "      <td>CLASE MEDIA</td>\n",
              "      <td>DOS HORAS</td>\n",
              "      <td>3</td>\n",
              "      <td>No</td>\n",
              "      <td>SOLTERO</td>\n",
              "      <td>Sí</td>\n",
              "      <td>DOS AÑOS</td>\n",
              "      <td>18</td>\n",
              "      <td>NO</td>\n",
              "      <td>No</td>\n",
              "      <td>No</td>\n",
              "      <td>Sí</td>\n",
              "      <td>Lima</td>\n",
              "      <td>No</td>\n",
              "      <td>No</td>\n",
              "    </tr>\n",
              "  </tbody>\n",
              "</table>\n",
              "</div>"
            ],
            "text/plain": [
              "     Codigo  AnioNac    Sexo  ... CiudNac PadreSep ProbFamiliFreq\n",
              "0  15200053     1996  Hombre  ...    Lima       No             No\n",
              "1  15200015     1995  Hombre  ...    Lima       No             No\n",
              "2  15200052     1994  Hombre  ...    Lima       No             No\n",
              "3  15200024     1996  Hombre  ...    Lima       No             No\n",
              "4  15200125     1996   Mujer  ...    Lima       No             No\n",
              "\n",
              "[5 rows x 32 columns]"
            ]
          },
          "metadata": {
            "tags": []
          },
          "execution_count": 44
        }
      ]
    },
    {
      "cell_type": "code",
      "metadata": {
        "id": "HDFgi8pijq7m",
        "colab_type": "code",
        "colab": {
          "base_uri": "https://localhost:8080/",
          "height": 0
        },
        "outputId": "7260715d-5789-4672-a6f0-d19d98f02f29"
      },
      "source": [
        "print(10**-int(len(str(dt.PuntajeIngre[0]))))"
      ],
      "execution_count": 45,
      "outputs": [
        {
          "output_type": "stream",
          "text": [
            "0.0001\n"
          ],
          "name": "stdout"
        }
      ]
    },
    {
      "cell_type": "code",
      "metadata": {
        "id": "w1qYqqPhjq7n",
        "colab_type": "code",
        "colab": {
          "base_uri": "https://localhost:8080/",
          "height": 0
        },
        "outputId": "8b12a7c4-1f05-443b-c272-9d7eb209c4d1"
      },
      "source": [
        "dt['PuntajeIngre']=dt['PuntajeIngre'].apply(lambda x : int(x/10**(int(len(str(x))))) if x>2000 else int(x))\n",
        "dt['PuntajeIngre'].describe()"
      ],
      "execution_count": 46,
      "outputs": [
        {
          "output_type": "execute_result",
          "data": {
            "text/plain": [
              "count     125.000000\n",
              "mean     1288.800000\n",
              "std       422.309606\n",
              "min         0.000000\n",
              "25%      1300.000000\n",
              "50%      1405.000000\n",
              "75%      1500.000000\n",
              "max      1800.000000\n",
              "Name: PuntajeIngre, dtype: float64"
            ]
          },
          "metadata": {
            "tags": []
          },
          "execution_count": 46
        }
      ]
    },
    {
      "cell_type": "code",
      "metadata": {
        "id": "RkpSdaUQjq7q",
        "colab_type": "code",
        "colab": {
          "base_uri": "https://localhost:8080/",
          "height": 0
        },
        "outputId": "3f988767-a90f-4373-f96c-414c6d4b8db2"
      },
      "source": [
        "\n",
        "dt[dt['PuntajeIngre']<1000].PuntajeIngre"
      ],
      "execution_count": 47,
      "outputs": [
        {
          "output_type": "execute_result",
          "data": {
            "text/plain": [
              "24      15\n",
              "33      14\n",
              "50      14\n",
              "63      16\n",
              "74     200\n",
              "75       0\n",
              "80      92\n",
              "86      11\n",
              "91      11\n",
              "93      13\n",
              "104      0\n",
              "112    656\n",
              "Name: PuntajeIngre, dtype: int64"
            ]
          },
          "metadata": {
            "tags": []
          },
          "execution_count": 47
        }
      ]
    },
    {
      "cell_type": "code",
      "metadata": {
        "id": "kPPDwsRNjq7s",
        "colab_type": "code",
        "colab": {
          "base_uri": "https://localhost:8080/",
          "height": 0
        },
        "outputId": "010756ec-27f9-456c-cfaa-b33568cdc055"
      },
      "source": [
        "dt['PuntajeIngre']=dt['PuntajeIngre'].apply(lambda x : int(x*100) if x>9 and x<99 else int(x))\n",
        "media=dt['PuntajeIngre'].mean()\n",
        "dt[dt['PuntajeIngre']<1000].PuntajeIngre"
      ],
      "execution_count": 48,
      "outputs": [
        {
          "output_type": "execute_result",
          "data": {
            "text/plain": [
              "74     200\n",
              "75       0\n",
              "104      0\n",
              "112    656\n",
              "Name: PuntajeIngre, dtype: int64"
            ]
          },
          "metadata": {
            "tags": []
          },
          "execution_count": 48
        }
      ]
    },
    {
      "cell_type": "code",
      "metadata": {
        "id": "aHEm2Vdhjq7u",
        "colab_type": "code",
        "colab": {
          "base_uri": "https://localhost:8080/",
          "height": 0
        },
        "outputId": "54c7dfce-11aa-4664-9643-5f4a46e9149c"
      },
      "source": [
        "dt.loc[dt[dt['PuntajeIngre']<1000].index,'PuntajeIngre']=media\n",
        "\n",
        "#dt[dt['PuntajeIngre']<1000].PuntajeIngre=media\n",
        "dt[dt['PuntajeIngre']<1000].PuntajeIngre"
      ],
      "execution_count": 49,
      "outputs": [
        {
          "output_type": "execute_result",
          "data": {
            "text/plain": [
              "Series([], Name: PuntajeIngre, dtype: float64)"
            ]
          },
          "metadata": {
            "tags": []
          },
          "execution_count": 49
        }
      ]
    },
    {
      "cell_type": "code",
      "metadata": {
        "id": "K8VxU-nAjq7w",
        "colab_type": "code",
        "colab": {
          "base_uri": "https://localhost:8080/",
          "height": 0
        },
        "outputId": "85882ddd-2fb7-4cd4-e036-a1d596b46c23"
      },
      "source": [
        "#Con la Nueva Medida sacamos la estadisctica\n",
        "dt['PuntajeIngre'].describe()"
      ],
      "execution_count": 50,
      "outputs": [
        {
          "output_type": "execute_result",
          "data": {
            "text/plain": [
              "count     125.000000\n",
              "mean     1475.219584\n",
              "std       712.537458\n",
              "min      1050.000000\n",
              "25%      1340.000000\n",
              "50%      1430.000000\n",
              "75%      1500.000000\n",
              "max      9200.000000\n",
              "Name: PuntajeIngre, dtype: float64"
            ]
          },
          "metadata": {
            "tags": []
          },
          "execution_count": 50
        }
      ]
    },
    {
      "cell_type": "markdown",
      "metadata": {
        "id": "VqZ0byCCjq7y",
        "colab_type": "text"
      },
      "source": [
        "## Diagrama de caja y bigotes"
      ]
    },
    {
      "cell_type": "code",
      "metadata": {
        "id": "gCSq7XN_jq7z",
        "colab_type": "code",
        "colab": {}
      },
      "source": [
        "import matplotlib.pyplot as plt"
      ],
      "execution_count": 0,
      "outputs": []
    },
    {
      "cell_type": "code",
      "metadata": {
        "id": "myRl93kIjq71",
        "colab_type": "code",
        "colab": {
          "base_uri": "https://localhost:8080/",
          "height": 0
        },
        "outputId": "da381615-0db3-4db3-d0b9-a6a042a654d8"
      },
      "source": [
        "fig1,ax1=plt.subplots()\n",
        "ax1.set_title('caja')\n",
        "ax1.boxplot(dt['PuntajeIngre'])"
      ],
      "execution_count": 52,
      "outputs": [
        {
          "output_type": "execute_result",
          "data": {
            "text/plain": [
              "{'boxes': [<matplotlib.lines.Line2D at 0x7fa87c706fd0>],\n",
              " 'caps': [<matplotlib.lines.Line2D at 0x7fa87c719a20>,\n",
              "  <matplotlib.lines.Line2D at 0x7fa87c719da0>],\n",
              " 'fliers': [<matplotlib.lines.Line2D at 0x7fa87c7244e0>],\n",
              " 'means': [],\n",
              " 'medians': [<matplotlib.lines.Line2D at 0x7fa87c724160>],\n",
              " 'whiskers': [<matplotlib.lines.Line2D at 0x7fa87c719320>,\n",
              "  <matplotlib.lines.Line2D at 0x7fa87c7196a0>]}"
            ]
          },
          "metadata": {
            "tags": []
          },
          "execution_count": 52
        },
        {
          "output_type": "display_data",
          "data": {
            "image/png": "[encoded data removed]",
            "text/plain": [
              "<Figure size 432x288 with 1 Axes>"
            ]
          },
          "metadata": {
            "tags": [],
            "needs_background": "light"
          }
        }
      ]
    },
    {
      "cell_type": "code",
      "metadata": {
        "id": "lLHwMz8-jq73",
        "colab_type": "code",
        "colab": {
          "base_uri": "https://localhost:8080/",
          "height": 0
        },
        "outputId": "af4f0150-8994-4de9-f2ff-0d7a178aa843"
      },
      "source": [
        "#quitamos el outlier\n",
        "dt.drop(dt[dt['PuntajeIngre']>2000].index, inplace=True, axis=0)\n",
        "\n",
        "#volvemos a graficar el diagrama de caja y bigote\n",
        "fig1,ax1=plt.subplots()\n",
        "ax1.set_title('caja')\n",
        "ax1.boxplot(dt['PuntajeIngre'])"
      ],
      "execution_count": 53,
      "outputs": [
        {
          "output_type": "execute_result",
          "data": {
            "text/plain": [
              "{'boxes': [<matplotlib.lines.Line2D at 0x7fa87c25fc50>],\n",
              " 'caps': [<matplotlib.lines.Line2D at 0x7fa87c2436a0>,\n",
              "  <matplotlib.lines.Line2D at 0x7fa87c243a20>],\n",
              " 'fliers': [<matplotlib.lines.Line2D at 0x7fa87c1f3160>],\n",
              " 'means': [],\n",
              " 'medians': [<matplotlib.lines.Line2D at 0x7fa87c243da0>],\n",
              " 'whiskers': [<matplotlib.lines.Line2D at 0x7fa87c25ff60>,\n",
              "  <matplotlib.lines.Line2D at 0x7fa87c243320>]}"
            ]
          },
          "metadata": {
            "tags": []
          },
          "execution_count": 53
        },
        {
          "output_type": "display_data",
          "data": {
            "image/png": "[encoded data removed]",
            "text/plain": [
              "<Figure size 432x288 with 1 Axes>"
            ]
          },
          "metadata": {
            "tags": [],
            "needs_background": "light"
          }
        }
      ]
    },
    {
      "cell_type": "code",
      "metadata": {
        "scrolled": false,
        "id": "OiSykv5Ljq74",
        "colab_type": "code",
        "colab": {
          "base_uri": "https://localhost:8080/",
          "height": 0
        },
        "outputId": "06b025ce-5ba0-42d7-f46f-ccc1c0ecd304"
      },
      "source": [
        "#Filtro de quienes son los que tiene bajo puntaje\n",
        "dt[dt['PuntajeIngre']<1100]"
      ],
      "execution_count": 54,
      "outputs": [
        {
          "output_type": "execute_result",
          "data": {
            "text/html": [
              "<div>\n",
              "<style scoped>\n",
              "    .dataframe tbody tr th:only-of-type {\n",
              "        vertical-align: middle;\n",
              "    }\n",
              "\n",
              "    .dataframe tbody tr th {\n",
              "        vertical-align: top;\n",
              "    }\n",
              "\n",
              "    .dataframe thead th {\n",
              "        text-align: right;\n",
              "    }\n",
              "</style>\n",
              "<table border=\"1\" class=\"dataframe\">\n",
              "  <thead>\n",
              "    <tr style=\"text-align: right;\">\n",
              "      <th></th>\n",
              "      <th>Codigo</th>\n",
              "      <th>AnioNac</th>\n",
              "      <th>Sexo</th>\n",
              "      <th>Resid</th>\n",
              "      <th>TipoCole</th>\n",
              "      <th>MesIngres</th>\n",
              "      <th>TipoIngres</th>\n",
              "      <th>PuntajeIngre</th>\n",
              "      <th>CurDes1Ano</th>\n",
              "      <th>PrimRep</th>\n",
              "      <th>SegRep</th>\n",
              "      <th>TercRep</th>\n",
              "      <th>Mas3Rep</th>\n",
              "      <th>EduMadre</th>\n",
              "      <th>EduPadre</th>\n",
              "      <th>OcuPadre</th>\n",
              "      <th>OcuMadre</th>\n",
              "      <th>ClaseSoc</th>\n",
              "      <th>TempViajeUni</th>\n",
              "      <th>NumHermano</th>\n",
              "      <th>HermanoEstSup</th>\n",
              "      <th>EstadCivilInicio</th>\n",
              "      <th>PrepaAcademia</th>\n",
              "      <th>TempPrepAcadem</th>\n",
              "      <th>EdadIngreso</th>\n",
              "      <th>AporteEcono</th>\n",
              "      <th>TrabajoUniversi1Anio</th>\n",
              "      <th>SatisfCalidad</th>\n",
              "      <th>VocacionXpresion</th>\n",
              "      <th>CiudNac</th>\n",
              "      <th>PadreSep</th>\n",
              "      <th>ProbFamiliFreq</th>\n",
              "    </tr>\n",
              "  </thead>\n",
              "  <tbody>\n",
              "    <tr>\n",
              "      <th>48</th>\n",
              "      <td>17200277</td>\n",
              "      <td>1998</td>\n",
              "      <td>Mujer</td>\n",
              "      <td>CHORRILLOS</td>\n",
              "      <td>PARROQUIAL</td>\n",
              "      <td>Marzo</td>\n",
              "      <td>EXAMEN ORDINARIO</td>\n",
              "      <td>1055.0</td>\n",
              "      <td>3</td>\n",
              "      <td>3</td>\n",
              "      <td>3</td>\n",
              "      <td>1</td>\n",
              "      <td>No</td>\n",
              "      <td>TECNICA</td>\n",
              "      <td>TECNICA</td>\n",
              "      <td>OPERADOR DE MAQUINARIA</td>\n",
              "      <td>OCUPACIONES BASICAS</td>\n",
              "      <td>CLASE MEDIA BAJA</td>\n",
              "      <td>DOS HORAS</td>\n",
              "      <td>1</td>\n",
              "      <td>No</td>\n",
              "      <td>SOLTERO</td>\n",
              "      <td>Sí</td>\n",
              "      <td>UN AÑO Y MEDIO</td>\n",
              "      <td>18</td>\n",
              "      <td>NO</td>\n",
              "      <td>No</td>\n",
              "      <td>No</td>\n",
              "      <td>No</td>\n",
              "      <td>Lima</td>\n",
              "      <td>Sí</td>\n",
              "      <td>Sí</td>\n",
              "    </tr>\n",
              "    <tr>\n",
              "      <th>73</th>\n",
              "      <td>17200267</td>\n",
              "      <td>1999</td>\n",
              "      <td>Hombre</td>\n",
              "      <td>PUENTE PIEDRA</td>\n",
              "      <td>PARTICULAR</td>\n",
              "      <td>Marzo</td>\n",
              "      <td>EXAMEN ORDINARIO</td>\n",
              "      <td>1057.0</td>\n",
              "      <td>2</td>\n",
              "      <td>2</td>\n",
              "      <td>2</td>\n",
              "      <td>1</td>\n",
              "      <td>No</td>\n",
              "      <td>PRIMARIA</td>\n",
              "      <td>PRIMARIA</td>\n",
              "      <td>TRABAJADORES DE SERVICIOS DE SEGURIDAD, RESTAU...</td>\n",
              "      <td>OCUPACIONES BASICAS</td>\n",
              "      <td>CLASE BAJA</td>\n",
              "      <td>DOS HORAS</td>\n",
              "      <td>1</td>\n",
              "      <td>No</td>\n",
              "      <td>SOLTERO</td>\n",
              "      <td>Sí</td>\n",
              "      <td>UN AÑO</td>\n",
              "      <td>17</td>\n",
              "      <td>NO</td>\n",
              "      <td>No</td>\n",
              "      <td>No</td>\n",
              "      <td>Sí</td>\n",
              "      <td>Piura</td>\n",
              "      <td>No</td>\n",
              "      <td>No</td>\n",
              "    </tr>\n",
              "    <tr>\n",
              "      <th>88</th>\n",
              "      <td>17200136</td>\n",
              "      <td>2000</td>\n",
              "      <td>Hombre</td>\n",
              "      <td>CARABAYLLO</td>\n",
              "      <td>PARTICULAR</td>\n",
              "      <td>Marzo</td>\n",
              "      <td>EXAMEN ORDINARIO</td>\n",
              "      <td>1050.0</td>\n",
              "      <td>6</td>\n",
              "      <td>12</td>\n",
              "      <td>5</td>\n",
              "      <td>1</td>\n",
              "      <td>No</td>\n",
              "      <td>SECUNDARIA</td>\n",
              "      <td>TECNICA</td>\n",
              "      <td>TECNICO O PROFESIONAL DE APOYO</td>\n",
              "      <td>OCUPACIONES BASICAS</td>\n",
              "      <td>CLASE MEDIA BAJA</td>\n",
              "      <td>DOS HORAS</td>\n",
              "      <td>3</td>\n",
              "      <td>No</td>\n",
              "      <td>SOLTERO</td>\n",
              "      <td>Sí</td>\n",
              "      <td>MENOS DE UN AÑO</td>\n",
              "      <td>16</td>\n",
              "      <td>NO</td>\n",
              "      <td>No</td>\n",
              "      <td>No</td>\n",
              "      <td>Sí</td>\n",
              "      <td>Lima</td>\n",
              "      <td>No</td>\n",
              "      <td>No</td>\n",
              "    </tr>\n",
              "  </tbody>\n",
              "</table>\n",
              "</div>"
            ],
            "text/plain": [
              "      Codigo  AnioNac    Sexo  ... CiudNac PadreSep ProbFamiliFreq\n",
              "48  17200277     1998   Mujer  ...    Lima       Sí             Sí\n",
              "73  17200267     1999  Hombre  ...   Piura       No             No\n",
              "88  17200136     2000  Hombre  ...    Lima       No             No\n",
              "\n",
              "[3 rows x 32 columns]"
            ]
          },
          "metadata": {
            "tags": []
          },
          "execution_count": 54
        }
      ]
    },
    {
      "cell_type": "code",
      "metadata": {
        "id": "F10fB53tjq77",
        "colab_type": "code",
        "colab": {
          "base_uri": "https://localhost:8080/",
          "height": 0
        },
        "outputId": "50bd3522-b4d2-4001-fd36-82b3e85a3549"
      },
      "source": [
        "dt.AnioNac.value_counts()"
      ],
      "execution_count": 55,
      "outputs": [
        {
          "output_type": "execute_result",
          "data": {
            "text/plain": [
              "1996      31\n",
              "1995      20\n",
              "1997      18\n",
              "1998      11\n",
              "1994      11\n",
              "1999       7\n",
              "1991       5\n",
              "1993       4\n",
              "1992       3\n",
              "1989       3\n",
              "1987       2\n",
              "1984       2\n",
              "2000       2\n",
              "1988       1\n",
              "1986       1\n",
              "1990       1\n",
              "1981       1\n",
              "110598     1\n",
              "Name: AnioNac, dtype: int64"
            ]
          },
          "metadata": {
            "tags": []
          },
          "execution_count": 55
        }
      ]
    },
    {
      "cell_type": "code",
      "metadata": {
        "id": "925eGOcQjq7-",
        "colab_type": "code",
        "colab": {
          "base_uri": "https://localhost:8080/",
          "height": 0
        },
        "outputId": "32e2127f-b323-4050-be35-9070d90546b2"
      },
      "source": [
        "#n=dt[dt['AnioNac']==110598].index\n",
        "dt.loc[dt['AnioNac']==110598,['AnioNac']]=1998\n",
        "\n",
        "dt.AnioNac.value_counts()"
      ],
      "execution_count": 56,
      "outputs": [
        {
          "output_type": "execute_result",
          "data": {
            "text/plain": [
              "1996    31\n",
              "1995    20\n",
              "1997    18\n",
              "1998    12\n",
              "1994    11\n",
              "1999     7\n",
              "1991     5\n",
              "1993     4\n",
              "1992     3\n",
              "1989     3\n",
              "1987     2\n",
              "1984     2\n",
              "2000     2\n",
              "1988     1\n",
              "1986     1\n",
              "1990     1\n",
              "1981     1\n",
              "Name: AnioNac, dtype: int64"
            ]
          },
          "metadata": {
            "tags": []
          },
          "execution_count": 56
        }
      ]
    },
    {
      "cell_type": "markdown",
      "metadata": {
        "id": "xUSvWo0Sjq8A",
        "colab_type": "text"
      },
      "source": [
        "## FUNCION CUT Y PIVOT\n"
      ]
    },
    {
      "cell_type": "code",
      "metadata": {
        "id": "Io2u2i7pjq8A",
        "colab_type": "code",
        "colab": {
          "base_uri": "https://localhost:8080/",
          "height": 0
        },
        "outputId": "a6546299-dcb3-427e-e5cd-629c3f74a7c7"
      },
      "source": [
        "dt['Edad']=2020-dt['AnioNac']\n",
        "dt.Edad.value_counts()"
      ],
      "execution_count": 57,
      "outputs": [
        {
          "output_type": "execute_result",
          "data": {
            "text/plain": [
              "24    31\n",
              "25    20\n",
              "23    18\n",
              "22    12\n",
              "26    11\n",
              "21     7\n",
              "29     5\n",
              "27     4\n",
              "28     3\n",
              "31     3\n",
              "20     2\n",
              "36     2\n",
              "33     2\n",
              "30     1\n",
              "32     1\n",
              "34     1\n",
              "39     1\n",
              "Name: Edad, dtype: int64"
            ]
          },
          "metadata": {
            "tags": []
          },
          "execution_count": 57
        }
      ]
    },
    {
      "cell_type": "code",
      "metadata": {
        "id": "L_s9lpPQjq8C",
        "colab_type": "code",
        "colab": {
          "base_uri": "https://localhost:8080/",
          "height": 0
        },
        "outputId": "551fbe84-e08d-47fb-d6cd-b487405eb1e0"
      },
      "source": [
        "eda=pd.cut(dt['Edad'],bins=[0,18,24,30,50],include_lowest=True, precision=1)\n",
        "eda"
      ],
      "execution_count": 58,
      "outputs": [
        {
          "output_type": "execute_result",
          "data": {
            "text/plain": [
              "0      (18.0, 24.0]\n",
              "1      (24.0, 30.0]\n",
              "2      (24.0, 30.0]\n",
              "3      (18.0, 24.0]\n",
              "4      (18.0, 24.0]\n",
              "           ...     \n",
              "120    (18.0, 24.0]\n",
              "121    (24.0, 30.0]\n",
              "122    (24.0, 30.0]\n",
              "123    (18.0, 24.0]\n",
              "124    (18.0, 24.0]\n",
              "Name: Edad, Length: 124, dtype: category\n",
              "Categories (4, interval[float64]): [(-0.1, 18.0] < (18.0, 24.0] < (24.0, 30.0] < (30.0, 50.0]]"
            ]
          },
          "metadata": {
            "tags": []
          },
          "execution_count": 58
        }
      ]
    },
    {
      "cell_type": "code",
      "metadata": {
        "id": "lO2erG4Pjq8D",
        "colab_type": "code",
        "colab": {
          "base_uri": "https://localhost:8080/",
          "height": 0
        },
        "outputId": "7049149f-4824-4d4f-bad8-d88efeaad4d7"
      },
      "source": [
        "dt.pivot_table('PuntajeIngre', index=['Sexo',eda],columns='TipoCole')"
      ],
      "execution_count": 59,
      "outputs": [
        {
          "output_type": "execute_result",
          "data": {
            "text/html": [
              "<div>\n",
              "<style scoped>\n",
              "    .dataframe tbody tr th:only-of-type {\n",
              "        vertical-align: middle;\n",
              "    }\n",
              "\n",
              "    .dataframe tbody tr th {\n",
              "        vertical-align: top;\n",
              "    }\n",
              "\n",
              "    .dataframe thead th {\n",
              "        text-align: right;\n",
              "    }\n",
              "</style>\n",
              "<table border=\"1\" class=\"dataframe\">\n",
              "  <thead>\n",
              "    <tr style=\"text-align: right;\">\n",
              "      <th></th>\n",
              "      <th>TipoCole</th>\n",
              "      <th>NACIONAL</th>\n",
              "      <th>PARROQUIAL</th>\n",
              "      <th>PARTICULAR</th>\n",
              "    </tr>\n",
              "    <tr>\n",
              "      <th>Sexo</th>\n",
              "      <th>Edad</th>\n",
              "      <th></th>\n",
              "      <th></th>\n",
              "      <th></th>\n",
              "    </tr>\n",
              "  </thead>\n",
              "  <tbody>\n",
              "    <tr>\n",
              "      <th rowspan=\"3\" valign=\"top\">Hombre</th>\n",
              "      <th>(18.0, 24.0]</th>\n",
              "      <td>1398.153846</td>\n",
              "      <td>1467.158857</td>\n",
              "      <td>1359.177829</td>\n",
              "    </tr>\n",
              "    <tr>\n",
              "      <th>(24.0, 30.0]</th>\n",
              "      <td>1454.846154</td>\n",
              "      <td>1498.666667</td>\n",
              "      <td>1434.900000</td>\n",
              "    </tr>\n",
              "    <tr>\n",
              "      <th>(30.0, 50.0]</th>\n",
              "      <td>1528.750000</td>\n",
              "      <td>1100.000000</td>\n",
              "      <td>1518.056000</td>\n",
              "    </tr>\n",
              "    <tr>\n",
              "      <th rowspan=\"3\" valign=\"top\">Mujer</th>\n",
              "      <th>(18.0, 24.0]</th>\n",
              "      <td>1340.000000</td>\n",
              "      <td>1318.333333</td>\n",
              "      <td>1406.285714</td>\n",
              "    </tr>\n",
              "    <tr>\n",
              "      <th>(24.0, 30.0]</th>\n",
              "      <td>1414.666667</td>\n",
              "      <td>1300.000000</td>\n",
              "      <td>1300.000000</td>\n",
              "    </tr>\n",
              "    <tr>\n",
              "      <th>(30.0, 50.0]</th>\n",
              "      <td>1416.666667</td>\n",
              "      <td>NaN</td>\n",
              "      <td>NaN</td>\n",
              "    </tr>\n",
              "    <tr>\n",
              "      <th>OTRO</th>\n",
              "      <th>(18.0, 24.0]</th>\n",
              "      <td>NaN</td>\n",
              "      <td>NaN</td>\n",
              "      <td>1675.000000</td>\n",
              "    </tr>\n",
              "  </tbody>\n",
              "</table>\n",
              "</div>"
            ],
            "text/plain": [
              "TipoCole                NACIONAL   PARROQUIAL   PARTICULAR\n",
              "Sexo   Edad                                               \n",
              "Hombre (18.0, 24.0]  1398.153846  1467.158857  1359.177829\n",
              "       (24.0, 30.0]  1454.846154  1498.666667  1434.900000\n",
              "       (30.0, 50.0]  1528.750000  1100.000000  1518.056000\n",
              "Mujer  (18.0, 24.0]  1340.000000  1318.333333  1406.285714\n",
              "       (24.0, 30.0]  1414.666667  1300.000000  1300.000000\n",
              "       (30.0, 50.0]  1416.666667          NaN          NaN\n",
              "OTRO   (18.0, 24.0]          NaN          NaN  1675.000000"
            ]
          },
          "metadata": {
            "tags": []
          },
          "execution_count": 59
        }
      ]
    },
    {
      "cell_type": "markdown",
      "metadata": {
        "id": "-DMBmqn5jq8E",
        "colab_type": "text"
      },
      "source": [
        "## Histogramas"
      ]
    },
    {
      "cell_type": "code",
      "metadata": {
        "id": "BmlQL2G0jq8F",
        "colab_type": "code",
        "colab": {
          "base_uri": "https://localhost:8080/",
          "height": 0
        },
        "outputId": "14fc6e92-ee30-428b-ae29-741bb9ac5680"
      },
      "source": [
        "hist,bind_edges=np.histogram(dt['PuntajeIngre'])\n",
        "hist"
      ],
      "execution_count": 60,
      "outputs": [
        {
          "output_type": "execute_result",
          "data": {
            "text/plain": [
              "array([ 7,  5,  7, 13, 28, 29, 15, 16,  2,  2])"
            ]
          },
          "metadata": {
            "tags": []
          },
          "execution_count": 60
        }
      ]
    },
    {
      "cell_type": "code",
      "metadata": {
        "id": "nr09zaVDjq8I",
        "colab_type": "code",
        "colab": {
          "base_uri": "https://localhost:8080/",
          "height": 0
        },
        "outputId": "982fdd27-50c8-4698-edf6-3ef9b30dd6b5"
      },
      "source": [
        "bind_edges"
      ],
      "execution_count": 61,
      "outputs": [
        {
          "output_type": "execute_result",
          "data": {
            "text/plain": [
              "array([1050., 1125., 1200., 1275., 1350., 1425., 1500., 1575., 1650.,\n",
              "       1725., 1800.])"
            ]
          },
          "metadata": {
            "tags": []
          },
          "execution_count": 61
        }
      ]
    },
    {
      "cell_type": "markdown",
      "metadata": {
        "id": "m-9eGbwdjq8K",
        "colab_type": "text"
      },
      "source": [
        "## visualizacion"
      ]
    },
    {
      "cell_type": "code",
      "metadata": {
        "id": "BNqqO3L3jq8L",
        "colab_type": "code",
        "colab": {
          "base_uri": "https://localhost:8080/",
          "height": 0
        },
        "outputId": "38a4014c-4dc6-436c-c9b8-c3e0153729c9"
      },
      "source": [
        "n,bins,patches=plt.hist(x=dt['PuntajeIngre'], bins='auto')"
      ],
      "execution_count": 62,
      "outputs": [
        {
          "output_type": "display_data",
          "data": {
            "image/png": "[encoded data removed]",
            "text/plain": [
              "<Figure size 432x288 with 1 Axes>"
            ]
          },
          "metadata": {
            "tags": [],
            "needs_background": "light"
          }
        }
      ]
    },
    {
      "cell_type": "code",
      "metadata": {
        "id": "yZ7NGvKGjq8M",
        "colab_type": "code",
        "colab": {
          "base_uri": "https://localhost:8080/",
          "height": 0
        },
        "outputId": "2f03cfa6-130f-4218-fccf-faa9f7e662d6"
      },
      "source": [
        "n,bins,patches=plt.hist(x=dt['PuntajeIngre'], bins='auto', alpha=0.50, rwidth=0.90)"
      ],
      "execution_count": 63,
      "outputs": [
        {
          "output_type": "display_data",
          "data": {
            "image/png": "[encoded data removed]",
            "text/plain": [
              "<Figure size 432x288 with 1 Axes>"
            ]
          },
          "metadata": {
            "tags": [],
            "needs_background": "light"
          }
        }
      ]
    },
    {
      "cell_type": "code",
      "metadata": {
        "id": "1a7ibbHQjq8P",
        "colab_type": "code",
        "colab": {
          "base_uri": "https://localhost:8080/",
          "height": 0
        },
        "outputId": "f1aac330-d4dc-446a-8422-4badf2701c09"
      },
      "source": [
        "import matplotlib\n",
        "dt.hist(column='Edad',  color='blue',bins=30)\n",
        "matplotlib.pyplot.show()"
      ],
      "execution_count": 64,
      "outputs": [
        {
          "output_type": "display_data",
          "data": {
            "image/png": "[encoded data removed]",
            "text/plain": [
              "<Figure size 432x288 with 1 Axes>"
            ]
          },
          "metadata": {
            "tags": [],
            "needs_background": "light"
          }
        }
      ]
    },
    {
      "cell_type": "code",
      "metadata": {
        "id": "_yMKYnAWjq8Q",
        "colab_type": "code",
        "colab": {
          "base_uri": "https://localhost:8080/",
          "height": 0
        },
        "outputId": "af3969ed-05a9-4348-d17a-53edc1633ea1"
      },
      "source": [
        "fig2,ax2=plt.subplots()\n",
        "ax2.set_title('caja')\n",
        "ax2.boxplot(dt['Edad'])"
      ],
      "execution_count": 65,
      "outputs": [
        {
          "output_type": "execute_result",
          "data": {
            "text/plain": [
              "{'boxes': [<matplotlib.lines.Line2D at 0x7fa87ada2588>],\n",
              " 'caps': [<matplotlib.lines.Line2D at 0x7fa87ada2f98>,\n",
              "  <matplotlib.lines.Line2D at 0x7fa87adac358>],\n",
              " 'fliers': [<matplotlib.lines.Line2D at 0x7fa87adaca58>],\n",
              " 'means': [],\n",
              " 'medians': [<matplotlib.lines.Line2D at 0x7fa87adac6d8>],\n",
              " 'whiskers': [<matplotlib.lines.Line2D at 0x7fa87ada2898>,\n",
              "  <matplotlib.lines.Line2D at 0x7fa87ada2c18>]}"
            ]
          },
          "metadata": {
            "tags": []
          },
          "execution_count": 65
        },
        {
          "output_type": "display_data",
          "data": {
            "image/png": "[encoded data removed]",
            "text/plain": [
              "<Figure size 432x288 with 1 Axes>"
            ]
          },
          "metadata": {
            "tags": [],
            "needs_background": "light"
          }
        }
      ]
    },
    {
      "cell_type": "code",
      "metadata": {
        "id": "WI-1PG-Cjq8T",
        "colab_type": "code",
        "colab": {
          "base_uri": "https://localhost:8080/",
          "height": 0
        },
        "outputId": "435fb951-9c06-4d7f-89ad-b6d7ad97d05e"
      },
      "source": [
        "matplotlib.pyplot.clf()\n",
        "dt['Edad'].plot(kind='density')\n",
        "matplotlib.pyplot.show()"
      ],
      "execution_count": 66,
      "outputs": [
        {
          "output_type": "display_data",
          "data": {
            "image/png": "[encoded data removed]",
            "text/plain": [
              "<Figure size 432x288 with 1 Axes>"
            ]
          },
          "metadata": {
            "tags": [],
            "needs_background": "light"
          }
        }
      ]
    },
    {
      "cell_type": "code",
      "metadata": {
        "id": "a2kpjYndjq8U",
        "colab_type": "code",
        "colab": {
          "base_uri": "https://localhost:8080/",
          "height": 0
        },
        "outputId": "e6852615-73b0-45fa-ebe4-c33e30557eeb"
      },
      "source": [
        "matplotlib.pyplot.clf()\n",
        "dt.plot(kind='scatter', x='EdadIngreso', y='PuntajeIngre')\n",
        "matplotlib.pyplot.show()"
      ],
      "execution_count": 67,
      "outputs": [
        {
          "output_type": "display_data",
          "data": {
            "text/plain": [
              "<Figure size 432x288 with 0 Axes>"
            ]
          },
          "metadata": {
            "tags": []
          }
        },
        {
          "output_type": "display_data",
          "data": {
            "image/png": "[encoded data removed]",
            "text/plain": [
              "<Figure size 432x288 with 1 Axes>"
            ]
          },
          "metadata": {
            "tags": [],
            "needs_background": "light"
          }
        }
      ]
    },
    {
      "cell_type": "code",
      "metadata": {
        "id": "RWsh4Sk5jq8W",
        "colab_type": "code",
        "colab": {
          "base_uri": "https://localhost:8080/",
          "height": 0
        },
        "outputId": "34db33bf-c0e2-4dbc-dd19-6cdec9797f87"
      },
      "source": [
        "#Borrar columnas que muy probablemente no usare\n",
        "dt.TipoIngres.value_counts()"
      ],
      "execution_count": 68,
      "outputs": [
        {
          "output_type": "execute_result",
          "data": {
            "text/plain": [
              "EXAMEN ORDINARIO           90\n",
              "CEPRE                      25\n",
              "PRIMEROS PUESTOS            4\n",
              "OTROS                       3\n",
              "VICTIMAS DEL TERRORISMO     1\n",
              "DEPORTISTA CALIFICADO       1\n",
              "Name: TipoIngres, dtype: int64"
            ]
          },
          "metadata": {
            "tags": []
          },
          "execution_count": 68
        }
      ]
    },
    {
      "cell_type": "code",
      "metadata": {
        "id": "Dvleio6Bjq8X",
        "colab_type": "code",
        "colab": {
          "base_uri": "https://localhost:8080/",
          "height": 0
        },
        "outputId": "0412ea80-19c6-450e-92b1-bc57ed4105e7"
      },
      "source": [
        "dt.columns"
      ],
      "execution_count": 69,
      "outputs": [
        {
          "output_type": "execute_result",
          "data": {
            "text/plain": [
              "Index(['Codigo', 'AnioNac', 'Sexo', 'Resid', 'TipoCole', 'MesIngres',\n",
              "       'TipoIngres', 'PuntajeIngre', 'CurDes1Ano', 'PrimRep', 'SegRep',\n",
              "       'TercRep', 'Mas3Rep', 'EduMadre', 'EduPadre', 'OcuPadre', 'OcuMadre',\n",
              "       'ClaseSoc', 'TempViajeUni', 'NumHermano', 'HermanoEstSup',\n",
              "       'EstadCivilInicio', 'PrepaAcademia', 'TempPrepAcadem', 'EdadIngreso',\n",
              "       'AporteEcono', 'TrabajoUniversi1Anio', 'SatisfCalidad',\n",
              "       'VocacionXpresion', 'CiudNac', 'PadreSep', 'ProbFamiliFreq', 'Edad'],\n",
              "      dtype='object')"
            ]
          },
          "metadata": {
            "tags": []
          },
          "execution_count": 69
        }
      ]
    },
    {
      "cell_type": "code",
      "metadata": {
        "id": "_3c82S52jq8a",
        "colab_type": "code",
        "colab": {
          "base_uri": "https://localhost:8080/",
          "height": 0
        },
        "outputId": "1186866d-c9cf-4cdd-b59b-ac5263f1f590"
      },
      "source": [
        "dt.EstadCivilInicio.value_counts()"
      ],
      "execution_count": 70,
      "outputs": [
        {
          "output_type": "execute_result",
          "data": {
            "text/plain": [
              "SOLTERO    122\n",
              "CASADO       1\n",
              "VIUDO        1\n",
              "Name: EstadCivilInicio, dtype: int64"
            ]
          },
          "metadata": {
            "tags": []
          },
          "execution_count": 70
        }
      ]
    },
    {
      "cell_type": "code",
      "metadata": {
        "id": "pfv3Iouqjq8c",
        "colab_type": "code",
        "colab": {
          "base_uri": "https://localhost:8080/",
          "height": 0
        },
        "outputId": "3882b93d-0225-44a8-8973-f0246955f6c9"
      },
      "source": [
        "dt.TempViajeUni.value_counts()"
      ],
      "execution_count": 71,
      "outputs": [
        {
          "output_type": "execute_result",
          "data": {
            "text/plain": [
              "DOS HORAS            35\n",
              "UN HORA              32\n",
              "HORA Y MEDIA         27\n",
              "MENOS DE UNA HORA    15\n",
              "MAS DE DOS HORAS     15\n",
              "Name: TempViajeUni, dtype: int64"
            ]
          },
          "metadata": {
            "tags": []
          },
          "execution_count": 71
        }
      ]
    },
    {
      "cell_type": "code",
      "metadata": {
        "id": "v8-hpFFbjq8d",
        "colab_type": "code",
        "colab": {
          "base_uri": "https://localhost:8080/",
          "height": 0
        },
        "outputId": "33ab08bd-b437-4c58-fa63-0bd1f47db44d"
      },
      "source": [
        "dt.PrepaAcademia.value_counts()"
      ],
      "execution_count": 72,
      "outputs": [
        {
          "output_type": "execute_result",
          "data": {
            "text/plain": [
              "Sí    114\n",
              "No     10\n",
              "Name: PrepaAcademia, dtype: int64"
            ]
          },
          "metadata": {
            "tags": []
          },
          "execution_count": 72
        }
      ]
    },
    {
      "cell_type": "code",
      "metadata": {
        "id": "1Yh821aijq8e",
        "colab_type": "code",
        "colab": {
          "base_uri": "https://localhost:8080/",
          "height": 0
        },
        "outputId": "47ab1f6b-89ce-45be-b44f-d12dae4c0271"
      },
      "source": [
        "dt.TempPrepAcadem.value_counts()"
      ],
      "execution_count": 73,
      "outputs": [
        {
          "output_type": "execute_result",
          "data": {
            "text/plain": [
              "UN AÑO                       33\n",
              "UN AÑO Y MEDIO               26\n",
              "DOS AÑOS                     25\n",
              "MENOS DE UN AÑO              18\n",
              "MAS DE DOS AÑOS              13\n",
              "NO SE PREPARO EN ACADEMIA     9\n",
              "Name: TempPrepAcadem, dtype: int64"
            ]
          },
          "metadata": {
            "tags": []
          },
          "execution_count": 73
        }
      ]
    },
    {
      "cell_type": "code",
      "metadata": {
        "id": "Emk0EH6Gjq8g",
        "colab_type": "code",
        "colab": {
          "base_uri": "https://localhost:8080/",
          "height": 0
        },
        "outputId": "caa53c3d-1ff5-4f32-cf6b-13a041bb82cd"
      },
      "source": [
        "dt.CiudNac.value_counts()"
      ],
      "execution_count": 74,
      "outputs": [
        {
          "output_type": "execute_result",
          "data": {
            "text/plain": [
              "Lima        101\n",
              "Callao        6\n",
              "Ancash        4\n",
              "Junín         4\n",
              "Cusco         2\n",
              "Ayacucho      2\n",
              "Apurimac      1\n",
              "Huanuco       1\n",
              "Puno          1\n",
              "Arequipa      1\n",
              "Piura         1\n",
              "Name: CiudNac, dtype: int64"
            ]
          },
          "metadata": {
            "tags": []
          },
          "execution_count": 74
        }
      ]
    },
    {
      "cell_type": "code",
      "metadata": {
        "id": "DeD4PGIOjq8h",
        "colab_type": "code",
        "colab": {
          "base_uri": "https://localhost:8080/",
          "height": 0
        },
        "outputId": "73c01f9d-79e1-4567-d8e0-ff0a7ab6fd71"
      },
      "source": [
        "dt.drop(['CurDes1Ano','MesIngres','EstadCivilInicio'], axis=1, inplace=True)\n",
        "dt.columns"
      ],
      "execution_count": 75,
      "outputs": [
        {
          "output_type": "execute_result",
          "data": {
            "text/plain": [
              "Index(['Codigo', 'AnioNac', 'Sexo', 'Resid', 'TipoCole', 'TipoIngres',\n",
              "       'PuntajeIngre', 'PrimRep', 'SegRep', 'TercRep', 'Mas3Rep', 'EduMadre',\n",
              "       'EduPadre', 'OcuPadre', 'OcuMadre', 'ClaseSoc', 'TempViajeUni',\n",
              "       'NumHermano', 'HermanoEstSup', 'PrepaAcademia', 'TempPrepAcadem',\n",
              "       'EdadIngreso', 'AporteEcono', 'TrabajoUniversi1Anio', 'SatisfCalidad',\n",
              "       'VocacionXpresion', 'CiudNac', 'PadreSep', 'ProbFamiliFreq', 'Edad'],\n",
              "      dtype='object')"
            ]
          },
          "metadata": {
            "tags": []
          },
          "execution_count": 75
        }
      ]
    },
    {
      "cell_type": "code",
      "metadata": {
        "id": "6n18WoLqjq8j",
        "colab_type": "code",
        "colab": {
          "base_uri": "https://localhost:8080/",
          "height": 0
        },
        "outputId": "36ee0d9d-e87d-4338-ac3d-462fb0e8c76f"
      },
      "source": [
        "#REEMPLAZAR VALORES 'SI NO ' POR 0 , 1\n",
        "dt.HermanoEstSup.replace(to_replace='Sí',value=1,inplace=True)\n",
        "dt.HermanoEstSup.replace(to_replace='No',value=0,inplace=True)\n",
        "dt.HermanoEstSup"
      ],
      "execution_count": 76,
      "outputs": [
        {
          "output_type": "execute_result",
          "data": {
            "text/plain": [
              "0      1\n",
              "1      1\n",
              "2      1\n",
              "3      0\n",
              "4      0\n",
              "      ..\n",
              "120    1\n",
              "121    0\n",
              "122    0\n",
              "123    0\n",
              "124    1\n",
              "Name: HermanoEstSup, Length: 124, dtype: int64"
            ]
          },
          "metadata": {
            "tags": []
          },
          "execution_count": 76
        }
      ]
    },
    {
      "cell_type": "code",
      "metadata": {
        "id": "2JpQd6Vwjq8k",
        "colab_type": "code",
        "colab": {
          "base_uri": "https://localhost:8080/",
          "height": 0
        },
        "outputId": "47bd91a9-9415-4178-81b9-a1d81faefe99"
      },
      "source": [
        "dt.AporteEcono.replace(to_replace='NO',value=0,inplace=True)\n",
        "dt.AporteEcono.replace(to_replace='SI',value=1,inplace=True)\n",
        "dt.AporteEcono"
      ],
      "execution_count": 77,
      "outputs": [
        {
          "output_type": "execute_result",
          "data": {
            "text/plain": [
              "0      0\n",
              "1      0\n",
              "2      0\n",
              "3      0\n",
              "4      0\n",
              "      ..\n",
              "120    0\n",
              "121    0\n",
              "122    1\n",
              "123    0\n",
              "124    0\n",
              "Name: AporteEcono, Length: 124, dtype: int64"
            ]
          },
          "metadata": {
            "tags": []
          },
          "execution_count": 77
        }
      ]
    },
    {
      "cell_type": "code",
      "metadata": {
        "id": "NnneCzOxjq8m",
        "colab_type": "code",
        "colab": {
          "base_uri": "https://localhost:8080/",
          "height": 0
        },
        "outputId": "d8942b76-b67b-45e6-ee9e-c0da2dadd78b"
      },
      "source": [
        "dt.SatisfCalidad.replace(to_replace='No',value=0,inplace=True)\n",
        "dt.SatisfCalidad.replace(to_replace='Sí',value=1,inplace=True)\n",
        "dt.SatisfCalidad"
      ],
      "execution_count": 78,
      "outputs": [
        {
          "output_type": "execute_result",
          "data": {
            "text/plain": [
              "0      1\n",
              "1      0\n",
              "2      1\n",
              "3      0\n",
              "4      0\n",
              "      ..\n",
              "120    0\n",
              "121    0\n",
              "122    0\n",
              "123    1\n",
              "124    0\n",
              "Name: SatisfCalidad, Length: 124, dtype: int64"
            ]
          },
          "metadata": {
            "tags": []
          },
          "execution_count": 78
        }
      ]
    },
    {
      "cell_type": "code",
      "metadata": {
        "id": "5vfYLrQwjq8p",
        "colab_type": "code",
        "colab": {
          "base_uri": "https://localhost:8080/",
          "height": 0
        },
        "outputId": "f8566c79-7c35-4964-dffe-46386a8f6ead"
      },
      "source": [
        "dt['tercerRepEstado']=dt.TercRep.apply(lambda x: 1 if x>0 else 0)\n",
        "dt[['tercerRepEstado','TercRep']]\n",
        "#dt.TercRep=dt.TercRep.apply(lambda x: )"
      ],
      "execution_count": 79,
      "outputs": [
        {
          "output_type": "execute_result",
          "data": {
            "text/html": [
              "<div>\n",
              "<style scoped>\n",
              "    .dataframe tbody tr th:only-of-type {\n",
              "        vertical-align: middle;\n",
              "    }\n",
              "\n",
              "    .dataframe tbody tr th {\n",
              "        vertical-align: top;\n",
              "    }\n",
              "\n",
              "    .dataframe thead th {\n",
              "        text-align: right;\n",
              "    }\n",
              "</style>\n",
              "<table border=\"1\" class=\"dataframe\">\n",
              "  <thead>\n",
              "    <tr style=\"text-align: right;\">\n",
              "      <th></th>\n",
              "      <th>tercerRepEstado</th>\n",
              "      <th>TercRep</th>\n",
              "    </tr>\n",
              "  </thead>\n",
              "  <tbody>\n",
              "    <tr>\n",
              "      <th>0</th>\n",
              "      <td>0</td>\n",
              "      <td>0</td>\n",
              "    </tr>\n",
              "    <tr>\n",
              "      <th>1</th>\n",
              "      <td>0</td>\n",
              "      <td>0</td>\n",
              "    </tr>\n",
              "    <tr>\n",
              "      <th>2</th>\n",
              "      <td>0</td>\n",
              "      <td>0</td>\n",
              "    </tr>\n",
              "    <tr>\n",
              "      <th>3</th>\n",
              "      <td>0</td>\n",
              "      <td>0</td>\n",
              "    </tr>\n",
              "    <tr>\n",
              "      <th>4</th>\n",
              "      <td>0</td>\n",
              "      <td>0</td>\n",
              "    </tr>\n",
              "    <tr>\n",
              "      <th>...</th>\n",
              "      <td>...</td>\n",
              "      <td>...</td>\n",
              "    </tr>\n",
              "    <tr>\n",
              "      <th>120</th>\n",
              "      <td>1</td>\n",
              "      <td>1</td>\n",
              "    </tr>\n",
              "    <tr>\n",
              "      <th>121</th>\n",
              "      <td>0</td>\n",
              "      <td>0</td>\n",
              "    </tr>\n",
              "    <tr>\n",
              "      <th>122</th>\n",
              "      <td>1</td>\n",
              "      <td>4</td>\n",
              "    </tr>\n",
              "    <tr>\n",
              "      <th>123</th>\n",
              "      <td>0</td>\n",
              "      <td>0</td>\n",
              "    </tr>\n",
              "    <tr>\n",
              "      <th>124</th>\n",
              "      <td>0</td>\n",
              "      <td>0</td>\n",
              "    </tr>\n",
              "  </tbody>\n",
              "</table>\n",
              "<p>124 rows × 2 columns</p>\n",
              "</div>"
            ],
            "text/plain": [
              "     tercerRepEstado  TercRep\n",
              "0                  0        0\n",
              "1                  0        0\n",
              "2                  0        0\n",
              "3                  0        0\n",
              "4                  0        0\n",
              "..               ...      ...\n",
              "120                1        1\n",
              "121                0        0\n",
              "122                1        4\n",
              "123                0        0\n",
              "124                0        0\n",
              "\n",
              "[124 rows x 2 columns]"
            ]
          },
          "metadata": {
            "tags": []
          },
          "execution_count": 79
        }
      ]
    },
    {
      "cell_type": "code",
      "metadata": {
        "id": "So5-w9q-jq8q",
        "colab_type": "code",
        "colab": {
          "base_uri": "https://localhost:8080/",
          "height": 0
        },
        "outputId": "1ab9b46f-6713-4d56-ed6c-e84a4b86bfe7"
      },
      "source": [
        "dt['segunRepEstado']=dt.SegRep.apply(lambda x: 1 if x>0 else 0)\n",
        "dt[['segunRepEstado','SegRep']]"
      ],
      "execution_count": 80,
      "outputs": [
        {
          "output_type": "execute_result",
          "data": {
            "text/html": [
              "<div>\n",
              "<style scoped>\n",
              "    .dataframe tbody tr th:only-of-type {\n",
              "        vertical-align: middle;\n",
              "    }\n",
              "\n",
              "    .dataframe tbody tr th {\n",
              "        vertical-align: top;\n",
              "    }\n",
              "\n",
              "    .dataframe thead th {\n",
              "        text-align: right;\n",
              "    }\n",
              "</style>\n",
              "<table border=\"1\" class=\"dataframe\">\n",
              "  <thead>\n",
              "    <tr style=\"text-align: right;\">\n",
              "      <th></th>\n",
              "      <th>segunRepEstado</th>\n",
              "      <th>SegRep</th>\n",
              "    </tr>\n",
              "  </thead>\n",
              "  <tbody>\n",
              "    <tr>\n",
              "      <th>0</th>\n",
              "      <td>0</td>\n",
              "      <td>0</td>\n",
              "    </tr>\n",
              "    <tr>\n",
              "      <th>1</th>\n",
              "      <td>1</td>\n",
              "      <td>1</td>\n",
              "    </tr>\n",
              "    <tr>\n",
              "      <th>2</th>\n",
              "      <td>1</td>\n",
              "      <td>1</td>\n",
              "    </tr>\n",
              "    <tr>\n",
              "      <th>3</th>\n",
              "      <td>0</td>\n",
              "      <td>0</td>\n",
              "    </tr>\n",
              "    <tr>\n",
              "      <th>4</th>\n",
              "      <td>0</td>\n",
              "      <td>0</td>\n",
              "    </tr>\n",
              "    <tr>\n",
              "      <th>...</th>\n",
              "      <td>...</td>\n",
              "      <td>...</td>\n",
              "    </tr>\n",
              "    <tr>\n",
              "      <th>120</th>\n",
              "      <td>1</td>\n",
              "      <td>2</td>\n",
              "    </tr>\n",
              "    <tr>\n",
              "      <th>121</th>\n",
              "      <td>0</td>\n",
              "      <td>0</td>\n",
              "    </tr>\n",
              "    <tr>\n",
              "      <th>122</th>\n",
              "      <td>1</td>\n",
              "      <td>4</td>\n",
              "    </tr>\n",
              "    <tr>\n",
              "      <th>123</th>\n",
              "      <td>0</td>\n",
              "      <td>0</td>\n",
              "    </tr>\n",
              "    <tr>\n",
              "      <th>124</th>\n",
              "      <td>0</td>\n",
              "      <td>0</td>\n",
              "    </tr>\n",
              "  </tbody>\n",
              "</table>\n",
              "<p>124 rows × 2 columns</p>\n",
              "</div>"
            ],
            "text/plain": [
              "     segunRepEstado  SegRep\n",
              "0                 0       0\n",
              "1                 1       1\n",
              "2                 1       1\n",
              "3                 0       0\n",
              "4                 0       0\n",
              "..              ...     ...\n",
              "120               1       2\n",
              "121               0       0\n",
              "122               1       4\n",
              "123               0       0\n",
              "124               0       0\n",
              "\n",
              "[124 rows x 2 columns]"
            ]
          },
          "metadata": {
            "tags": []
          },
          "execution_count": 80
        }
      ]
    },
    {
      "cell_type": "markdown",
      "metadata": {
        "id": "O9a3WJXajq8t",
        "colab_type": "text"
      },
      "source": [
        "# Sacar cruce de tipo de colegio y 3ra repitencia...tambien con edad, distrito(agrupar por conos )"
      ]
    },
    {
      "cell_type": "code",
      "metadata": {
        "id": "oSc5D9eGjq8t",
        "colab_type": "code",
        "colab": {
          "base_uri": "https://localhost:8080/",
          "height": 173
        },
        "outputId": "aefadf52-c92b-465b-a0ca-820809b91b47"
      },
      "source": [
        "pd.crosstab(index=dt.tercerRepEstado,columns=dt['TipoCole'],margins=True)"
      ],
      "execution_count": 81,
      "outputs": [
        {
          "output_type": "execute_result",
          "data": {
            "text/html": [
              "<div>\n",
              "<style scoped>\n",
              "    .dataframe tbody tr th:only-of-type {\n",
              "        vertical-align: middle;\n",
              "    }\n",
              "\n",
              "    .dataframe tbody tr th {\n",
              "        vertical-align: top;\n",
              "    }\n",
              "\n",
              "    .dataframe thead th {\n",
              "        text-align: right;\n",
              "    }\n",
              "</style>\n",
              "<table border=\"1\" class=\"dataframe\">\n",
              "  <thead>\n",
              "    <tr style=\"text-align: right;\">\n",
              "      <th>TipoCole</th>\n",
              "      <th>NACIONAL</th>\n",
              "      <th>PARROQUIAL</th>\n",
              "      <th>PARTICULAR</th>\n",
              "      <th>All</th>\n",
              "    </tr>\n",
              "    <tr>\n",
              "      <th>tercerRepEstado</th>\n",
              "      <th></th>\n",
              "      <th></th>\n",
              "      <th></th>\n",
              "      <th></th>\n",
              "    </tr>\n",
              "  </thead>\n",
              "  <tbody>\n",
              "    <tr>\n",
              "      <th>0</th>\n",
              "      <td>29</td>\n",
              "      <td>11</td>\n",
              "      <td>38</td>\n",
              "      <td>78</td>\n",
              "    </tr>\n",
              "    <tr>\n",
              "      <th>1</th>\n",
              "      <td>23</td>\n",
              "      <td>4</td>\n",
              "      <td>19</td>\n",
              "      <td>46</td>\n",
              "    </tr>\n",
              "    <tr>\n",
              "      <th>All</th>\n",
              "      <td>52</td>\n",
              "      <td>15</td>\n",
              "      <td>57</td>\n",
              "      <td>124</td>\n",
              "    </tr>\n",
              "  </tbody>\n",
              "</table>\n",
              "</div>"
            ],
            "text/plain": [
              "TipoCole         NACIONAL  PARROQUIAL  PARTICULAR  All\n",
              "tercerRepEstado                                       \n",
              "0                      29          11          38   78\n",
              "1                      23           4          19   46\n",
              "All                    52          15          57  124"
            ]
          },
          "metadata": {
            "tags": []
          },
          "execution_count": 81
        }
      ]
    },
    {
      "cell_type": "code",
      "metadata": {
        "id": "tVDDKCIqjq8u",
        "colab_type": "code",
        "colab": {
          "base_uri": "https://localhost:8080/",
          "height": 153
        },
        "outputId": "ebf81334-ceb1-44c3-a04a-a2c74509e342"
      },
      "source": [
        "dt.columns"
      ],
      "execution_count": 82,
      "outputs": [
        {
          "output_type": "execute_result",
          "data": {
            "text/plain": [
              "Index(['Codigo', 'AnioNac', 'Sexo', 'Resid', 'TipoCole', 'TipoIngres',\n",
              "       'PuntajeIngre', 'PrimRep', 'SegRep', 'TercRep', 'Mas3Rep', 'EduMadre',\n",
              "       'EduPadre', 'OcuPadre', 'OcuMadre', 'ClaseSoc', 'TempViajeUni',\n",
              "       'NumHermano', 'HermanoEstSup', 'PrepaAcademia', 'TempPrepAcadem',\n",
              "       'EdadIngreso', 'AporteEcono', 'TrabajoUniversi1Anio', 'SatisfCalidad',\n",
              "       'VocacionXpresion', 'CiudNac', 'PadreSep', 'ProbFamiliFreq', 'Edad',\n",
              "       'tercerRepEstado', 'segunRepEstado'],\n",
              "      dtype='object')"
            ]
          },
          "metadata": {
            "tags": []
          },
          "execution_count": 82
        }
      ]
    },
    {
      "cell_type": "code",
      "metadata": {
        "id": "mWBl_2hGjq8w",
        "colab_type": "code",
        "colab": {
          "base_uri": "https://localhost:8080/",
          "height": 281
        },
        "outputId": "d1965d43-1df2-4835-e7cc-80780569e9b0"
      },
      "source": [
        "#Histograma de  edad de alumnos con tercera repitencia \n",
        "dt[dt['tercerRepEstado']==1].hist(column='EdadIngreso',  color='blue',bins=40)\n",
        "matplotlib.pyplot.show()"
      ],
      "execution_count": 83,
      "outputs": [
        {
          "output_type": "display_data",
          "data": {
            "image/png": "[encoded data removed]",
            "text/plain": [
              "<Figure size 432x288 with 1 Axes>"
            ]
          },
          "metadata": {
            "tags": [],
            "needs_background": "light"
          }
        }
      ]
    },
    {
      "cell_type": "code",
      "metadata": {
        "id": "E0c_sJ3Yjq8x",
        "colab_type": "code",
        "colab": {
          "base_uri": "https://localhost:8080/",
          "height": 336
        },
        "outputId": "7d452248-d5ff-4d01-95e3-cb35c5e6d263"
      },
      "source": [
        "dt[dt['tercerRepEstado']==1].TipoCole.value_counts().plot(kind='bar')"
      ],
      "execution_count": 84,
      "outputs": [
        {
          "output_type": "execute_result",
          "data": {
            "text/plain": [
              "<matplotlib.axes._subplots.AxesSubplot at 0x7fa87add0f98>"
            ]
          },
          "metadata": {
            "tags": []
          },
          "execution_count": 84
        },
        {
          "output_type": "display_data",
          "data": {
            "image/png": "[encoded data removed]",
            "text/plain": [
              "<Figure size 432x288 with 1 Axes>"
            ]
          },
          "metadata": {
            "tags": [],
            "needs_background": "light"
          }
        }
      ]
    },
    {
      "cell_type": "code",
      "metadata": {
        "id": "-mnpRZGDjq8y",
        "colab_type": "code",
        "colab": {
          "base_uri": "https://localhost:8080/",
          "height": 350
        },
        "outputId": "3cba3dc2-c721-44f3-d451-bb5120af8bb5"
      },
      "source": [
        "tab=pd.crosstab(index=dt['TipoCole'],columns=dt['tercerRepEstado']).plot(kind='bar')\n",
        "tab.legend(['No 3ra rep','Si 3ra rep'])\n",
        "tab"
      ],
      "execution_count": 85,
      "outputs": [
        {
          "output_type": "execute_result",
          "data": {
            "text/plain": [
              "<matplotlib.axes._subplots.AxesSubplot at 0x7fa8714c51d0>"
            ]
          },
          "metadata": {
            "tags": []
          },
          "execution_count": 85
        },
        {
          "output_type": "display_data",
          "data": {
            "image/png": "[encoded data removed]",
            "text/plain": [
              "<Figure size 432x288 with 1 Axes>"
            ]
          },
          "metadata": {
            "tags": [],
            "needs_background": "light"
          }
        }
      ]
    },
    {
      "cell_type": "code",
      "metadata": {
        "id": "w5vhd8Ytjq80",
        "colab_type": "code",
        "colab": {
          "base_uri": "https://localhost:8080/",
          "height": 350
        },
        "outputId": "6901f9f9-3c88-49bf-fa63-565948808d2c"
      },
      "source": [
        "tab=pd.crosstab(index=dt['TipoCole'],columns=dt['segunRepEstado']).plot(kind='bar')\n",
        "tab.legend(['No 3ra rep','Si 3ra rep'])\n",
        "tab"
      ],
      "execution_count": 86,
      "outputs": [
        {
          "output_type": "execute_result",
          "data": {
            "text/plain": [
              "<matplotlib.axes._subplots.AxesSubplot at 0x7fa87ae0a048>"
            ]
          },
          "metadata": {
            "tags": []
          },
          "execution_count": 86
        },
        {
          "output_type": "display_data",
          "data": {
            "image/png": "[encoded data removed]",
            "text/plain": [
              "<Figure size 432x288 with 1 Axes>"
            ]
          },
          "metadata": {
            "tags": [],
            "needs_background": "light"
          }
        }
      ]
    },
    {
      "cell_type": "code",
      "metadata": {
        "id": "-p-GM5SYjq81",
        "colab_type": "code",
        "colab": {
          "base_uri": "https://localhost:8080/",
          "height": 396
        },
        "outputId": "9cf3421b-be4a-43da-b5fa-7892d96186ed"
      },
      "source": [
        "tab=pd.crosstab(index=dt['TempViajeUni'],columns=dt['segunRepEstado']).plot(kind='bar')\n",
        "tab.legend(['No 3ra rep','Si 3ra rep'])\n",
        "tab"
      ],
      "execution_count": 87,
      "outputs": [
        {
          "output_type": "execute_result",
          "data": {
            "text/plain": [
              "<matplotlib.axes._subplots.AxesSubplot at 0x7fa87ae52588>"
            ]
          },
          "metadata": {
            "tags": []
          },
          "execution_count": 87
        },
        {
          "output_type": "display_data",
          "data": {
            "image/png": "[encoded data removed]",
            "text/plain": [
              "<Figure size 432x288 with 1 Axes>"
            ]
          },
          "metadata": {
            "tags": [],
            "needs_background": "light"
          }
        }
      ]
    },
    {
      "cell_type": "code",
      "metadata": {
        "id": "-u96N574jq82",
        "colab_type": "code",
        "colab": {
          "base_uri": "https://localhost:8080/",
          "height": 300
        },
        "outputId": "38adc6bc-ce07-49a8-b8ef-bccbe9445ec8"
      },
      "source": [
        "tab=pd.crosstab(index=dt['ProbFamiliFreq'],columns=dt['tercerRepEstado']).plot(kind='bar')\n",
        "tab.legend(['No 2ra rep','Si 2ra rep'])\n",
        "tab"
      ],
      "execution_count": 88,
      "outputs": [
        {
          "output_type": "execute_result",
          "data": {
            "text/plain": [
              "<matplotlib.axes._subplots.AxesSubplot at 0x7fa86ebc50b8>"
            ]
          },
          "metadata": {
            "tags": []
          },
          "execution_count": 88
        },
        {
          "output_type": "display_data",
          "data": {
            "image/png": "[encoded data removed]",
            "text/plain": [
              "<Figure size 432x288 with 1 Axes>"
            ]
          },
          "metadata": {
            "tags": [],
            "needs_background": "light"
          }
        }
      ]
    },
    {
      "cell_type": "code",
      "metadata": {
        "id": "OyCYjRkcjq83",
        "colab_type": "code",
        "colab": {
          "base_uri": "https://localhost:8080/",
          "height": 685
        },
        "outputId": "41f69e69-1968-4e89-d54a-1eef0834eaea"
      },
      "source": [
        "tab=pd.crosstab(index=dt['OcuPadre'],columns=dt['tercerRepEstado']).plot(kind='bar')\n",
        "tab.legend(['No 3ra rep','Si 3ra rep'])"
      ],
      "execution_count": 89,
      "outputs": [
        {
          "output_type": "execute_result",
          "data": {
            "text/plain": [
              "<matplotlib.legend.Legend at 0x7fa86eb2f518>"
            ]
          },
          "metadata": {
            "tags": []
          },
          "execution_count": 89
        },
        {
          "output_type": "display_data",
          "data": {
            "image/png": "[encoded data removed]",
            "text/plain": [
              "<Figure size 432x288 with 1 Axes>"
            ]
          },
          "metadata": {
            "tags": [],
            "needs_background": "light"
          }
        }
      ]
    },
    {
      "cell_type": "code",
      "metadata": {
        "id": "aCO8gjlZjq85",
        "colab_type": "code",
        "colab": {
          "base_uri": "https://localhost:8080/",
          "height": 762
        },
        "outputId": "fbc7215b-6c9e-4945-88a9-0e4d7ae5f351"
      },
      "source": [
        "tab=pd.crosstab(index=dt['OcuMadre'],columns=dt['tercerRepEstado']).plot(kind='bar')\n",
        "tab.legend(['No 3ra-rep','Si 3ra-rep'])"
      ],
      "execution_count": 91,
      "outputs": [
        {
          "output_type": "execute_result",
          "data": {
            "text/plain": [
              "<matplotlib.legend.Legend at 0x7fa86ea2eb00>"
            ]
          },
          "metadata": {
            "tags": []
          },
          "execution_count": 91
        },
        {
          "output_type": "display_data",
          "data": {
            "image/png": "[encoded data removed]",
            "text/plain": [
              "<Figure size 432x288 with 1 Axes>"
            ]
          },
          "metadata": {
            "tags": [],
            "needs_background": "light"
          }
        }
      ]
    },
    {
      "cell_type": "code",
      "metadata": {
        "id": "yVCQLEj2jq86",
        "colab_type": "code",
        "colab": {}
      },
      "source": [
        ""
      ],
      "execution_count": 0,
      "outputs": []
    }
  ]
}