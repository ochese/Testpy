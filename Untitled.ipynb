{
 "cells": [
  {
   "cell_type": "code",
   "execution_count": 2,
   "metadata": {},
   "outputs": [],
   "source": [
    "import pandas as pd\n",
    "import numpy as np"
   ]
  },
  {
   "cell_type": "code",
   "execution_count": 3,
   "metadata": {},
   "outputs": [],
   "source": [
    "df = pd.read_excel('C:\\\\form_python.xlsx')"
   ]
  },
  {
   "cell_type": "code",
   "execution_count": 4,
   "metadata": {},
   "outputs": [
    {
     "data": {
      "text/html": [
       "<div>\n",
       "<style scoped>\n",
       "    .dataframe tbody tr th:only-of-type {\n",
       "        vertical-align: middle;\n",
       "    }\n",
       "\n",
       "    .dataframe tbody tr th {\n",
       "        vertical-align: top;\n",
       "    }\n",
       "\n",
       "    .dataframe thead th {\n",
       "        text-align: right;\n",
       "    }\n",
       "</style>\n",
       "<table border=\"1\" class=\"dataframe\">\n",
       "  <thead>\n",
       "    <tr style=\"text-align: right;\">\n",
       "      <th></th>\n",
       "      <th>Marca temporal</th>\n",
       "      <th>Codigo</th>\n",
       "      <th>Año de Nacimiento</th>\n",
       "      <th>SEXO</th>\n",
       "      <th>Lugar de Residencia Actual</th>\n",
       "      <th>TIPO DE COLEGIO EN EL QUE ESTUDIO</th>\n",
       "      <th>En que periodo ingreso ?</th>\n",
       "      <th>TIPO DE INGRESO</th>\n",
       "      <th>PUNTAJE DE INGRESO (LO MAS CERCANO A SU PUNTAJE REAL)</th>\n",
       "      <th>CUANTOS CURSOS DESAPROBO EL PRIMER AÑO DE ESTUDIO? O EN LO QUE  DEL AÑO</th>\n",
       "      <th>...</th>\n",
       "      <th>CUANTO TIEMPO SE PREPARO EN ACADEMIA</th>\n",
       "      <th>CUANTOS AÑOS TENIA CUANDO INGRESO A LA UNIVERSIDAD?</th>\n",
       "      <th>APORTABA ECONOMICAMENTE EN SU CASA EL AÑO QUE INGRESO?</th>\n",
       "      <th>TRABAJABA DURANTE EL PRIMER AÑO DE UNIVERSIDAD?</th>\n",
       "      <th>SE SIENTE SATISFECHO CON LA CALIDAD DE ENSEÑANZA EN LA UNIVERSIDAD?</th>\n",
       "      <th>SI NO HUBIERA TENIDO ALGUN  TIPO DE PRESION FAMILIAR  O ECONOMICA, CREE QUE HUBIERA ELEGIDO LA CARRERA QUE ESTUDIA ACTUALMENTE?</th>\n",
       "      <th>Ciudad donde nacio</th>\n",
       "      <th>Padres Separados?</th>\n",
       "      <th>Considera que en su hogar surgen conflictos  familiares recurrentes?</th>\n",
       "      <th>Unnamed: 33</th>\n",
       "    </tr>\n",
       "  </thead>\n",
       "  <tbody>\n",
       "    <tr>\n",
       "      <th>0</th>\n",
       "      <td>2019-09-28 01:02:10.297</td>\n",
       "      <td>15200053</td>\n",
       "      <td>1996</td>\n",
       "      <td>Hombre</td>\n",
       "      <td>LINCE</td>\n",
       "      <td>PARTICULAR</td>\n",
       "      <td>Setiembre</td>\n",
       "      <td>CEPRE</td>\n",
       "      <td>1350.0</td>\n",
       "      <td>0</td>\n",
       "      <td>...</td>\n",
       "      <td>UN AÑO Y MEDIO</td>\n",
       "      <td>18</td>\n",
       "      <td>NO</td>\n",
       "      <td>No</td>\n",
       "      <td>Sí</td>\n",
       "      <td>Sí</td>\n",
       "      <td>NaN</td>\n",
       "      <td>NaN</td>\n",
       "      <td>NaN</td>\n",
       "      <td>NaN</td>\n",
       "    </tr>\n",
       "    <tr>\n",
       "      <th>1</th>\n",
       "      <td>2019-09-28 01:25:28.747</td>\n",
       "      <td>15200015</td>\n",
       "      <td>1995</td>\n",
       "      <td>Hombre</td>\n",
       "      <td>SAN MARTIN DE PORRES</td>\n",
       "      <td>PARTICULAR</td>\n",
       "      <td>Setiembre</td>\n",
       "      <td>EXAMEN ORDINARIO</td>\n",
       "      <td>1530.0</td>\n",
       "      <td>0</td>\n",
       "      <td>...</td>\n",
       "      <td>DOS AÑOS</td>\n",
       "      <td>19</td>\n",
       "      <td>NO</td>\n",
       "      <td>Sí</td>\n",
       "      <td>No</td>\n",
       "      <td>Sí</td>\n",
       "      <td>NaN</td>\n",
       "      <td>NaN</td>\n",
       "      <td>NaN</td>\n",
       "      <td>NaN</td>\n",
       "    </tr>\n",
       "    <tr>\n",
       "      <th>2</th>\n",
       "      <td>2019-09-28 08:08:23.336</td>\n",
       "      <td>15200052</td>\n",
       "      <td>1994</td>\n",
       "      <td>Hombre</td>\n",
       "      <td>SAN JUAN DE LURIGANCHO</td>\n",
       "      <td>PARTICULAR</td>\n",
       "      <td>Setiembre</td>\n",
       "      <td>CEPRE</td>\n",
       "      <td>1300.0</td>\n",
       "      <td>1</td>\n",
       "      <td>...</td>\n",
       "      <td>NO SE PREPARO EN ACADEMIA</td>\n",
       "      <td>20</td>\n",
       "      <td>NO</td>\n",
       "      <td>No</td>\n",
       "      <td>Sí</td>\n",
       "      <td>Sí</td>\n",
       "      <td>NaN</td>\n",
       "      <td>NaN</td>\n",
       "      <td>NaN</td>\n",
       "      <td>NaN</td>\n",
       "    </tr>\n",
       "    <tr>\n",
       "      <th>3</th>\n",
       "      <td>2019-09-28 11:32:04.743</td>\n",
       "      <td>15200024</td>\n",
       "      <td>1996</td>\n",
       "      <td>Hombre</td>\n",
       "      <td>LIMA</td>\n",
       "      <td>PARTICULAR</td>\n",
       "      <td>Setiembre</td>\n",
       "      <td>EXAMEN ORDINARIO</td>\n",
       "      <td>1589.9</td>\n",
       "      <td>0</td>\n",
       "      <td>...</td>\n",
       "      <td>UN AÑO Y MEDIO</td>\n",
       "      <td>15</td>\n",
       "      <td>NO</td>\n",
       "      <td>No</td>\n",
       "      <td>No</td>\n",
       "      <td>Sí</td>\n",
       "      <td>NaN</td>\n",
       "      <td>NaN</td>\n",
       "      <td>NaN</td>\n",
       "      <td>NaN</td>\n",
       "    </tr>\n",
       "    <tr>\n",
       "      <th>4</th>\n",
       "      <td>2019-09-28 13:36:07.393</td>\n",
       "      <td>15200125</td>\n",
       "      <td>1996</td>\n",
       "      <td>Mujer</td>\n",
       "      <td>VILLA EL SALVADOR</td>\n",
       "      <td>NACIONAL</td>\n",
       "      <td>Marzo</td>\n",
       "      <td>EXAMEN ORDINARIO</td>\n",
       "      <td>1520.0</td>\n",
       "      <td>1</td>\n",
       "      <td>...</td>\n",
       "      <td>DOS AÑOS</td>\n",
       "      <td>18</td>\n",
       "      <td>NO</td>\n",
       "      <td>No</td>\n",
       "      <td>No</td>\n",
       "      <td>Sí</td>\n",
       "      <td>NaN</td>\n",
       "      <td>NaN</td>\n",
       "      <td>NaN</td>\n",
       "      <td>NaN</td>\n",
       "    </tr>\n",
       "  </tbody>\n",
       "</table>\n",
       "<p>5 rows × 34 columns</p>\n",
       "</div>"
      ],
      "text/plain": [
       "           Marca temporal    Codigo  Año de Nacimiento    SEXO  \\\n",
       "0 2019-09-28 01:02:10.297  15200053               1996  Hombre   \n",
       "1 2019-09-28 01:25:28.747  15200015               1995  Hombre   \n",
       "2 2019-09-28 08:08:23.336  15200052               1994  Hombre   \n",
       "3 2019-09-28 11:32:04.743  15200024               1996  Hombre   \n",
       "4 2019-09-28 13:36:07.393  15200125               1996   Mujer   \n",
       "\n",
       "  Lugar de Residencia Actual TIPO DE COLEGIO EN EL QUE ESTUDIO  \\\n",
       "0                      LINCE                        PARTICULAR   \n",
       "1       SAN MARTIN DE PORRES                        PARTICULAR   \n",
       "2     SAN JUAN DE LURIGANCHO                        PARTICULAR   \n",
       "3                       LIMA                        PARTICULAR   \n",
       "4          VILLA EL SALVADOR                          NACIONAL   \n",
       "\n",
       "  En que periodo ingreso ?   TIPO DE INGRESO  \\\n",
       "0                Setiembre             CEPRE   \n",
       "1                Setiembre  EXAMEN ORDINARIO   \n",
       "2                Setiembre             CEPRE   \n",
       "3                Setiembre  EXAMEN ORDINARIO   \n",
       "4                    Marzo  EXAMEN ORDINARIO   \n",
       "\n",
       "   PUNTAJE DE INGRESO (LO MAS CERCANO A SU PUNTAJE REAL)  \\\n",
       "0                                             1350.0       \n",
       "1                                             1530.0       \n",
       "2                                             1300.0       \n",
       "3                                             1589.9       \n",
       "4                                             1520.0       \n",
       "\n",
       "   CUANTOS CURSOS DESAPROBO EL PRIMER AÑO DE ESTUDIO? O EN LO QUE  DEL AÑO  \\\n",
       "0                                                  0                         \n",
       "1                                                  0                         \n",
       "2                                                  1                         \n",
       "3                                                  0                         \n",
       "4                                                  1                         \n",
       "\n",
       "   ...  CUANTO TIEMPO SE PREPARO EN ACADEMIA  \\\n",
       "0  ...                        UN AÑO Y MEDIO   \n",
       "1  ...                              DOS AÑOS   \n",
       "2  ...             NO SE PREPARO EN ACADEMIA   \n",
       "3  ...                        UN AÑO Y MEDIO   \n",
       "4  ...                              DOS AÑOS   \n",
       "\n",
       "   CUANTOS AÑOS TENIA CUANDO INGRESO A LA UNIVERSIDAD?  \\\n",
       "0                                                 18     \n",
       "1                                                 19     \n",
       "2                                                 20     \n",
       "3                                                 15     \n",
       "4                                                 18     \n",
       "\n",
       "   APORTABA ECONOMICAMENTE EN SU CASA EL AÑO QUE INGRESO?  \\\n",
       "0                                                 NO        \n",
       "1                                                 NO        \n",
       "2                                                 NO        \n",
       "3                                                 NO        \n",
       "4                                                 NO        \n",
       "\n",
       "  TRABAJABA DURANTE EL PRIMER AÑO DE UNIVERSIDAD?  \\\n",
       "0                                              No   \n",
       "1                                              Sí   \n",
       "2                                              No   \n",
       "3                                              No   \n",
       "4                                              No   \n",
       "\n",
       "  SE SIENTE SATISFECHO CON LA CALIDAD DE ENSEÑANZA EN LA UNIVERSIDAD?  \\\n",
       "0                                                 Sí                    \n",
       "1                                                 No                    \n",
       "2                                                 Sí                    \n",
       "3                                                 No                    \n",
       "4                                                 No                    \n",
       "\n",
       "  SI NO HUBIERA TENIDO ALGUN  TIPO DE PRESION FAMILIAR  O ECONOMICA, CREE QUE HUBIERA ELEGIDO LA CARRERA QUE ESTUDIA ACTUALMENTE?  \\\n",
       "0                                                 Sí                                                                                \n",
       "1                                                 Sí                                                                                \n",
       "2                                                 Sí                                                                                \n",
       "3                                                 Sí                                                                                \n",
       "4                                                 Sí                                                                                \n",
       "\n",
       "  Ciudad donde nacio Padres Separados?  \\\n",
       "0                NaN               NaN   \n",
       "1                NaN               NaN   \n",
       "2                NaN               NaN   \n",
       "3                NaN               NaN   \n",
       "4                NaN               NaN   \n",
       "\n",
       "  Considera que en su hogar surgen conflictos  familiares recurrentes?  \\\n",
       "0                                                NaN                     \n",
       "1                                                NaN                     \n",
       "2                                                NaN                     \n",
       "3                                                NaN                     \n",
       "4                                                NaN                     \n",
       "\n",
       "  Unnamed: 33  \n",
       "0         NaN  \n",
       "1         NaN  \n",
       "2         NaN  \n",
       "3         NaN  \n",
       "4         NaN  \n",
       "\n",
       "[5 rows x 34 columns]"
      ]
     },
     "execution_count": 4,
     "metadata": {},
     "output_type": "execute_result"
    }
   ],
   "source": [
    "df.head(5)"
   ]
  },
  {
   "cell_type": "code",
   "execution_count": 5,
   "metadata": {},
   "outputs": [
    {
     "data": {
      "text/plain": [
       "(125, 34)"
      ]
     },
     "execution_count": 5,
     "metadata": {},
     "output_type": "execute_result"
    }
   ],
   "source": [
    "df.shape\n"
   ]
  },
  {
   "cell_type": "code",
   "execution_count": 6,
   "metadata": {},
   "outputs": [
    {
     "data": {
      "text/plain": [
       "Index(['Marca temporal', 'Codigo', 'Año de Nacimiento', 'SEXO',\n",
       "       'Lugar de Residencia Actual', 'TIPO DE COLEGIO EN EL QUE ESTUDIO',\n",
       "       'En que periodo ingreso ?', 'TIPO DE INGRESO',\n",
       "       'PUNTAJE DE INGRESO (LO MAS CERCANO A SU PUNTAJE REAL)',\n",
       "       'CUANTOS CURSOS DESAPROBO EL PRIMER AÑO DE ESTUDIO? O EN LO QUE  DEL AÑO',\n",
       "       'EN CUANTOS CURSOS ESTUVO EN PRIMERA REPITENCIA',\n",
       "       'EN CUANTOS CURSOS ESTUVO EN SEGUNDA REPITENCIA',\n",
       "       'EN CUANTOS CURSOS ESTUVO EN TERCERA REPITENCIA',\n",
       "       'TUVO MAS DE 3 REPITENCIAS EN UN CURSO ',\n",
       "       'GRADO DE EDUCACION DE LA MADRE', 'GRADO DE EDUCACION DEL PADRE',\n",
       "       'OCUPACION DEL PADRE', 'OCUPACION DE LA MADRE', 'CLASE SOCIAL',\n",
       "       'TIEMPO QUE DEMORA EN LLEGAR A LA UNIVERSIDAD', 'NUMERO DE HERMANOS',\n",
       "       'TIENE HERMANOS CON ESTUDIOS SUPERIORES? (TECNICO O UNIVERSITARIO)',\n",
       "       'ESTADO CIVIL CUANDO EMPEZO LA UNIVERSIDAD', 'SE PREPARO EN ACADEMIA?',\n",
       "       'CUANTO TIEMPO SE PREPARO EN ACADEMIA',\n",
       "       'CUANTOS AÑOS TENIA CUANDO INGRESO A LA UNIVERSIDAD?',\n",
       "       'APORTABA ECONOMICAMENTE EN SU CASA EL AÑO QUE INGRESO?',\n",
       "       'TRABAJABA DURANTE EL PRIMER AÑO DE UNIVERSIDAD?',\n",
       "       'SE SIENTE SATISFECHO CON LA CALIDAD DE ENSEÑANZA EN LA UNIVERSIDAD?',\n",
       "       'SI NO HUBIERA TENIDO ALGUN  TIPO DE PRESION FAMILIAR  O ECONOMICA, CREE QUE HUBIERA ELEGIDO LA CARRERA QUE ESTUDIA ACTUALMENTE?',\n",
       "       'Ciudad donde nacio', 'Padres Separados?',\n",
       "       'Considera que en su hogar surgen conflictos  familiares recurrentes?',\n",
       "       'Unnamed: 33'],\n",
       "      dtype='object')"
      ]
     },
     "execution_count": 6,
     "metadata": {},
     "output_type": "execute_result"
    }
   ],
   "source": [
    "df.columns"
   ]
  },
  {
   "cell_type": "code",
   "execution_count": 7,
   "metadata": {},
   "outputs": [],
   "source": [
    "dt=df.drop(['Marca temporal','Unnamed: 33'], axis=1)"
   ]
  },
  {
   "cell_type": "code",
   "execution_count": 8,
   "metadata": {},
   "outputs": [
    {
     "data": {
      "text/plain": [
       "Index(['Codigo', 'Año de Nacimiento', 'SEXO', 'Lugar de Residencia Actual',\n",
       "       'TIPO DE COLEGIO EN EL QUE ESTUDIO', 'En que periodo ingreso ?',\n",
       "       'TIPO DE INGRESO',\n",
       "       'PUNTAJE DE INGRESO (LO MAS CERCANO A SU PUNTAJE REAL)',\n",
       "       'CUANTOS CURSOS DESAPROBO EL PRIMER AÑO DE ESTUDIO? O EN LO QUE  DEL AÑO',\n",
       "       'EN CUANTOS CURSOS ESTUVO EN PRIMERA REPITENCIA',\n",
       "       'EN CUANTOS CURSOS ESTUVO EN SEGUNDA REPITENCIA',\n",
       "       'EN CUANTOS CURSOS ESTUVO EN TERCERA REPITENCIA',\n",
       "       'TUVO MAS DE 3 REPITENCIAS EN UN CURSO ',\n",
       "       'GRADO DE EDUCACION DE LA MADRE', 'GRADO DE EDUCACION DEL PADRE',\n",
       "       'OCUPACION DEL PADRE', 'OCUPACION DE LA MADRE', 'CLASE SOCIAL',\n",
       "       'TIEMPO QUE DEMORA EN LLEGAR A LA UNIVERSIDAD', 'NUMERO DE HERMANOS',\n",
       "       'TIENE HERMANOS CON ESTUDIOS SUPERIORES? (TECNICO O UNIVERSITARIO)',\n",
       "       'ESTADO CIVIL CUANDO EMPEZO LA UNIVERSIDAD', 'SE PREPARO EN ACADEMIA?',\n",
       "       'CUANTO TIEMPO SE PREPARO EN ACADEMIA',\n",
       "       'CUANTOS AÑOS TENIA CUANDO INGRESO A LA UNIVERSIDAD?',\n",
       "       'APORTABA ECONOMICAMENTE EN SU CASA EL AÑO QUE INGRESO?',\n",
       "       'TRABAJABA DURANTE EL PRIMER AÑO DE UNIVERSIDAD?',\n",
       "       'SE SIENTE SATISFECHO CON LA CALIDAD DE ENSEÑANZA EN LA UNIVERSIDAD?',\n",
       "       'SI NO HUBIERA TENIDO ALGUN  TIPO DE PRESION FAMILIAR  O ECONOMICA, CREE QUE HUBIERA ELEGIDO LA CARRERA QUE ESTUDIA ACTUALMENTE?',\n",
       "       'Ciudad donde nacio', 'Padres Separados?',\n",
       "       'Considera que en su hogar surgen conflictos  familiares recurrentes?'],\n",
       "      dtype='object')"
      ]
     },
     "execution_count": 8,
     "metadata": {},
     "output_type": "execute_result"
    }
   ],
   "source": [
    "dt.columns"
   ]
  },
  {
   "cell_type": "code",
   "execution_count": 9,
   "metadata": {},
   "outputs": [],
   "source": [
    "#Cambiar nombres de las columnas\n",
    "dt.columns=['Codigo', 'AnioNac', 'Sexo', 'Resid',\n",
    "       'TipoCole', 'MesIngres',\n",
    "       'TipoIngres',\n",
    "       'PuntajeIngre',\n",
    "       'CurDes1Ano',\n",
    "       'PrimRep',\n",
    "       'SegRep',\n",
    "       'TercRep',\n",
    "       'Mas3Rep',\n",
    "       'EduMadre', 'EduPadre',\n",
    "       'OcuPadre', 'OcuMadre', 'ClaseSoc',\n",
    "       'TempViajeUni', 'NumHermano',\n",
    "       'HermanoEstSup',\n",
    "       'EstadCivilInicio', 'PrepaAcademia',\n",
    "       'TempPrepAcadem',\n",
    "       'EdadIngreso',\n",
    "       'AporteEcono',\n",
    "       'TrabajoUniversi1Anio',\n",
    "       'SatisfCalidad',\n",
    "       'VocacionXpresion',\n",
    "       'CiudNac', 'PadreSep',\n",
    "       'ProbFamiliFreq']"
   ]
  },
  {
   "cell_type": "code",
   "execution_count": 10,
   "metadata": {},
   "outputs": [
    {
     "data": {
      "text/plain": [
       "Index(['Codigo', 'AnioNac', 'Sexo', 'Resid', 'TipoCole', 'MesIngres',\n",
       "       'TipoIngres', 'PuntajeIngre', 'CurDes1Ano', 'PrimRep', 'SegRep',\n",
       "       'TercRep', 'Mas3Rep', 'EduMadre', 'EduPadre', 'OcuPadre', 'OcuMadre',\n",
       "       'ClaseSoc', 'TempViajeUni', 'NumHermano', 'HermanoEstSup',\n",
       "       'EstadCivilInicio', 'PrepaAcademia', 'TempPrepAcadem', 'EdadIngreso',\n",
       "       'AporteEcono', 'TrabajoUniversi1Anio', 'SatisfCalidad',\n",
       "       'VocacionXpresion', 'CiudNac', 'PadreSep', 'ProbFamiliFreq'],\n",
       "      dtype='object')"
      ]
     },
     "execution_count": 10,
     "metadata": {},
     "output_type": "execute_result"
    }
   ],
   "source": [
    "dt.columns"
   ]
  },
  {
   "cell_type": "code",
   "execution_count": 11,
   "metadata": {},
   "outputs": [
    {
     "data": {
      "text/html": [
       "<div>\n",
       "<style scoped>\n",
       "    .dataframe tbody tr th:only-of-type {\n",
       "        vertical-align: middle;\n",
       "    }\n",
       "\n",
       "    .dataframe tbody tr th {\n",
       "        vertical-align: top;\n",
       "    }\n",
       "\n",
       "    .dataframe thead th {\n",
       "        text-align: right;\n",
       "    }\n",
       "</style>\n",
       "<table border=\"1\" class=\"dataframe\">\n",
       "  <thead>\n",
       "    <tr style=\"text-align: right;\">\n",
       "      <th></th>\n",
       "      <th>Codigo</th>\n",
       "      <th>AnioNac</th>\n",
       "      <th>Sexo</th>\n",
       "      <th>Resid</th>\n",
       "      <th>TipoCole</th>\n",
       "      <th>MesIngres</th>\n",
       "      <th>TipoIngres</th>\n",
       "      <th>PuntajeIngre</th>\n",
       "      <th>CurDes1Ano</th>\n",
       "      <th>PrimRep</th>\n",
       "      <th>...</th>\n",
       "      <th>PrepaAcademia</th>\n",
       "      <th>TempPrepAcadem</th>\n",
       "      <th>EdadIngreso</th>\n",
       "      <th>AporteEcono</th>\n",
       "      <th>TrabajoUniversi1Anio</th>\n",
       "      <th>SatisfCalidad</th>\n",
       "      <th>VocacionXpresion</th>\n",
       "      <th>CiudNac</th>\n",
       "      <th>PadreSep</th>\n",
       "      <th>ProbFamiliFreq</th>\n",
       "    </tr>\n",
       "  </thead>\n",
       "  <tbody>\n",
       "    <tr>\n",
       "      <th>0</th>\n",
       "      <td>15200053</td>\n",
       "      <td>1996</td>\n",
       "      <td>Hombre</td>\n",
       "      <td>LINCE</td>\n",
       "      <td>PARTICULAR</td>\n",
       "      <td>Setiembre</td>\n",
       "      <td>CEPRE</td>\n",
       "      <td>1350.0</td>\n",
       "      <td>0</td>\n",
       "      <td>2</td>\n",
       "      <td>...</td>\n",
       "      <td>Sí</td>\n",
       "      <td>UN AÑO Y MEDIO</td>\n",
       "      <td>18</td>\n",
       "      <td>NO</td>\n",
       "      <td>No</td>\n",
       "      <td>Sí</td>\n",
       "      <td>Sí</td>\n",
       "      <td>NaN</td>\n",
       "      <td>NaN</td>\n",
       "      <td>NaN</td>\n",
       "    </tr>\n",
       "    <tr>\n",
       "      <th>1</th>\n",
       "      <td>15200015</td>\n",
       "      <td>1995</td>\n",
       "      <td>Hombre</td>\n",
       "      <td>SAN MARTIN DE PORRES</td>\n",
       "      <td>PARTICULAR</td>\n",
       "      <td>Setiembre</td>\n",
       "      <td>EXAMEN ORDINARIO</td>\n",
       "      <td>1530.0</td>\n",
       "      <td>0</td>\n",
       "      <td>4</td>\n",
       "      <td>...</td>\n",
       "      <td>Sí</td>\n",
       "      <td>DOS AÑOS</td>\n",
       "      <td>19</td>\n",
       "      <td>NO</td>\n",
       "      <td>Sí</td>\n",
       "      <td>No</td>\n",
       "      <td>Sí</td>\n",
       "      <td>NaN</td>\n",
       "      <td>NaN</td>\n",
       "      <td>NaN</td>\n",
       "    </tr>\n",
       "    <tr>\n",
       "      <th>2</th>\n",
       "      <td>15200052</td>\n",
       "      <td>1994</td>\n",
       "      <td>Hombre</td>\n",
       "      <td>SAN JUAN DE LURIGANCHO</td>\n",
       "      <td>PARTICULAR</td>\n",
       "      <td>Setiembre</td>\n",
       "      <td>CEPRE</td>\n",
       "      <td>1300.0</td>\n",
       "      <td>1</td>\n",
       "      <td>4</td>\n",
       "      <td>...</td>\n",
       "      <td>No</td>\n",
       "      <td>NO SE PREPARO EN ACADEMIA</td>\n",
       "      <td>20</td>\n",
       "      <td>NO</td>\n",
       "      <td>No</td>\n",
       "      <td>Sí</td>\n",
       "      <td>Sí</td>\n",
       "      <td>NaN</td>\n",
       "      <td>NaN</td>\n",
       "      <td>NaN</td>\n",
       "    </tr>\n",
       "    <tr>\n",
       "      <th>3</th>\n",
       "      <td>15200024</td>\n",
       "      <td>1996</td>\n",
       "      <td>Hombre</td>\n",
       "      <td>LIMA</td>\n",
       "      <td>PARTICULAR</td>\n",
       "      <td>Setiembre</td>\n",
       "      <td>EXAMEN ORDINARIO</td>\n",
       "      <td>1589.9</td>\n",
       "      <td>0</td>\n",
       "      <td>0</td>\n",
       "      <td>...</td>\n",
       "      <td>Sí</td>\n",
       "      <td>UN AÑO Y MEDIO</td>\n",
       "      <td>15</td>\n",
       "      <td>NO</td>\n",
       "      <td>No</td>\n",
       "      <td>No</td>\n",
       "      <td>Sí</td>\n",
       "      <td>NaN</td>\n",
       "      <td>NaN</td>\n",
       "      <td>NaN</td>\n",
       "    </tr>\n",
       "    <tr>\n",
       "      <th>4</th>\n",
       "      <td>15200125</td>\n",
       "      <td>1996</td>\n",
       "      <td>Mujer</td>\n",
       "      <td>VILLA EL SALVADOR</td>\n",
       "      <td>NACIONAL</td>\n",
       "      <td>Marzo</td>\n",
       "      <td>EXAMEN ORDINARIO</td>\n",
       "      <td>1520.0</td>\n",
       "      <td>1</td>\n",
       "      <td>7</td>\n",
       "      <td>...</td>\n",
       "      <td>Sí</td>\n",
       "      <td>DOS AÑOS</td>\n",
       "      <td>18</td>\n",
       "      <td>NO</td>\n",
       "      <td>No</td>\n",
       "      <td>No</td>\n",
       "      <td>Sí</td>\n",
       "      <td>NaN</td>\n",
       "      <td>NaN</td>\n",
       "      <td>NaN</td>\n",
       "    </tr>\n",
       "    <tr>\n",
       "      <th>5</th>\n",
       "      <td>16200033</td>\n",
       "      <td>1997</td>\n",
       "      <td>Mujer</td>\n",
       "      <td>COMAS</td>\n",
       "      <td>PARROQUIAL</td>\n",
       "      <td>Setiembre</td>\n",
       "      <td>EXAMEN ORDINARIO</td>\n",
       "      <td>1400.0</td>\n",
       "      <td>0</td>\n",
       "      <td>1</td>\n",
       "      <td>...</td>\n",
       "      <td>Sí</td>\n",
       "      <td>UN AÑO Y MEDIO</td>\n",
       "      <td>17</td>\n",
       "      <td>NO</td>\n",
       "      <td>No</td>\n",
       "      <td>No</td>\n",
       "      <td>No</td>\n",
       "      <td>NaN</td>\n",
       "      <td>NaN</td>\n",
       "      <td>NaN</td>\n",
       "    </tr>\n",
       "    <tr>\n",
       "      <th>6</th>\n",
       "      <td>14200151</td>\n",
       "      <td>1996</td>\n",
       "      <td>Hombre</td>\n",
       "      <td>LIMA</td>\n",
       "      <td>PARTICULAR</td>\n",
       "      <td>Setiembre</td>\n",
       "      <td>CEPRE</td>\n",
       "      <td>1300.0</td>\n",
       "      <td>3</td>\n",
       "      <td>5</td>\n",
       "      <td>...</td>\n",
       "      <td>Sí</td>\n",
       "      <td>UN AÑO</td>\n",
       "      <td>17</td>\n",
       "      <td>NO</td>\n",
       "      <td>No</td>\n",
       "      <td>No</td>\n",
       "      <td>Sí</td>\n",
       "      <td>Lima</td>\n",
       "      <td>No</td>\n",
       "      <td>No</td>\n",
       "    </tr>\n",
       "    <tr>\n",
       "      <th>7</th>\n",
       "      <td>15200114</td>\n",
       "      <td>1987</td>\n",
       "      <td>Hombre</td>\n",
       "      <td>VILLA MARIA DEL TRIUNFO</td>\n",
       "      <td>NACIONAL</td>\n",
       "      <td>Marzo</td>\n",
       "      <td>EXAMEN ORDINARIO</td>\n",
       "      <td>1475.0</td>\n",
       "      <td>3</td>\n",
       "      <td>15</td>\n",
       "      <td>...</td>\n",
       "      <td>No</td>\n",
       "      <td>NO SE PREPARO EN ACADEMIA</td>\n",
       "      <td>27</td>\n",
       "      <td>SI</td>\n",
       "      <td>Sí</td>\n",
       "      <td>Sí</td>\n",
       "      <td>No</td>\n",
       "      <td>Lima</td>\n",
       "      <td>No</td>\n",
       "      <td>No</td>\n",
       "    </tr>\n",
       "    <tr>\n",
       "      <th>8</th>\n",
       "      <td>17200061</td>\n",
       "      <td>1999</td>\n",
       "      <td>Hombre</td>\n",
       "      <td>CARABAYLLO</td>\n",
       "      <td>PARTICULAR</td>\n",
       "      <td>Setiembre</td>\n",
       "      <td>EXAMEN ORDINARIO</td>\n",
       "      <td>1350.0</td>\n",
       "      <td>4</td>\n",
       "      <td>4</td>\n",
       "      <td>...</td>\n",
       "      <td>Sí</td>\n",
       "      <td>UN AÑO</td>\n",
       "      <td>16</td>\n",
       "      <td>NO</td>\n",
       "      <td>No</td>\n",
       "      <td>No</td>\n",
       "      <td>No</td>\n",
       "      <td>Ancash</td>\n",
       "      <td>No</td>\n",
       "      <td>Sí</td>\n",
       "    </tr>\n",
       "    <tr>\n",
       "      <th>9</th>\n",
       "      <td>16200020</td>\n",
       "      <td>1997</td>\n",
       "      <td>Hombre</td>\n",
       "      <td>SAN JUAN DE LURIGANCHO</td>\n",
       "      <td>PARTICULAR</td>\n",
       "      <td>Setiembre</td>\n",
       "      <td>EXAMEN ORDINARIO</td>\n",
       "      <td>1430.0</td>\n",
       "      <td>0</td>\n",
       "      <td>2</td>\n",
       "      <td>...</td>\n",
       "      <td>Sí</td>\n",
       "      <td>UN AÑO</td>\n",
       "      <td>19</td>\n",
       "      <td>NO</td>\n",
       "      <td>Sí</td>\n",
       "      <td>Sí</td>\n",
       "      <td>Sí</td>\n",
       "      <td>Lima</td>\n",
       "      <td>Sí</td>\n",
       "      <td>No</td>\n",
       "    </tr>\n",
       "  </tbody>\n",
       "</table>\n",
       "<p>10 rows × 32 columns</p>\n",
       "</div>"
      ],
      "text/plain": [
       "     Codigo  AnioNac    Sexo                    Resid    TipoCole  MesIngres  \\\n",
       "0  15200053     1996  Hombre                    LINCE  PARTICULAR  Setiembre   \n",
       "1  15200015     1995  Hombre     SAN MARTIN DE PORRES  PARTICULAR  Setiembre   \n",
       "2  15200052     1994  Hombre   SAN JUAN DE LURIGANCHO  PARTICULAR  Setiembre   \n",
       "3  15200024     1996  Hombre                     LIMA  PARTICULAR  Setiembre   \n",
       "4  15200125     1996   Mujer        VILLA EL SALVADOR    NACIONAL      Marzo   \n",
       "5  16200033     1997   Mujer                    COMAS  PARROQUIAL  Setiembre   \n",
       "6  14200151     1996  Hombre                     LIMA  PARTICULAR  Setiembre   \n",
       "7  15200114     1987  Hombre  VILLA MARIA DEL TRIUNFO    NACIONAL      Marzo   \n",
       "8  17200061     1999  Hombre               CARABAYLLO  PARTICULAR  Setiembre   \n",
       "9  16200020     1997  Hombre   SAN JUAN DE LURIGANCHO  PARTICULAR  Setiembre   \n",
       "\n",
       "         TipoIngres  PuntajeIngre  CurDes1Ano  PrimRep  ...  PrepaAcademia  \\\n",
       "0             CEPRE        1350.0           0        2  ...             Sí   \n",
       "1  EXAMEN ORDINARIO        1530.0           0        4  ...             Sí   \n",
       "2             CEPRE        1300.0           1        4  ...             No   \n",
       "3  EXAMEN ORDINARIO        1589.9           0        0  ...             Sí   \n",
       "4  EXAMEN ORDINARIO        1520.0           1        7  ...             Sí   \n",
       "5  EXAMEN ORDINARIO        1400.0           0        1  ...             Sí   \n",
       "6             CEPRE        1300.0           3        5  ...             Sí   \n",
       "7  EXAMEN ORDINARIO        1475.0           3       15  ...             No   \n",
       "8  EXAMEN ORDINARIO        1350.0           4        4  ...             Sí   \n",
       "9  EXAMEN ORDINARIO        1430.0           0        2  ...             Sí   \n",
       "\n",
       "              TempPrepAcadem EdadIngreso AporteEcono TrabajoUniversi1Anio  \\\n",
       "0             UN AÑO Y MEDIO          18          NO                   No   \n",
       "1                   DOS AÑOS          19          NO                   Sí   \n",
       "2  NO SE PREPARO EN ACADEMIA          20          NO                   No   \n",
       "3             UN AÑO Y MEDIO          15          NO                   No   \n",
       "4                   DOS AÑOS          18          NO                   No   \n",
       "5             UN AÑO Y MEDIO          17          NO                   No   \n",
       "6                     UN AÑO          17          NO                   No   \n",
       "7  NO SE PREPARO EN ACADEMIA          27          SI                   Sí   \n",
       "8                     UN AÑO          16          NO                   No   \n",
       "9                     UN AÑO          19          NO                   Sí   \n",
       "\n",
       "  SatisfCalidad VocacionXpresion CiudNac PadreSep  ProbFamiliFreq  \n",
       "0            Sí               Sí     NaN      NaN             NaN  \n",
       "1            No               Sí     NaN      NaN             NaN  \n",
       "2            Sí               Sí     NaN      NaN             NaN  \n",
       "3            No               Sí     NaN      NaN             NaN  \n",
       "4            No               Sí     NaN      NaN             NaN  \n",
       "5            No               No     NaN      NaN             NaN  \n",
       "6            No               Sí    Lima       No              No  \n",
       "7            Sí               No    Lima       No              No  \n",
       "8            No               No  Ancash       No              Sí  \n",
       "9            Sí               Sí    Lima       Sí              No  \n",
       "\n",
       "[10 rows x 32 columns]"
      ]
     },
     "execution_count": 11,
     "metadata": {},
     "output_type": "execute_result"
    }
   ],
   "source": [
    "dt.head(10)"
   ]
  },
  {
   "cell_type": "markdown",
   "metadata": {},
   "source": [
    "## Tabla de contignecia de una variable"
   ]
  },
  {
   "cell_type": "code",
   "execution_count": 12,
   "metadata": {},
   "outputs": [
    {
     "data": {
      "text/html": [
       "<div>\n",
       "<style scoped>\n",
       "    .dataframe tbody tr th:only-of-type {\n",
       "        vertical-align: middle;\n",
       "    }\n",
       "\n",
       "    .dataframe tbody tr th {\n",
       "        vertical-align: top;\n",
       "    }\n",
       "\n",
       "    .dataframe thead th {\n",
       "        text-align: right;\n",
       "    }\n",
       "</style>\n",
       "<table border=\"1\" class=\"dataframe\">\n",
       "  <thead>\n",
       "    <tr style=\"text-align: right;\">\n",
       "      <th>col_0</th>\n",
       "      <th>Alumnos</th>\n",
       "    </tr>\n",
       "    <tr>\n",
       "      <th>Sexo</th>\n",
       "      <th></th>\n",
       "    </tr>\n",
       "  </thead>\n",
       "  <tbody>\n",
       "    <tr>\n",
       "      <th>Hombre</th>\n",
       "      <td>101</td>\n",
       "    </tr>\n",
       "    <tr>\n",
       "      <th>Mujer</th>\n",
       "      <td>22</td>\n",
       "    </tr>\n",
       "    <tr>\n",
       "      <th>OTRO</th>\n",
       "      <td>2</td>\n",
       "    </tr>\n",
       "  </tbody>\n",
       "</table>\n",
       "</div>"
      ],
      "text/plain": [
       "col_0   Alumnos\n",
       "Sexo           \n",
       "Hombre      101\n",
       "Mujer        22\n",
       "OTRO          2"
      ]
     },
     "execution_count": 12,
     "metadata": {},
     "output_type": "execute_result"
    }
   ],
   "source": [
    "tab=pd.crosstab(index=dt['Sexo'],columns='Alumnos')\n",
    "tab"
   ]
  },
  {
   "cell_type": "code",
   "execution_count": 13,
   "metadata": {},
   "outputs": [
    {
     "data": {
      "text/plain": [
       "<bound method NDFrame.describe of 0      Hombre\n",
       "1      Hombre\n",
       "2      Hombre\n",
       "3      Hombre\n",
       "4       Mujer\n",
       "        ...  \n",
       "120      OTRO\n",
       "121    Hombre\n",
       "122    Hombre\n",
       "123    Hombre\n",
       "124    Hombre\n",
       "Name: Sexo, Length: 125, dtype: object>"
      ]
     },
     "execution_count": 13,
     "metadata": {},
     "output_type": "execute_result"
    }
   ],
   "source": [
    "dt.Sexo.describe"
   ]
  },
  {
   "cell_type": "code",
   "execution_count": 14,
   "metadata": {},
   "outputs": [
    {
     "data": {
      "text/html": [
       "<div>\n",
       "<style scoped>\n",
       "    .dataframe tbody tr th:only-of-type {\n",
       "        vertical-align: middle;\n",
       "    }\n",
       "\n",
       "    .dataframe tbody tr th {\n",
       "        vertical-align: top;\n",
       "    }\n",
       "\n",
       "    .dataframe thead th {\n",
       "        text-align: right;\n",
       "    }\n",
       "</style>\n",
       "<table border=\"1\" class=\"dataframe\">\n",
       "  <thead>\n",
       "    <tr style=\"text-align: right;\">\n",
       "      <th>col_0</th>\n",
       "      <th>Alumnos</th>\n",
       "      <th>All</th>\n",
       "    </tr>\n",
       "    <tr>\n",
       "      <th>Sexo</th>\n",
       "      <th></th>\n",
       "      <th></th>\n",
       "    </tr>\n",
       "  </thead>\n",
       "  <tbody>\n",
       "    <tr>\n",
       "      <th>Hombre</th>\n",
       "      <td>101</td>\n",
       "      <td>101</td>\n",
       "    </tr>\n",
       "    <tr>\n",
       "      <th>Mujer</th>\n",
       "      <td>22</td>\n",
       "      <td>22</td>\n",
       "    </tr>\n",
       "    <tr>\n",
       "      <th>OTRO</th>\n",
       "      <td>2</td>\n",
       "      <td>2</td>\n",
       "    </tr>\n",
       "    <tr>\n",
       "      <th>All</th>\n",
       "      <td>125</td>\n",
       "      <td>125</td>\n",
       "    </tr>\n",
       "  </tbody>\n",
       "</table>\n",
       "</div>"
      ],
      "text/plain": [
       "col_0   Alumnos  All\n",
       "Sexo                \n",
       "Hombre      101  101\n",
       "Mujer        22   22\n",
       "OTRO          2    2\n",
       "All         125  125"
      ]
     },
     "execution_count": 14,
     "metadata": {},
     "output_type": "execute_result"
    }
   ],
   "source": [
    "tab=pd.crosstab(index=dt['Sexo'],columns='Alumnos',margins=True)\n",
    "tab"
   ]
  },
  {
   "cell_type": "code",
   "execution_count": 15,
   "metadata": {},
   "outputs": [
    {
     "data": {
      "text/html": [
       "<div>\n",
       "<style scoped>\n",
       "    .dataframe tbody tr th:only-of-type {\n",
       "        vertical-align: middle;\n",
       "    }\n",
       "\n",
       "    .dataframe tbody tr th {\n",
       "        vertical-align: top;\n",
       "    }\n",
       "\n",
       "    .dataframe thead th {\n",
       "        text-align: right;\n",
       "    }\n",
       "</style>\n",
       "<table border=\"1\" class=\"dataframe\">\n",
       "  <thead>\n",
       "    <tr style=\"text-align: right;\">\n",
       "      <th></th>\n",
       "      <th>NAC</th>\n",
       "      <th>PARR</th>\n",
       "      <th>PAR</th>\n",
       "      <th>Total</th>\n",
       "    </tr>\n",
       "    <tr>\n",
       "      <th>Sexo</th>\n",
       "      <th></th>\n",
       "      <th></th>\n",
       "      <th></th>\n",
       "      <th></th>\n",
       "    </tr>\n",
       "  </thead>\n",
       "  <tbody>\n",
       "    <tr>\n",
       "      <th>Hombre</th>\n",
       "      <td>43</td>\n",
       "      <td>11</td>\n",
       "      <td>47</td>\n",
       "      <td>101</td>\n",
       "    </tr>\n",
       "    <tr>\n",
       "      <th>Mujer</th>\n",
       "      <td>10</td>\n",
       "      <td>4</td>\n",
       "      <td>8</td>\n",
       "      <td>22</td>\n",
       "    </tr>\n",
       "    <tr>\n",
       "      <th>OTRO</th>\n",
       "      <td>0</td>\n",
       "      <td>0</td>\n",
       "      <td>2</td>\n",
       "      <td>2</td>\n",
       "    </tr>\n",
       "    <tr>\n",
       "      <th>All</th>\n",
       "      <td>53</td>\n",
       "      <td>15</td>\n",
       "      <td>57</td>\n",
       "      <td>125</td>\n",
       "    </tr>\n",
       "  </tbody>\n",
       "</table>\n",
       "</div>"
      ],
      "text/plain": [
       "        NAC  PARR  PAR  Total\n",
       "Sexo                         \n",
       "Hombre   43    11   47    101\n",
       "Mujer    10     4    8     22\n",
       "OTRO      0     0    2      2\n",
       "All      53    15   57    125"
      ]
     },
     "execution_count": 15,
     "metadata": {},
     "output_type": "execute_result"
    }
   ],
   "source": [
    "tab=pd.crosstab(index=dt['Sexo'],columns=dt['TipoCole'],margins=True)\n",
    "tab.columns=['NAC', 'PARR','PAR','Total']\n",
    "tab\n",
    "#tab\n",
    "#dt[( 'AnioNac', 'Sexo', 'Resid','TipoCole', 'MesIngres')].describe()"
   ]
  },
  {
   "cell_type": "code",
   "execution_count": 16,
   "metadata": {},
   "outputs": [
    {
     "data": {
      "text/html": [
       "<div>\n",
       "<style scoped>\n",
       "    .dataframe tbody tr th:only-of-type {\n",
       "        vertical-align: middle;\n",
       "    }\n",
       "\n",
       "    .dataframe tbody tr th {\n",
       "        vertical-align: top;\n",
       "    }\n",
       "\n",
       "    .dataframe thead tr th {\n",
       "        text-align: left;\n",
       "    }\n",
       "\n",
       "    .dataframe thead tr:last-of-type th {\n",
       "        text-align: right;\n",
       "    }\n",
       "</style>\n",
       "<table border=\"1\" class=\"dataframe\">\n",
       "  <thead>\n",
       "    <tr>\n",
       "      <th>TipoCole</th>\n",
       "      <th colspan=\"2\" halign=\"left\">NACIONAL</th>\n",
       "      <th colspan=\"2\" halign=\"left\">PARROQUIAL</th>\n",
       "      <th colspan=\"3\" halign=\"left\">PARTICULAR</th>\n",
       "    </tr>\n",
       "    <tr>\n",
       "      <th>Sexo</th>\n",
       "      <th>Hombre</th>\n",
       "      <th>Mujer</th>\n",
       "      <th>Hombre</th>\n",
       "      <th>Mujer</th>\n",
       "      <th>Hombre</th>\n",
       "      <th>Mujer</th>\n",
       "      <th>OTRO</th>\n",
       "    </tr>\n",
       "    <tr>\n",
       "      <th>row_0</th>\n",
       "      <th></th>\n",
       "      <th></th>\n",
       "      <th></th>\n",
       "      <th></th>\n",
       "      <th></th>\n",
       "      <th></th>\n",
       "      <th></th>\n",
       "    </tr>\n",
       "  </thead>\n",
       "  <tbody>\n",
       "    <tr>\n",
       "      <th>Alumnos</th>\n",
       "      <td>43</td>\n",
       "      <td>10</td>\n",
       "      <td>11</td>\n",
       "      <td>4</td>\n",
       "      <td>47</td>\n",
       "      <td>8</td>\n",
       "      <td>2</td>\n",
       "    </tr>\n",
       "  </tbody>\n",
       "</table>\n",
       "</div>"
      ],
      "text/plain": [
       "TipoCole NACIONAL       PARROQUIAL       PARTICULAR           \n",
       "Sexo       Hombre Mujer     Hombre Mujer     Hombre Mujer OTRO\n",
       "row_0                                                         \n",
       "Alumnos        43    10         11     4         47     8    2"
      ]
     },
     "execution_count": 16,
     "metadata": {},
     "output_type": "execute_result"
    }
   ],
   "source": [
    "tab=pd.crosstab(index=['Alumnos'],columns=[dt['TipoCole'],dt['Sexo']])\n",
    "tab"
   ]
  },
  {
   "cell_type": "code",
   "execution_count": 17,
   "metadata": {},
   "outputs": [
    {
     "data": {
      "text/html": [
       "<div>\n",
       "<style scoped>\n",
       "    .dataframe tbody tr th:only-of-type {\n",
       "        vertical-align: middle;\n",
       "    }\n",
       "\n",
       "    .dataframe tbody tr th {\n",
       "        vertical-align: top;\n",
       "    }\n",
       "\n",
       "    .dataframe thead th {\n",
       "        text-align: right;\n",
       "    }\n",
       "</style>\n",
       "<table border=\"1\" class=\"dataframe\">\n",
       "  <thead>\n",
       "    <tr style=\"text-align: right;\">\n",
       "      <th></th>\n",
       "      <th>Codigo</th>\n",
       "      <th>AnioNac</th>\n",
       "      <th>Sexo</th>\n",
       "      <th>Resid</th>\n",
       "      <th>TipoCole</th>\n",
       "      <th>MesIngres</th>\n",
       "      <th>TipoIngres</th>\n",
       "      <th>PuntajeIngre</th>\n",
       "      <th>CurDes1Ano</th>\n",
       "      <th>PrimRep</th>\n",
       "      <th>...</th>\n",
       "      <th>EstadCivilInicio</th>\n",
       "      <th>PrepaAcademia</th>\n",
       "      <th>TempPrepAcadem</th>\n",
       "      <th>EdadIngreso</th>\n",
       "      <th>AporteEcono</th>\n",
       "      <th>TrabajoUniversi1Anio</th>\n",
       "      <th>SatisfCalidad</th>\n",
       "      <th>VocacionXpresion</th>\n",
       "      <th>PadreSep</th>\n",
       "      <th>ProbFamiliFreq</th>\n",
       "    </tr>\n",
       "    <tr>\n",
       "      <th>CiudNac</th>\n",
       "      <th></th>\n",
       "      <th></th>\n",
       "      <th></th>\n",
       "      <th></th>\n",
       "      <th></th>\n",
       "      <th></th>\n",
       "      <th></th>\n",
       "      <th></th>\n",
       "      <th></th>\n",
       "      <th></th>\n",
       "      <th></th>\n",
       "      <th></th>\n",
       "      <th></th>\n",
       "      <th></th>\n",
       "      <th></th>\n",
       "      <th></th>\n",
       "      <th></th>\n",
       "      <th></th>\n",
       "      <th></th>\n",
       "      <th></th>\n",
       "      <th></th>\n",
       "    </tr>\n",
       "  </thead>\n",
       "  <tbody>\n",
       "    <tr>\n",
       "      <th>Ancash</th>\n",
       "      <td>4</td>\n",
       "      <td>4</td>\n",
       "      <td>4</td>\n",
       "      <td>4</td>\n",
       "      <td>4</td>\n",
       "      <td>4</td>\n",
       "      <td>4</td>\n",
       "      <td>4</td>\n",
       "      <td>4</td>\n",
       "      <td>4</td>\n",
       "      <td>...</td>\n",
       "      <td>4</td>\n",
       "      <td>4</td>\n",
       "      <td>4</td>\n",
       "      <td>4</td>\n",
       "      <td>4</td>\n",
       "      <td>4</td>\n",
       "      <td>4</td>\n",
       "      <td>4</td>\n",
       "      <td>4</td>\n",
       "      <td>4</td>\n",
       "    </tr>\n",
       "    <tr>\n",
       "      <th>Apurimac</th>\n",
       "      <td>1</td>\n",
       "      <td>1</td>\n",
       "      <td>1</td>\n",
       "      <td>1</td>\n",
       "      <td>1</td>\n",
       "      <td>1</td>\n",
       "      <td>1</td>\n",
       "      <td>1</td>\n",
       "      <td>1</td>\n",
       "      <td>1</td>\n",
       "      <td>...</td>\n",
       "      <td>1</td>\n",
       "      <td>1</td>\n",
       "      <td>1</td>\n",
       "      <td>1</td>\n",
       "      <td>1</td>\n",
       "      <td>1</td>\n",
       "      <td>1</td>\n",
       "      <td>1</td>\n",
       "      <td>1</td>\n",
       "      <td>1</td>\n",
       "    </tr>\n",
       "    <tr>\n",
       "      <th>Arequipa</th>\n",
       "      <td>1</td>\n",
       "      <td>1</td>\n",
       "      <td>1</td>\n",
       "      <td>1</td>\n",
       "      <td>1</td>\n",
       "      <td>1</td>\n",
       "      <td>1</td>\n",
       "      <td>1</td>\n",
       "      <td>1</td>\n",
       "      <td>1</td>\n",
       "      <td>...</td>\n",
       "      <td>1</td>\n",
       "      <td>1</td>\n",
       "      <td>1</td>\n",
       "      <td>1</td>\n",
       "      <td>1</td>\n",
       "      <td>1</td>\n",
       "      <td>1</td>\n",
       "      <td>1</td>\n",
       "      <td>1</td>\n",
       "      <td>1</td>\n",
       "    </tr>\n",
       "    <tr>\n",
       "      <th>Ayacucho</th>\n",
       "      <td>2</td>\n",
       "      <td>2</td>\n",
       "      <td>2</td>\n",
       "      <td>2</td>\n",
       "      <td>2</td>\n",
       "      <td>2</td>\n",
       "      <td>2</td>\n",
       "      <td>2</td>\n",
       "      <td>2</td>\n",
       "      <td>2</td>\n",
       "      <td>...</td>\n",
       "      <td>2</td>\n",
       "      <td>2</td>\n",
       "      <td>2</td>\n",
       "      <td>2</td>\n",
       "      <td>2</td>\n",
       "      <td>2</td>\n",
       "      <td>2</td>\n",
       "      <td>2</td>\n",
       "      <td>2</td>\n",
       "      <td>2</td>\n",
       "    </tr>\n",
       "    <tr>\n",
       "      <th>Callao</th>\n",
       "      <td>6</td>\n",
       "      <td>6</td>\n",
       "      <td>6</td>\n",
       "      <td>6</td>\n",
       "      <td>6</td>\n",
       "      <td>6</td>\n",
       "      <td>6</td>\n",
       "      <td>6</td>\n",
       "      <td>6</td>\n",
       "      <td>6</td>\n",
       "      <td>...</td>\n",
       "      <td>6</td>\n",
       "      <td>6</td>\n",
       "      <td>6</td>\n",
       "      <td>6</td>\n",
       "      <td>6</td>\n",
       "      <td>6</td>\n",
       "      <td>6</td>\n",
       "      <td>6</td>\n",
       "      <td>5</td>\n",
       "      <td>5</td>\n",
       "    </tr>\n",
       "    <tr>\n",
       "      <th>Cusco</th>\n",
       "      <td>2</td>\n",
       "      <td>2</td>\n",
       "      <td>2</td>\n",
       "      <td>2</td>\n",
       "      <td>2</td>\n",
       "      <td>2</td>\n",
       "      <td>2</td>\n",
       "      <td>2</td>\n",
       "      <td>2</td>\n",
       "      <td>2</td>\n",
       "      <td>...</td>\n",
       "      <td>2</td>\n",
       "      <td>2</td>\n",
       "      <td>2</td>\n",
       "      <td>2</td>\n",
       "      <td>2</td>\n",
       "      <td>2</td>\n",
       "      <td>2</td>\n",
       "      <td>2</td>\n",
       "      <td>2</td>\n",
       "      <td>2</td>\n",
       "    </tr>\n",
       "    <tr>\n",
       "      <th>Huanuco</th>\n",
       "      <td>1</td>\n",
       "      <td>1</td>\n",
       "      <td>1</td>\n",
       "      <td>1</td>\n",
       "      <td>1</td>\n",
       "      <td>1</td>\n",
       "      <td>1</td>\n",
       "      <td>1</td>\n",
       "      <td>1</td>\n",
       "      <td>1</td>\n",
       "      <td>...</td>\n",
       "      <td>1</td>\n",
       "      <td>1</td>\n",
       "      <td>1</td>\n",
       "      <td>1</td>\n",
       "      <td>1</td>\n",
       "      <td>1</td>\n",
       "      <td>1</td>\n",
       "      <td>1</td>\n",
       "      <td>1</td>\n",
       "      <td>1</td>\n",
       "    </tr>\n",
       "    <tr>\n",
       "      <th>Junín</th>\n",
       "      <td>4</td>\n",
       "      <td>4</td>\n",
       "      <td>4</td>\n",
       "      <td>4</td>\n",
       "      <td>4</td>\n",
       "      <td>4</td>\n",
       "      <td>4</td>\n",
       "      <td>4</td>\n",
       "      <td>4</td>\n",
       "      <td>4</td>\n",
       "      <td>...</td>\n",
       "      <td>4</td>\n",
       "      <td>4</td>\n",
       "      <td>4</td>\n",
       "      <td>4</td>\n",
       "      <td>4</td>\n",
       "      <td>4</td>\n",
       "      <td>4</td>\n",
       "      <td>4</td>\n",
       "      <td>4</td>\n",
       "      <td>4</td>\n",
       "    </tr>\n",
       "    <tr>\n",
       "      <th>Lima</th>\n",
       "      <td>96</td>\n",
       "      <td>96</td>\n",
       "      <td>96</td>\n",
       "      <td>96</td>\n",
       "      <td>96</td>\n",
       "      <td>96</td>\n",
       "      <td>96</td>\n",
       "      <td>96</td>\n",
       "      <td>96</td>\n",
       "      <td>96</td>\n",
       "      <td>...</td>\n",
       "      <td>96</td>\n",
       "      <td>96</td>\n",
       "      <td>96</td>\n",
       "      <td>96</td>\n",
       "      <td>96</td>\n",
       "      <td>96</td>\n",
       "      <td>96</td>\n",
       "      <td>96</td>\n",
       "      <td>96</td>\n",
       "      <td>95</td>\n",
       "    </tr>\n",
       "    <tr>\n",
       "      <th>Piura</th>\n",
       "      <td>1</td>\n",
       "      <td>1</td>\n",
       "      <td>1</td>\n",
       "      <td>1</td>\n",
       "      <td>1</td>\n",
       "      <td>1</td>\n",
       "      <td>1</td>\n",
       "      <td>1</td>\n",
       "      <td>1</td>\n",
       "      <td>1</td>\n",
       "      <td>...</td>\n",
       "      <td>1</td>\n",
       "      <td>1</td>\n",
       "      <td>1</td>\n",
       "      <td>1</td>\n",
       "      <td>1</td>\n",
       "      <td>1</td>\n",
       "      <td>1</td>\n",
       "      <td>1</td>\n",
       "      <td>1</td>\n",
       "      <td>1</td>\n",
       "    </tr>\n",
       "    <tr>\n",
       "      <th>Puno</th>\n",
       "      <td>1</td>\n",
       "      <td>1</td>\n",
       "      <td>1</td>\n",
       "      <td>1</td>\n",
       "      <td>1</td>\n",
       "      <td>1</td>\n",
       "      <td>1</td>\n",
       "      <td>1</td>\n",
       "      <td>1</td>\n",
       "      <td>1</td>\n",
       "      <td>...</td>\n",
       "      <td>1</td>\n",
       "      <td>1</td>\n",
       "      <td>1</td>\n",
       "      <td>1</td>\n",
       "      <td>1</td>\n",
       "      <td>1</td>\n",
       "      <td>1</td>\n",
       "      <td>1</td>\n",
       "      <td>1</td>\n",
       "      <td>1</td>\n",
       "    </tr>\n",
       "  </tbody>\n",
       "</table>\n",
       "<p>11 rows × 31 columns</p>\n",
       "</div>"
      ],
      "text/plain": [
       "          Codigo  AnioNac  Sexo  Resid  TipoCole  MesIngres  TipoIngres  \\\n",
       "CiudNac                                                                   \n",
       "Ancash         4        4     4      4         4          4           4   \n",
       "Apurimac       1        1     1      1         1          1           1   \n",
       "Arequipa       1        1     1      1         1          1           1   \n",
       "Ayacucho       2        2     2      2         2          2           2   \n",
       "Callao         6        6     6      6         6          6           6   \n",
       "Cusco          2        2     2      2         2          2           2   \n",
       "Huanuco        1        1     1      1         1          1           1   \n",
       "Junín          4        4     4      4         4          4           4   \n",
       "Lima          96       96    96     96        96         96          96   \n",
       "Piura          1        1     1      1         1          1           1   \n",
       "Puno           1        1     1      1         1          1           1   \n",
       "\n",
       "          PuntajeIngre  CurDes1Ano  PrimRep  ...  EstadCivilInicio  \\\n",
       "CiudNac                                      ...                     \n",
       "Ancash               4           4        4  ...                 4   \n",
       "Apurimac             1           1        1  ...                 1   \n",
       "Arequipa             1           1        1  ...                 1   \n",
       "Ayacucho             2           2        2  ...                 2   \n",
       "Callao               6           6        6  ...                 6   \n",
       "Cusco                2           2        2  ...                 2   \n",
       "Huanuco              1           1        1  ...                 1   \n",
       "Junín                4           4        4  ...                 4   \n",
       "Lima                96          96       96  ...                96   \n",
       "Piura                1           1        1  ...                 1   \n",
       "Puno                 1           1        1  ...                 1   \n",
       "\n",
       "          PrepaAcademia  TempPrepAcadem  EdadIngreso  AporteEcono  \\\n",
       "CiudNac                                                             \n",
       "Ancash                4               4            4            4   \n",
       "Apurimac              1               1            1            1   \n",
       "Arequipa              1               1            1            1   \n",
       "Ayacucho              2               2            2            2   \n",
       "Callao                6               6            6            6   \n",
       "Cusco                 2               2            2            2   \n",
       "Huanuco               1               1            1            1   \n",
       "Junín                 4               4            4            4   \n",
       "Lima                 96              96           96           96   \n",
       "Piura                 1               1            1            1   \n",
       "Puno                  1               1            1            1   \n",
       "\n",
       "          TrabajoUniversi1Anio  SatisfCalidad  VocacionXpresion  PadreSep  \\\n",
       "CiudNac                                                                     \n",
       "Ancash                       4              4                 4         4   \n",
       "Apurimac                     1              1                 1         1   \n",
       "Arequipa                     1              1                 1         1   \n",
       "Ayacucho                     2              2                 2         2   \n",
       "Callao                       6              6                 6         5   \n",
       "Cusco                        2              2                 2         2   \n",
       "Huanuco                      1              1                 1         1   \n",
       "Junín                        4              4                 4         4   \n",
       "Lima                        96             96                96        96   \n",
       "Piura                        1              1                 1         1   \n",
       "Puno                         1              1                 1         1   \n",
       "\n",
       "          ProbFamiliFreq  \n",
       "CiudNac                   \n",
       "Ancash                 4  \n",
       "Apurimac               1  \n",
       "Arequipa               1  \n",
       "Ayacucho               2  \n",
       "Callao                 5  \n",
       "Cusco                  2  \n",
       "Huanuco                1  \n",
       "Junín                  4  \n",
       "Lima                  95  \n",
       "Piura                  1  \n",
       "Puno                   1  \n",
       "\n",
       "[11 rows x 31 columns]"
      ]
     },
     "execution_count": 17,
     "metadata": {},
     "output_type": "execute_result"
    }
   ],
   "source": [
    "dt.groupby(['CiudNac']).count()"
   ]
  },
  {
   "cell_type": "code",
   "execution_count": 18,
   "metadata": {},
   "outputs": [
    {
     "data": {
      "text/plain": [
       "Codigo                  0\n",
       "AnioNac                 0\n",
       "Sexo                    0\n",
       "Resid                   0\n",
       "TipoCole                0\n",
       "MesIngres               0\n",
       "TipoIngres              0\n",
       "PuntajeIngre            0\n",
       "CurDes1Ano              0\n",
       "PrimRep                 0\n",
       "SegRep                  0\n",
       "TercRep                 0\n",
       "Mas3Rep                 0\n",
       "EduMadre                0\n",
       "EduPadre                0\n",
       "OcuPadre                1\n",
       "OcuMadre                1\n",
       "ClaseSoc                0\n",
       "TempViajeUni            0\n",
       "NumHermano              0\n",
       "HermanoEstSup           0\n",
       "EstadCivilInicio        0\n",
       "PrepaAcademia           0\n",
       "TempPrepAcadem          0\n",
       "EdadIngreso             0\n",
       "AporteEcono             0\n",
       "TrabajoUniversi1Anio    0\n",
       "SatisfCalidad           0\n",
       "VocacionXpresion        0\n",
       "CiudNac                 6\n",
       "PadreSep                7\n",
       "ProbFamiliFreq          8\n",
       "dtype: int64"
      ]
     },
     "execution_count": 18,
     "metadata": {},
     "output_type": "execute_result"
    }
   ],
   "source": [
    "dt.isnull().sum(axis=0)\n"
   ]
  },
  {
   "cell_type": "code",
   "execution_count": 19,
   "metadata": {},
   "outputs": [
    {
     "data": {
      "text/plain": [
       "Lima        96\n",
       "Callao       6\n",
       "Ancash       4\n",
       "Junín        4\n",
       "Ayacucho     2\n",
       "Cusco        2\n",
       "Puno         1\n",
       "Arequipa     1\n",
       "Piura        1\n",
       "Huanuco      1\n",
       "Apurimac     1\n",
       "Name: CiudNac, dtype: int64"
      ]
     },
     "execution_count": 19,
     "metadata": {},
     "output_type": "execute_result"
    }
   ],
   "source": [
    "dt.CiudNac.value_counts()"
   ]
  },
  {
   "cell_type": "code",
   "execution_count": 20,
   "metadata": {},
   "outputs": [
    {
     "data": {
      "text/plain": [
       "'Lima'"
      ]
     },
     "execution_count": 20,
     "metadata": {},
     "output_type": "execute_result"
    }
   ],
   "source": [
    "dt.CiudNac.value_counts().index[0]"
   ]
  },
  {
   "cell_type": "code",
   "execution_count": 21,
   "metadata": {},
   "outputs": [
    {
     "data": {
      "text/html": [
       "<div>\n",
       "<style scoped>\n",
       "    .dataframe tbody tr th:only-of-type {\n",
       "        vertical-align: middle;\n",
       "    }\n",
       "\n",
       "    .dataframe tbody tr th {\n",
       "        vertical-align: top;\n",
       "    }\n",
       "\n",
       "    .dataframe thead th {\n",
       "        text-align: right;\n",
       "    }\n",
       "</style>\n",
       "<table border=\"1\" class=\"dataframe\">\n",
       "  <thead>\n",
       "    <tr style=\"text-align: right;\">\n",
       "      <th></th>\n",
       "      <th>Codigo</th>\n",
       "      <th>AnioNac</th>\n",
       "      <th>Sexo</th>\n",
       "      <th>Resid</th>\n",
       "      <th>TipoCole</th>\n",
       "      <th>MesIngres</th>\n",
       "      <th>TipoIngres</th>\n",
       "      <th>PuntajeIngre</th>\n",
       "      <th>CurDes1Ano</th>\n",
       "      <th>PrimRep</th>\n",
       "      <th>...</th>\n",
       "      <th>PrepaAcademia</th>\n",
       "      <th>TempPrepAcadem</th>\n",
       "      <th>EdadIngreso</th>\n",
       "      <th>AporteEcono</th>\n",
       "      <th>TrabajoUniversi1Anio</th>\n",
       "      <th>SatisfCalidad</th>\n",
       "      <th>VocacionXpresion</th>\n",
       "      <th>CiudNac</th>\n",
       "      <th>PadreSep</th>\n",
       "      <th>ProbFamiliFreq</th>\n",
       "    </tr>\n",
       "  </thead>\n",
       "  <tbody>\n",
       "    <tr>\n",
       "      <th>1</th>\n",
       "      <td>15200015</td>\n",
       "      <td>1995</td>\n",
       "      <td>Hombre</td>\n",
       "      <td>SAN MARTIN DE PORRES</td>\n",
       "      <td>PARTICULAR</td>\n",
       "      <td>Setiembre</td>\n",
       "      <td>EXAMEN ORDINARIO</td>\n",
       "      <td>1530.0</td>\n",
       "      <td>0</td>\n",
       "      <td>4</td>\n",
       "      <td>...</td>\n",
       "      <td>Sí</td>\n",
       "      <td>DOS AÑOS</td>\n",
       "      <td>19</td>\n",
       "      <td>NO</td>\n",
       "      <td>Sí</td>\n",
       "      <td>No</td>\n",
       "      <td>Sí</td>\n",
       "      <td>NaN</td>\n",
       "      <td>NaN</td>\n",
       "      <td>NaN</td>\n",
       "    </tr>\n",
       "  </tbody>\n",
       "</table>\n",
       "<p>1 rows × 32 columns</p>\n",
       "</div>"
      ],
      "text/plain": [
       "     Codigo  AnioNac    Sexo                 Resid    TipoCole  MesIngres  \\\n",
       "1  15200015     1995  Hombre  SAN MARTIN DE PORRES  PARTICULAR  Setiembre   \n",
       "\n",
       "         TipoIngres  PuntajeIngre  CurDes1Ano  PrimRep  ...  PrepaAcademia  \\\n",
       "1  EXAMEN ORDINARIO        1530.0           0        4  ...             Sí   \n",
       "\n",
       "   TempPrepAcadem EdadIngreso AporteEcono TrabajoUniversi1Anio SatisfCalidad  \\\n",
       "1        DOS AÑOS          19          NO                   Sí            No   \n",
       "\n",
       "  VocacionXpresion CiudNac PadreSep  ProbFamiliFreq  \n",
       "1               Sí     NaN      NaN             NaN  \n",
       "\n",
       "[1 rows x 32 columns]"
      ]
     },
     "execution_count": 21,
     "metadata": {},
     "output_type": "execute_result"
    }
   ],
   "source": [
    "fil=dt[dt.OcuPadre.isnull()]\n",
    "fil"
   ]
  },
  {
   "cell_type": "markdown",
   "metadata": {},
   "source": [
    "##LLenando valores Nulso"
   ]
  },
  {
   "cell_type": "code",
   "execution_count": 22,
   "metadata": {},
   "outputs": [
    {
     "data": {
      "text/plain": [
       "Lima        102\n",
       "Callao        6\n",
       "Ancash        4\n",
       "Junín         4\n",
       "Ayacucho      2\n",
       "Cusco         2\n",
       "Puno          1\n",
       "Arequipa      1\n",
       "Piura         1\n",
       "Huanuco       1\n",
       "Apurimac      1\n",
       "Name: CiudNac, dtype: int64"
      ]
     },
     "execution_count": 22,
     "metadata": {},
     "output_type": "execute_result"
    }
   ],
   "source": [
    "#LLenando valores nulos de CiudNac\n",
    "dt.loc[:,'CiudNac']=dt.loc[:,'CiudNac'].fillna(dt.CiudNac.value_counts().index[0])\n",
    "dt.CiudNac.value_counts()"
   ]
  },
  {
   "cell_type": "code",
   "execution_count": 23,
   "metadata": {},
   "outputs": [
    {
     "data": {
      "text/plain": [
       "Codigo                  0\n",
       "AnioNac                 0\n",
       "Sexo                    0\n",
       "Resid                   0\n",
       "TipoCole                0\n",
       "MesIngres               0\n",
       "TipoIngres              0\n",
       "PuntajeIngre            0\n",
       "CurDes1Ano              0\n",
       "PrimRep                 0\n",
       "SegRep                  0\n",
       "TercRep                 0\n",
       "Mas3Rep                 0\n",
       "EduMadre                0\n",
       "EduPadre                0\n",
       "OcuPadre                1\n",
       "OcuMadre                1\n",
       "ClaseSoc                0\n",
       "TempViajeUni            0\n",
       "NumHermano              0\n",
       "HermanoEstSup           0\n",
       "EstadCivilInicio        0\n",
       "PrepaAcademia           0\n",
       "TempPrepAcadem          0\n",
       "EdadIngreso             0\n",
       "AporteEcono             0\n",
       "TrabajoUniversi1Anio    0\n",
       "SatisfCalidad           0\n",
       "VocacionXpresion        0\n",
       "CiudNac                 0\n",
       "PadreSep                7\n",
       "ProbFamiliFreq          8\n",
       "dtype: int64"
      ]
     },
     "execution_count": 23,
     "metadata": {},
     "output_type": "execute_result"
    }
   ],
   "source": [
    "dt.isnull().sum(axis=0)"
   ]
  },
  {
   "cell_type": "code",
   "execution_count": 24,
   "metadata": {},
   "outputs": [
    {
     "data": {
      "text/plain": [
       "OCUPACIONES BASICAS                                                                72\n",
       "TRABAJADORES DE SERVICIOS DE PROTECCION, PERSONALES, RESTAURACION, Y VENDEDORES    17\n",
       "PROFESIONAL                                                                        12\n",
       "TECNICO O PROFESIONAL DE APOYO                                                     10\n",
       "EMPLEADO CONTABLE, ADMINISTRATIVO U OTRO EMPLEADO DE OFICINA                        8\n",
       "TRABAJADORES DE LA INDUSTRIA MANUFACTURERA O CONSTRUCCION                           3\n",
       "TRABAJADORES EN EL SECTOR AGRICOLA, PESQUERO, GANADERO O FORESTAL                   2\n",
       "Name: OcuMadre, dtype: int64"
      ]
     },
     "execution_count": 24,
     "metadata": {},
     "output_type": "execute_result"
    }
   ],
   "source": [
    "dt.OcuMadre.value_counts()"
   ]
  },
  {
   "cell_type": "code",
   "execution_count": 25,
   "metadata": {},
   "outputs": [
    {
     "data": {
      "text/plain": [
       "Codigo                  0\n",
       "AnioNac                 0\n",
       "Sexo                    0\n",
       "Resid                   0\n",
       "TipoCole                0\n",
       "MesIngres               0\n",
       "TipoIngres              0\n",
       "PuntajeIngre            0\n",
       "CurDes1Ano              0\n",
       "PrimRep                 0\n",
       "SegRep                  0\n",
       "TercRep                 0\n",
       "Mas3Rep                 0\n",
       "EduMadre                0\n",
       "EduPadre                0\n",
       "OcuPadre                1\n",
       "OcuMadre                0\n",
       "ClaseSoc                0\n",
       "TempViajeUni            0\n",
       "NumHermano              0\n",
       "HermanoEstSup           0\n",
       "EstadCivilInicio        0\n",
       "PrepaAcademia           0\n",
       "TempPrepAcadem          0\n",
       "EdadIngreso             0\n",
       "AporteEcono             0\n",
       "TrabajoUniversi1Anio    0\n",
       "SatisfCalidad           0\n",
       "VocacionXpresion        0\n",
       "CiudNac                 0\n",
       "PadreSep                7\n",
       "ProbFamiliFreq          8\n",
       "dtype: int64"
      ]
     },
     "execution_count": 25,
     "metadata": {},
     "output_type": "execute_result"
    }
   ],
   "source": [
    "#LLenando valores nulos de OcuMadre\n",
    "dt.loc[:,'OcuMadre']=dt.loc[:,'OcuMadre'].fillna(dt.OcuMadre.value_counts().index[0])\n",
    "dt.isnull().sum(axis=0)"
   ]
  },
  {
   "cell_type": "code",
   "execution_count": 26,
   "metadata": {},
   "outputs": [
    {
     "data": {
      "text/plain": [
       "No    80\n",
       "Sí    38\n",
       "Name: PadreSep, dtype: int64"
      ]
     },
     "execution_count": 26,
     "metadata": {},
     "output_type": "execute_result"
    }
   ],
   "source": [
    "dt.PadreSep.value_counts()"
   ]
  },
  {
   "cell_type": "code",
   "execution_count": 27,
   "metadata": {},
   "outputs": [
    {
     "data": {
      "text/plain": [
       "No    87\n",
       "Sí    38\n",
       "Name: PadreSep, dtype: int64"
      ]
     },
     "execution_count": 27,
     "metadata": {},
     "output_type": "execute_result"
    }
   ],
   "source": [
    "dt.PadreSep.fillna(dt.PadreSep.value_counts().index[0],inplace=True)\n",
    "dt.PadreSep.value_counts()"
   ]
  },
  {
   "cell_type": "code",
   "execution_count": 28,
   "metadata": {},
   "outputs": [
    {
     "data": {
      "text/plain": [
       "No    87\n",
       "Sí    30\n",
       "Name: ProbFamiliFreq, dtype: int64"
      ]
     },
     "execution_count": 28,
     "metadata": {},
     "output_type": "execute_result"
    }
   ],
   "source": [
    "dt.ProbFamiliFreq.value_counts()"
   ]
  },
  {
   "cell_type": "code",
   "execution_count": 29,
   "metadata": {},
   "outputs": [
    {
     "data": {
      "text/plain": [
       "No    95\n",
       "Sí    30\n",
       "Name: ProbFamiliFreq, dtype: int64"
      ]
     },
     "execution_count": 29,
     "metadata": {},
     "output_type": "execute_result"
    }
   ],
   "source": [
    "dt.ProbFamiliFreq.fillna(dt.ProbFamiliFreq.value_counts().index[0],inplace=True)\n",
    "dt.ProbFamiliFreq.value_counts()"
   ]
  },
  {
   "cell_type": "code",
   "execution_count": 30,
   "metadata": {},
   "outputs": [
    {
     "data": {
      "text/plain": [
       "Codigo                  0\n",
       "AnioNac                 0\n",
       "Sexo                    0\n",
       "Resid                   0\n",
       "TipoCole                0\n",
       "MesIngres               0\n",
       "TipoIngres              0\n",
       "PuntajeIngre            0\n",
       "CurDes1Ano              0\n",
       "PrimRep                 0\n",
       "SegRep                  0\n",
       "TercRep                 0\n",
       "Mas3Rep                 0\n",
       "EduMadre                0\n",
       "EduPadre                0\n",
       "OcuPadre                1\n",
       "OcuMadre                0\n",
       "ClaseSoc                0\n",
       "TempViajeUni            0\n",
       "NumHermano              0\n",
       "HermanoEstSup           0\n",
       "EstadCivilInicio        0\n",
       "PrepaAcademia           0\n",
       "TempPrepAcadem          0\n",
       "EdadIngreso             0\n",
       "AporteEcono             0\n",
       "TrabajoUniversi1Anio    0\n",
       "SatisfCalidad           0\n",
       "VocacionXpresion        0\n",
       "CiudNac                 0\n",
       "PadreSep                0\n",
       "ProbFamiliFreq          0\n",
       "dtype: int64"
      ]
     },
     "execution_count": 30,
     "metadata": {},
     "output_type": "execute_result"
    }
   ],
   "source": [
    "dt.isnull().sum(axis=0)"
   ]
  },
  {
   "cell_type": "code",
   "execution_count": 31,
   "metadata": {},
   "outputs": [
    {
     "data": {
      "text/html": [
       "<div>\n",
       "<style scoped>\n",
       "    .dataframe tbody tr th:only-of-type {\n",
       "        vertical-align: middle;\n",
       "    }\n",
       "\n",
       "    .dataframe tbody tr th {\n",
       "        vertical-align: top;\n",
       "    }\n",
       "\n",
       "    .dataframe thead th {\n",
       "        text-align: right;\n",
       "    }\n",
       "</style>\n",
       "<table border=\"1\" class=\"dataframe\">\n",
       "  <thead>\n",
       "    <tr style=\"text-align: right;\">\n",
       "      <th></th>\n",
       "      <th>Codigo</th>\n",
       "      <th>AnioNac</th>\n",
       "      <th>Sexo</th>\n",
       "      <th>Resid</th>\n",
       "      <th>TipoCole</th>\n",
       "      <th>MesIngres</th>\n",
       "      <th>TipoIngres</th>\n",
       "      <th>PuntajeIngre</th>\n",
       "      <th>CurDes1Ano</th>\n",
       "      <th>PrimRep</th>\n",
       "      <th>...</th>\n",
       "      <th>PrepaAcademia</th>\n",
       "      <th>TempPrepAcadem</th>\n",
       "      <th>EdadIngreso</th>\n",
       "      <th>AporteEcono</th>\n",
       "      <th>TrabajoUniversi1Anio</th>\n",
       "      <th>SatisfCalidad</th>\n",
       "      <th>VocacionXpresion</th>\n",
       "      <th>CiudNac</th>\n",
       "      <th>PadreSep</th>\n",
       "      <th>ProbFamiliFreq</th>\n",
       "    </tr>\n",
       "  </thead>\n",
       "  <tbody>\n",
       "    <tr>\n",
       "      <th>0</th>\n",
       "      <td>15200053</td>\n",
       "      <td>1996</td>\n",
       "      <td>Hombre</td>\n",
       "      <td>LINCE</td>\n",
       "      <td>PARTICULAR</td>\n",
       "      <td>Setiembre</td>\n",
       "      <td>CEPRE</td>\n",
       "      <td>1350.0</td>\n",
       "      <td>0</td>\n",
       "      <td>2</td>\n",
       "      <td>...</td>\n",
       "      <td>Sí</td>\n",
       "      <td>UN AÑO Y MEDIO</td>\n",
       "      <td>18</td>\n",
       "      <td>NO</td>\n",
       "      <td>No</td>\n",
       "      <td>Sí</td>\n",
       "      <td>Sí</td>\n",
       "      <td>Lima</td>\n",
       "      <td>No</td>\n",
       "      <td>No</td>\n",
       "    </tr>\n",
       "    <tr>\n",
       "      <th>1</th>\n",
       "      <td>15200015</td>\n",
       "      <td>1995</td>\n",
       "      <td>Hombre</td>\n",
       "      <td>SAN MARTIN DE PORRES</td>\n",
       "      <td>PARTICULAR</td>\n",
       "      <td>Setiembre</td>\n",
       "      <td>EXAMEN ORDINARIO</td>\n",
       "      <td>1530.0</td>\n",
       "      <td>0</td>\n",
       "      <td>4</td>\n",
       "      <td>...</td>\n",
       "      <td>Sí</td>\n",
       "      <td>DOS AÑOS</td>\n",
       "      <td>19</td>\n",
       "      <td>NO</td>\n",
       "      <td>Sí</td>\n",
       "      <td>No</td>\n",
       "      <td>Sí</td>\n",
       "      <td>Lima</td>\n",
       "      <td>No</td>\n",
       "      <td>No</td>\n",
       "    </tr>\n",
       "    <tr>\n",
       "      <th>2</th>\n",
       "      <td>15200052</td>\n",
       "      <td>1994</td>\n",
       "      <td>Hombre</td>\n",
       "      <td>SAN JUAN DE LURIGANCHO</td>\n",
       "      <td>PARTICULAR</td>\n",
       "      <td>Setiembre</td>\n",
       "      <td>CEPRE</td>\n",
       "      <td>1300.0</td>\n",
       "      <td>1</td>\n",
       "      <td>4</td>\n",
       "      <td>...</td>\n",
       "      <td>No</td>\n",
       "      <td>NO SE PREPARO EN ACADEMIA</td>\n",
       "      <td>20</td>\n",
       "      <td>NO</td>\n",
       "      <td>No</td>\n",
       "      <td>Sí</td>\n",
       "      <td>Sí</td>\n",
       "      <td>Lima</td>\n",
       "      <td>No</td>\n",
       "      <td>No</td>\n",
       "    </tr>\n",
       "    <tr>\n",
       "      <th>3</th>\n",
       "      <td>15200024</td>\n",
       "      <td>1996</td>\n",
       "      <td>Hombre</td>\n",
       "      <td>LIMA</td>\n",
       "      <td>PARTICULAR</td>\n",
       "      <td>Setiembre</td>\n",
       "      <td>EXAMEN ORDINARIO</td>\n",
       "      <td>1589.9</td>\n",
       "      <td>0</td>\n",
       "      <td>0</td>\n",
       "      <td>...</td>\n",
       "      <td>Sí</td>\n",
       "      <td>UN AÑO Y MEDIO</td>\n",
       "      <td>15</td>\n",
       "      <td>NO</td>\n",
       "      <td>No</td>\n",
       "      <td>No</td>\n",
       "      <td>Sí</td>\n",
       "      <td>Lima</td>\n",
       "      <td>No</td>\n",
       "      <td>No</td>\n",
       "    </tr>\n",
       "    <tr>\n",
       "      <th>4</th>\n",
       "      <td>15200125</td>\n",
       "      <td>1996</td>\n",
       "      <td>Mujer</td>\n",
       "      <td>VILLA EL SALVADOR</td>\n",
       "      <td>NACIONAL</td>\n",
       "      <td>Marzo</td>\n",
       "      <td>EXAMEN ORDINARIO</td>\n",
       "      <td>1520.0</td>\n",
       "      <td>1</td>\n",
       "      <td>7</td>\n",
       "      <td>...</td>\n",
       "      <td>Sí</td>\n",
       "      <td>DOS AÑOS</td>\n",
       "      <td>18</td>\n",
       "      <td>NO</td>\n",
       "      <td>No</td>\n",
       "      <td>No</td>\n",
       "      <td>Sí</td>\n",
       "      <td>Lima</td>\n",
       "      <td>No</td>\n",
       "      <td>No</td>\n",
       "    </tr>\n",
       "    <tr>\n",
       "      <th>5</th>\n",
       "      <td>16200033</td>\n",
       "      <td>1997</td>\n",
       "      <td>Mujer</td>\n",
       "      <td>COMAS</td>\n",
       "      <td>PARROQUIAL</td>\n",
       "      <td>Setiembre</td>\n",
       "      <td>EXAMEN ORDINARIO</td>\n",
       "      <td>1400.0</td>\n",
       "      <td>0</td>\n",
       "      <td>1</td>\n",
       "      <td>...</td>\n",
       "      <td>Sí</td>\n",
       "      <td>UN AÑO Y MEDIO</td>\n",
       "      <td>17</td>\n",
       "      <td>NO</td>\n",
       "      <td>No</td>\n",
       "      <td>No</td>\n",
       "      <td>No</td>\n",
       "      <td>Lima</td>\n",
       "      <td>No</td>\n",
       "      <td>No</td>\n",
       "    </tr>\n",
       "    <tr>\n",
       "      <th>6</th>\n",
       "      <td>14200151</td>\n",
       "      <td>1996</td>\n",
       "      <td>Hombre</td>\n",
       "      <td>LIMA</td>\n",
       "      <td>PARTICULAR</td>\n",
       "      <td>Setiembre</td>\n",
       "      <td>CEPRE</td>\n",
       "      <td>1300.0</td>\n",
       "      <td>3</td>\n",
       "      <td>5</td>\n",
       "      <td>...</td>\n",
       "      <td>Sí</td>\n",
       "      <td>UN AÑO</td>\n",
       "      <td>17</td>\n",
       "      <td>NO</td>\n",
       "      <td>No</td>\n",
       "      <td>No</td>\n",
       "      <td>Sí</td>\n",
       "      <td>Lima</td>\n",
       "      <td>No</td>\n",
       "      <td>No</td>\n",
       "    </tr>\n",
       "    <tr>\n",
       "      <th>7</th>\n",
       "      <td>15200114</td>\n",
       "      <td>1987</td>\n",
       "      <td>Hombre</td>\n",
       "      <td>VILLA MARIA DEL TRIUNFO</td>\n",
       "      <td>NACIONAL</td>\n",
       "      <td>Marzo</td>\n",
       "      <td>EXAMEN ORDINARIO</td>\n",
       "      <td>1475.0</td>\n",
       "      <td>3</td>\n",
       "      <td>15</td>\n",
       "      <td>...</td>\n",
       "      <td>No</td>\n",
       "      <td>NO SE PREPARO EN ACADEMIA</td>\n",
       "      <td>27</td>\n",
       "      <td>SI</td>\n",
       "      <td>Sí</td>\n",
       "      <td>Sí</td>\n",
       "      <td>No</td>\n",
       "      <td>Lima</td>\n",
       "      <td>No</td>\n",
       "      <td>No</td>\n",
       "    </tr>\n",
       "    <tr>\n",
       "      <th>8</th>\n",
       "      <td>17200061</td>\n",
       "      <td>1999</td>\n",
       "      <td>Hombre</td>\n",
       "      <td>CARABAYLLO</td>\n",
       "      <td>PARTICULAR</td>\n",
       "      <td>Setiembre</td>\n",
       "      <td>EXAMEN ORDINARIO</td>\n",
       "      <td>1350.0</td>\n",
       "      <td>4</td>\n",
       "      <td>4</td>\n",
       "      <td>...</td>\n",
       "      <td>Sí</td>\n",
       "      <td>UN AÑO</td>\n",
       "      <td>16</td>\n",
       "      <td>NO</td>\n",
       "      <td>No</td>\n",
       "      <td>No</td>\n",
       "      <td>No</td>\n",
       "      <td>Ancash</td>\n",
       "      <td>No</td>\n",
       "      <td>Sí</td>\n",
       "    </tr>\n",
       "    <tr>\n",
       "      <th>9</th>\n",
       "      <td>16200020</td>\n",
       "      <td>1997</td>\n",
       "      <td>Hombre</td>\n",
       "      <td>SAN JUAN DE LURIGANCHO</td>\n",
       "      <td>PARTICULAR</td>\n",
       "      <td>Setiembre</td>\n",
       "      <td>EXAMEN ORDINARIO</td>\n",
       "      <td>1430.0</td>\n",
       "      <td>0</td>\n",
       "      <td>2</td>\n",
       "      <td>...</td>\n",
       "      <td>Sí</td>\n",
       "      <td>UN AÑO</td>\n",
       "      <td>19</td>\n",
       "      <td>NO</td>\n",
       "      <td>Sí</td>\n",
       "      <td>Sí</td>\n",
       "      <td>Sí</td>\n",
       "      <td>Lima</td>\n",
       "      <td>Sí</td>\n",
       "      <td>No</td>\n",
       "    </tr>\n",
       "  </tbody>\n",
       "</table>\n",
       "<p>10 rows × 32 columns</p>\n",
       "</div>"
      ],
      "text/plain": [
       "     Codigo  AnioNac    Sexo                    Resid    TipoCole  MesIngres  \\\n",
       "0  15200053     1996  Hombre                    LINCE  PARTICULAR  Setiembre   \n",
       "1  15200015     1995  Hombre     SAN MARTIN DE PORRES  PARTICULAR  Setiembre   \n",
       "2  15200052     1994  Hombre   SAN JUAN DE LURIGANCHO  PARTICULAR  Setiembre   \n",
       "3  15200024     1996  Hombre                     LIMA  PARTICULAR  Setiembre   \n",
       "4  15200125     1996   Mujer        VILLA EL SALVADOR    NACIONAL      Marzo   \n",
       "5  16200033     1997   Mujer                    COMAS  PARROQUIAL  Setiembre   \n",
       "6  14200151     1996  Hombre                     LIMA  PARTICULAR  Setiembre   \n",
       "7  15200114     1987  Hombre  VILLA MARIA DEL TRIUNFO    NACIONAL      Marzo   \n",
       "8  17200061     1999  Hombre               CARABAYLLO  PARTICULAR  Setiembre   \n",
       "9  16200020     1997  Hombre   SAN JUAN DE LURIGANCHO  PARTICULAR  Setiembre   \n",
       "\n",
       "         TipoIngres  PuntajeIngre  CurDes1Ano  PrimRep  ...  PrepaAcademia  \\\n",
       "0             CEPRE        1350.0           0        2  ...             Sí   \n",
       "1  EXAMEN ORDINARIO        1530.0           0        4  ...             Sí   \n",
       "2             CEPRE        1300.0           1        4  ...             No   \n",
       "3  EXAMEN ORDINARIO        1589.9           0        0  ...             Sí   \n",
       "4  EXAMEN ORDINARIO        1520.0           1        7  ...             Sí   \n",
       "5  EXAMEN ORDINARIO        1400.0           0        1  ...             Sí   \n",
       "6             CEPRE        1300.0           3        5  ...             Sí   \n",
       "7  EXAMEN ORDINARIO        1475.0           3       15  ...             No   \n",
       "8  EXAMEN ORDINARIO        1350.0           4        4  ...             Sí   \n",
       "9  EXAMEN ORDINARIO        1430.0           0        2  ...             Sí   \n",
       "\n",
       "              TempPrepAcadem EdadIngreso AporteEcono TrabajoUniversi1Anio  \\\n",
       "0             UN AÑO Y MEDIO          18          NO                   No   \n",
       "1                   DOS AÑOS          19          NO                   Sí   \n",
       "2  NO SE PREPARO EN ACADEMIA          20          NO                   No   \n",
       "3             UN AÑO Y MEDIO          15          NO                   No   \n",
       "4                   DOS AÑOS          18          NO                   No   \n",
       "5             UN AÑO Y MEDIO          17          NO                   No   \n",
       "6                     UN AÑO          17          NO                   No   \n",
       "7  NO SE PREPARO EN ACADEMIA          27          SI                   Sí   \n",
       "8                     UN AÑO          16          NO                   No   \n",
       "9                     UN AÑO          19          NO                   Sí   \n",
       "\n",
       "  SatisfCalidad VocacionXpresion CiudNac PadreSep  ProbFamiliFreq  \n",
       "0            Sí               Sí    Lima       No              No  \n",
       "1            No               Sí    Lima       No              No  \n",
       "2            Sí               Sí    Lima       No              No  \n",
       "3            No               Sí    Lima       No              No  \n",
       "4            No               Sí    Lima       No              No  \n",
       "5            No               No    Lima       No              No  \n",
       "6            No               Sí    Lima       No              No  \n",
       "7            Sí               No    Lima       No              No  \n",
       "8            No               No  Ancash       No              Sí  \n",
       "9            Sí               Sí    Lima       Sí              No  \n",
       "\n",
       "[10 rows x 32 columns]"
      ]
     },
     "execution_count": 31,
     "metadata": {},
     "output_type": "execute_result"
    }
   ],
   "source": [
    "dt.head(10)"
   ]
  },
  {
   "cell_type": "code",
   "execution_count": 32,
   "metadata": {},
   "outputs": [
    {
     "data": {
      "text/plain": [
       "count    1.250000e+02\n",
       "mean     1.365442e+05\n",
       "std      1.388986e+06\n",
       "min      1.100000e+01\n",
       "25%      1.300000e+03\n",
       "50%      1.410000e+03\n",
       "75%      1.500000e+03\n",
       "max      1.547625e+07\n",
       "Name: PuntajeIngre, dtype: float64"
      ]
     },
     "execution_count": 32,
     "metadata": {},
     "output_type": "execute_result"
    }
   ],
   "source": [
    "dt.PuntajeIngre.describe()"
   ]
  },
  {
   "cell_type": "code",
   "execution_count": 33,
   "metadata": {},
   "outputs": [
    {
     "data": {
      "text/plain": [
       "11.0"
      ]
     },
     "execution_count": 33,
     "metadata": {},
     "output_type": "execute_result"
    }
   ],
   "source": [
    "dt.PuntajeIngre.min()"
   ]
  },
  {
   "cell_type": "code",
   "execution_count": 34,
   "metadata": {},
   "outputs": [
    {
     "data": {
      "text/plain": [
       "15476250.0"
      ]
     },
     "execution_count": 34,
     "metadata": {},
     "output_type": "execute_result"
    }
   ],
   "source": [
    "dt.PuntajeIngre.max()"
   ]
  },
  {
   "cell_type": "code",
   "execution_count": 35,
   "metadata": {},
   "outputs": [
    {
     "data": {
      "text/plain": [
       "104    15476250.0\n",
       "75      1430675.0\n",
       "22         1800.0\n",
       "120        1750.0\n",
       "103        1707.0\n",
       "Name: PuntajeIngre, dtype: float64"
      ]
     },
     "execution_count": 35,
     "metadata": {},
     "output_type": "execute_result"
    }
   ],
   "source": [
    "dt.PuntajeIngre.sort_values(ascending=False).head()"
   ]
  },
  {
   "cell_type": "code",
   "execution_count": 36,
   "metadata": {},
   "outputs": [
    {
     "data": {
      "text/html": [
       "<div>\n",
       "<style scoped>\n",
       "    .dataframe tbody tr th:only-of-type {\n",
       "        vertical-align: middle;\n",
       "    }\n",
       "\n",
       "    .dataframe tbody tr th {\n",
       "        vertical-align: top;\n",
       "    }\n",
       "\n",
       "    .dataframe thead th {\n",
       "        text-align: right;\n",
       "    }\n",
       "</style>\n",
       "<table border=\"1\" class=\"dataframe\">\n",
       "  <thead>\n",
       "    <tr style=\"text-align: right;\">\n",
       "      <th></th>\n",
       "      <th>Codigo</th>\n",
       "      <th>AnioNac</th>\n",
       "      <th>Sexo</th>\n",
       "      <th>Resid</th>\n",
       "      <th>TipoCole</th>\n",
       "      <th>MesIngres</th>\n",
       "      <th>TipoIngres</th>\n",
       "      <th>PuntajeIngre</th>\n",
       "      <th>CurDes1Ano</th>\n",
       "      <th>PrimRep</th>\n",
       "      <th>...</th>\n",
       "      <th>PrepaAcademia</th>\n",
       "      <th>TempPrepAcadem</th>\n",
       "      <th>EdadIngreso</th>\n",
       "      <th>AporteEcono</th>\n",
       "      <th>TrabajoUniversi1Anio</th>\n",
       "      <th>SatisfCalidad</th>\n",
       "      <th>VocacionXpresion</th>\n",
       "      <th>CiudNac</th>\n",
       "      <th>PadreSep</th>\n",
       "      <th>ProbFamiliFreq</th>\n",
       "    </tr>\n",
       "  </thead>\n",
       "  <tbody>\n",
       "    <tr>\n",
       "      <th>0</th>\n",
       "      <td>15200053</td>\n",
       "      <td>1996</td>\n",
       "      <td>Hombre</td>\n",
       "      <td>LINCE</td>\n",
       "      <td>PARTICULAR</td>\n",
       "      <td>Setiembre</td>\n",
       "      <td>CEPRE</td>\n",
       "      <td>1350</td>\n",
       "      <td>0</td>\n",
       "      <td>2</td>\n",
       "      <td>...</td>\n",
       "      <td>Sí</td>\n",
       "      <td>UN AÑO Y MEDIO</td>\n",
       "      <td>18</td>\n",
       "      <td>NO</td>\n",
       "      <td>No</td>\n",
       "      <td>Sí</td>\n",
       "      <td>Sí</td>\n",
       "      <td>Lima</td>\n",
       "      <td>No</td>\n",
       "      <td>No</td>\n",
       "    </tr>\n",
       "    <tr>\n",
       "      <th>1</th>\n",
       "      <td>15200015</td>\n",
       "      <td>1995</td>\n",
       "      <td>Hombre</td>\n",
       "      <td>SAN MARTIN DE PORRES</td>\n",
       "      <td>PARTICULAR</td>\n",
       "      <td>Setiembre</td>\n",
       "      <td>EXAMEN ORDINARIO</td>\n",
       "      <td>1530</td>\n",
       "      <td>0</td>\n",
       "      <td>4</td>\n",
       "      <td>...</td>\n",
       "      <td>Sí</td>\n",
       "      <td>DOS AÑOS</td>\n",
       "      <td>19</td>\n",
       "      <td>NO</td>\n",
       "      <td>Sí</td>\n",
       "      <td>No</td>\n",
       "      <td>Sí</td>\n",
       "      <td>Lima</td>\n",
       "      <td>No</td>\n",
       "      <td>No</td>\n",
       "    </tr>\n",
       "    <tr>\n",
       "      <th>2</th>\n",
       "      <td>15200052</td>\n",
       "      <td>1994</td>\n",
       "      <td>Hombre</td>\n",
       "      <td>SAN JUAN DE LURIGANCHO</td>\n",
       "      <td>PARTICULAR</td>\n",
       "      <td>Setiembre</td>\n",
       "      <td>CEPRE</td>\n",
       "      <td>1300</td>\n",
       "      <td>1</td>\n",
       "      <td>4</td>\n",
       "      <td>...</td>\n",
       "      <td>No</td>\n",
       "      <td>NO SE PREPARO EN ACADEMIA</td>\n",
       "      <td>20</td>\n",
       "      <td>NO</td>\n",
       "      <td>No</td>\n",
       "      <td>Sí</td>\n",
       "      <td>Sí</td>\n",
       "      <td>Lima</td>\n",
       "      <td>No</td>\n",
       "      <td>No</td>\n",
       "    </tr>\n",
       "    <tr>\n",
       "      <th>3</th>\n",
       "      <td>15200024</td>\n",
       "      <td>1996</td>\n",
       "      <td>Hombre</td>\n",
       "      <td>LIMA</td>\n",
       "      <td>PARTICULAR</td>\n",
       "      <td>Setiembre</td>\n",
       "      <td>EXAMEN ORDINARIO</td>\n",
       "      <td>1589</td>\n",
       "      <td>0</td>\n",
       "      <td>0</td>\n",
       "      <td>...</td>\n",
       "      <td>Sí</td>\n",
       "      <td>UN AÑO Y MEDIO</td>\n",
       "      <td>15</td>\n",
       "      <td>NO</td>\n",
       "      <td>No</td>\n",
       "      <td>No</td>\n",
       "      <td>Sí</td>\n",
       "      <td>Lima</td>\n",
       "      <td>No</td>\n",
       "      <td>No</td>\n",
       "    </tr>\n",
       "    <tr>\n",
       "      <th>4</th>\n",
       "      <td>15200125</td>\n",
       "      <td>1996</td>\n",
       "      <td>Mujer</td>\n",
       "      <td>VILLA EL SALVADOR</td>\n",
       "      <td>NACIONAL</td>\n",
       "      <td>Marzo</td>\n",
       "      <td>EXAMEN ORDINARIO</td>\n",
       "      <td>1520</td>\n",
       "      <td>1</td>\n",
       "      <td>7</td>\n",
       "      <td>...</td>\n",
       "      <td>Sí</td>\n",
       "      <td>DOS AÑOS</td>\n",
       "      <td>18</td>\n",
       "      <td>NO</td>\n",
       "      <td>No</td>\n",
       "      <td>No</td>\n",
       "      <td>Sí</td>\n",
       "      <td>Lima</td>\n",
       "      <td>No</td>\n",
       "      <td>No</td>\n",
       "    </tr>\n",
       "  </tbody>\n",
       "</table>\n",
       "<p>5 rows × 32 columns</p>\n",
       "</div>"
      ],
      "text/plain": [
       "     Codigo  AnioNac    Sexo                   Resid    TipoCole  MesIngres  \\\n",
       "0  15200053     1996  Hombre                   LINCE  PARTICULAR  Setiembre   \n",
       "1  15200015     1995  Hombre    SAN MARTIN DE PORRES  PARTICULAR  Setiembre   \n",
       "2  15200052     1994  Hombre  SAN JUAN DE LURIGANCHO  PARTICULAR  Setiembre   \n",
       "3  15200024     1996  Hombre                    LIMA  PARTICULAR  Setiembre   \n",
       "4  15200125     1996   Mujer       VILLA EL SALVADOR    NACIONAL      Marzo   \n",
       "\n",
       "         TipoIngres  PuntajeIngre  CurDes1Ano  PrimRep  ...  PrepaAcademia  \\\n",
       "0             CEPRE          1350           0        2  ...             Sí   \n",
       "1  EXAMEN ORDINARIO          1530           0        4  ...             Sí   \n",
       "2             CEPRE          1300           1        4  ...             No   \n",
       "3  EXAMEN ORDINARIO          1589           0        0  ...             Sí   \n",
       "4  EXAMEN ORDINARIO          1520           1        7  ...             Sí   \n",
       "\n",
       "              TempPrepAcadem EdadIngreso AporteEcono TrabajoUniversi1Anio  \\\n",
       "0             UN AÑO Y MEDIO          18          NO                   No   \n",
       "1                   DOS AÑOS          19          NO                   Sí   \n",
       "2  NO SE PREPARO EN ACADEMIA          20          NO                   No   \n",
       "3             UN AÑO Y MEDIO          15          NO                   No   \n",
       "4                   DOS AÑOS          18          NO                   No   \n",
       "\n",
       "  SatisfCalidad VocacionXpresion CiudNac PadreSep  ProbFamiliFreq  \n",
       "0            Sí               Sí    Lima       No              No  \n",
       "1            No               Sí    Lima       No              No  \n",
       "2            Sí               Sí    Lima       No              No  \n",
       "3            No               Sí    Lima       No              No  \n",
       "4            No               Sí    Lima       No              No  \n",
       "\n",
       "[5 rows x 32 columns]"
      ]
     },
     "execution_count": 36,
     "metadata": {},
     "output_type": "execute_result"
    }
   ],
   "source": [
    "#TRanformar a entero la columna de puntaje\n",
    "dt=dt.astype({'PuntajeIngre':int})\n",
    "dt.head()"
   ]
  },
  {
   "cell_type": "code",
   "execution_count": 37,
   "metadata": {},
   "outputs": [
    {
     "name": "stdout",
     "output_type": "stream",
     "text": [
      "0.0001\n"
     ]
    }
   ],
   "source": [
    "print(10**-int(len(str(dt.PuntajeIngre[0]))))"
   ]
  },
  {
   "cell_type": "code",
   "execution_count": 38,
   "metadata": {},
   "outputs": [
    {
     "data": {
      "text/plain": [
       "count     125.000000\n",
       "mean     1288.800000\n",
       "std       422.309606\n",
       "min         0.000000\n",
       "25%      1300.000000\n",
       "50%      1405.000000\n",
       "75%      1500.000000\n",
       "max      1800.000000\n",
       "Name: PuntajeIngre, dtype: float64"
      ]
     },
     "execution_count": 38,
     "metadata": {},
     "output_type": "execute_result"
    }
   ],
   "source": [
    "dt['PuntajeIngre']=dt['PuntajeIngre'].apply(lambda x : int(x/10**(int(len(str(x))))) if x>2000 else int(x))\n",
    "dt['PuntajeIngre'].describe()"
   ]
  },
  {
   "cell_type": "code",
   "execution_count": 39,
   "metadata": {},
   "outputs": [
    {
     "data": {
      "text/plain": [
       "24      15\n",
       "33      14\n",
       "50      14\n",
       "63      16\n",
       "74     200\n",
       "75       0\n",
       "80      92\n",
       "86      11\n",
       "91      11\n",
       "93      13\n",
       "104      0\n",
       "112    656\n",
       "Name: PuntajeIngre, dtype: int64"
      ]
     },
     "execution_count": 39,
     "metadata": {},
     "output_type": "execute_result"
    }
   ],
   "source": [
    "\n",
    "dt[dt['PuntajeIngre']<1000].PuntajeIngre"
   ]
  },
  {
   "cell_type": "code",
   "execution_count": 40,
   "metadata": {},
   "outputs": [
    {
     "data": {
      "text/plain": [
       "74     200\n",
       "75       0\n",
       "104      0\n",
       "112    656\n",
       "Name: PuntajeIngre, dtype: int64"
      ]
     },
     "execution_count": 40,
     "metadata": {},
     "output_type": "execute_result"
    }
   ],
   "source": [
    "dt['PuntajeIngre']=dt['PuntajeIngre'].apply(lambda x : int(x*100) if x>9 and x<99 else int(x))\n",
    "media=dt['PuntajeIngre'].mean()\n",
    "dt[dt['PuntajeIngre']<1000].PuntajeIngre"
   ]
  },
  {
   "cell_type": "code",
   "execution_count": 41,
   "metadata": {},
   "outputs": [
    {
     "data": {
      "text/plain": [
       "Series([], Name: PuntajeIngre, dtype: float64)"
      ]
     },
     "execution_count": 41,
     "metadata": {},
     "output_type": "execute_result"
    }
   ],
   "source": [
    "dt.loc[dt[dt['PuntajeIngre']<1000].index,'PuntajeIngre']=media\n",
    "\n",
    "#dt[dt['PuntajeIngre']<1000].PuntajeIngre=media\n",
    "dt[dt['PuntajeIngre']<1000].PuntajeIngre"
   ]
  },
  {
   "cell_type": "code",
   "execution_count": 42,
   "metadata": {},
   "outputs": [
    {
     "data": {
      "text/plain": [
       "count     125.000000\n",
       "mean     1475.219584\n",
       "std       712.537458\n",
       "min      1050.000000\n",
       "25%      1340.000000\n",
       "50%      1430.000000\n",
       "75%      1500.000000\n",
       "max      9200.000000\n",
       "Name: PuntajeIngre, dtype: float64"
      ]
     },
     "execution_count": 42,
     "metadata": {},
     "output_type": "execute_result"
    }
   ],
   "source": [
    "#Con la Nueva Medida sacamos la estadisctica\n",
    "dt['PuntajeIngre'].describe()"
   ]
  },
  {
   "cell_type": "markdown",
   "metadata": {},
   "source": [
    "## Diagrama de caja y bigotes"
   ]
  },
  {
   "cell_type": "code",
   "execution_count": 43,
   "metadata": {},
   "outputs": [],
   "source": [
    "import matplotlib.pyplot as plt"
   ]
  },
  {
   "cell_type": "code",
   "execution_count": 44,
   "metadata": {},
   "outputs": [
    {
     "data": {
      "text/plain": [
       "{'whiskers': [<matplotlib.lines.Line2D at 0x1b50cd76dc8>,\n",
       "  <matplotlib.lines.Line2D at 0x1b50d421d88>],\n",
       " 'caps': [<matplotlib.lines.Line2D at 0x1b50d421e08>,\n",
       "  <matplotlib.lines.Line2D at 0x1b50d429f08>],\n",
       " 'boxes': [<matplotlib.lines.Line2D at 0x1b50d410f88>],\n",
       " 'medians': [<matplotlib.lines.Line2D at 0x1b50d42d7c8>],\n",
       " 'fliers': [<matplotlib.lines.Line2D at 0x1b50d42df88>],\n",
       " 'means': []}"
      ]
     },
     "execution_count": 44,
     "metadata": {},
     "output_type": "execute_result"
    },
    {
     "data": {
      "image/png": "[encoded data removed]",
      "text/plain": [
       "<Figure size 432x288 with 1 Axes>"
      ]
     },
     "metadata": {
      "needs_background": "light"
     },
     "output_type": "display_data"
    }
   ],
   "source": [
    "fig1,ax1=plt.subplots()\n",
    "ax1.set_title('caja')\n",
    "ax1.boxplot(dt['PuntajeIngre'])"
   ]
  },
  {
   "cell_type": "code",
   "execution_count": 45,
   "metadata": {},
   "outputs": [
    {
     "data": {
      "text/plain": [
       "{'whiskers': [<matplotlib.lines.Line2D at 0x1b50d4d1bc8>,\n",
       "  <matplotlib.lines.Line2D at 0x1b50d4d1cc8>],\n",
       " 'caps': [<matplotlib.lines.Line2D at 0x1b50d4d8b48>,\n",
       "  <matplotlib.lines.Line2D at 0x1b50d4d8c48>],\n",
       " 'boxes': [<matplotlib.lines.Line2D at 0x1b50d4d11c8>],\n",
       " 'medians': [<matplotlib.lines.Line2D at 0x1b50d4ddac8>],\n",
       " 'fliers': [<matplotlib.lines.Line2D at 0x1b50d4ddbc8>],\n",
       " 'means': []}"
      ]
     },
     "execution_count": 45,
     "metadata": {},
     "output_type": "execute_result"
    },
    {
     "data": {
      "image/png": "[encoded data removed]",
      "text/plain": [
       "<Figure size 432x288 with 1 Axes>"
      ]
     },
     "metadata": {
      "needs_background": "light"
     },
     "output_type": "display_data"
    }
   ],
   "source": [
    "#quitamos el outlier\n",
    "dt.drop(dt[dt['PuntajeIngre']>2000].index, inplace=True, axis=0)\n",
    "\n",
    "#volvemos a graficar el diagrama de caja y bigote\n",
    "fig1,ax1=plt.subplots()\n",
    "ax1.set_title('caja')\n",
    "ax1.boxplot(dt['PuntajeIngre'])"
   ]
  },
  {
   "cell_type": "code",
   "execution_count": 46,
   "metadata": {
    "scrolled": false
   },
   "outputs": [
    {
     "data": {
      "text/html": [
       "<div>\n",
       "<style scoped>\n",
       "    .dataframe tbody tr th:only-of-type {\n",
       "        vertical-align: middle;\n",
       "    }\n",
       "\n",
       "    .dataframe tbody tr th {\n",
       "        vertical-align: top;\n",
       "    }\n",
       "\n",
       "    .dataframe thead th {\n",
       "        text-align: right;\n",
       "    }\n",
       "</style>\n",
       "<table border=\"1\" class=\"dataframe\">\n",
       "  <thead>\n",
       "    <tr style=\"text-align: right;\">\n",
       "      <th></th>\n",
       "      <th>Codigo</th>\n",
       "      <th>AnioNac</th>\n",
       "      <th>Sexo</th>\n",
       "      <th>Resid</th>\n",
       "      <th>TipoCole</th>\n",
       "      <th>MesIngres</th>\n",
       "      <th>TipoIngres</th>\n",
       "      <th>PuntajeIngre</th>\n",
       "      <th>CurDes1Ano</th>\n",
       "      <th>PrimRep</th>\n",
       "      <th>...</th>\n",
       "      <th>PrepaAcademia</th>\n",
       "      <th>TempPrepAcadem</th>\n",
       "      <th>EdadIngreso</th>\n",
       "      <th>AporteEcono</th>\n",
       "      <th>TrabajoUniversi1Anio</th>\n",
       "      <th>SatisfCalidad</th>\n",
       "      <th>VocacionXpresion</th>\n",
       "      <th>CiudNac</th>\n",
       "      <th>PadreSep</th>\n",
       "      <th>ProbFamiliFreq</th>\n",
       "    </tr>\n",
       "  </thead>\n",
       "  <tbody>\n",
       "    <tr>\n",
       "      <th>48</th>\n",
       "      <td>17200277</td>\n",
       "      <td>1998</td>\n",
       "      <td>Mujer</td>\n",
       "      <td>CHORRILLOS</td>\n",
       "      <td>PARROQUIAL</td>\n",
       "      <td>Marzo</td>\n",
       "      <td>EXAMEN ORDINARIO</td>\n",
       "      <td>1055.0</td>\n",
       "      <td>3</td>\n",
       "      <td>3</td>\n",
       "      <td>...</td>\n",
       "      <td>Sí</td>\n",
       "      <td>UN AÑO Y MEDIO</td>\n",
       "      <td>18</td>\n",
       "      <td>NO</td>\n",
       "      <td>No</td>\n",
       "      <td>No</td>\n",
       "      <td>No</td>\n",
       "      <td>Lima</td>\n",
       "      <td>Sí</td>\n",
       "      <td>Sí</td>\n",
       "    </tr>\n",
       "    <tr>\n",
       "      <th>73</th>\n",
       "      <td>17200267</td>\n",
       "      <td>1999</td>\n",
       "      <td>Hombre</td>\n",
       "      <td>PUENTE PIEDRA</td>\n",
       "      <td>PARTICULAR</td>\n",
       "      <td>Marzo</td>\n",
       "      <td>EXAMEN ORDINARIO</td>\n",
       "      <td>1057.0</td>\n",
       "      <td>2</td>\n",
       "      <td>2</td>\n",
       "      <td>...</td>\n",
       "      <td>Sí</td>\n",
       "      <td>UN AÑO</td>\n",
       "      <td>17</td>\n",
       "      <td>NO</td>\n",
       "      <td>No</td>\n",
       "      <td>No</td>\n",
       "      <td>Sí</td>\n",
       "      <td>Piura</td>\n",
       "      <td>No</td>\n",
       "      <td>No</td>\n",
       "    </tr>\n",
       "    <tr>\n",
       "      <th>88</th>\n",
       "      <td>17200136</td>\n",
       "      <td>2000</td>\n",
       "      <td>Hombre</td>\n",
       "      <td>CARABAYLLO</td>\n",
       "      <td>PARTICULAR</td>\n",
       "      <td>Marzo</td>\n",
       "      <td>EXAMEN ORDINARIO</td>\n",
       "      <td>1050.0</td>\n",
       "      <td>6</td>\n",
       "      <td>12</td>\n",
       "      <td>...</td>\n",
       "      <td>Sí</td>\n",
       "      <td>MENOS DE UN AÑO</td>\n",
       "      <td>16</td>\n",
       "      <td>NO</td>\n",
       "      <td>No</td>\n",
       "      <td>No</td>\n",
       "      <td>Sí</td>\n",
       "      <td>Lima</td>\n",
       "      <td>No</td>\n",
       "      <td>No</td>\n",
       "    </tr>\n",
       "  </tbody>\n",
       "</table>\n",
       "<p>3 rows × 32 columns</p>\n",
       "</div>"
      ],
      "text/plain": [
       "      Codigo  AnioNac    Sexo          Resid    TipoCole MesIngres  \\\n",
       "48  17200277     1998   Mujer     CHORRILLOS  PARROQUIAL     Marzo   \n",
       "73  17200267     1999  Hombre  PUENTE PIEDRA  PARTICULAR     Marzo   \n",
       "88  17200136     2000  Hombre     CARABAYLLO  PARTICULAR     Marzo   \n",
       "\n",
       "          TipoIngres  PuntajeIngre  CurDes1Ano  PrimRep  ...  PrepaAcademia  \\\n",
       "48  EXAMEN ORDINARIO        1055.0           3        3  ...             Sí   \n",
       "73  EXAMEN ORDINARIO        1057.0           2        2  ...             Sí   \n",
       "88  EXAMEN ORDINARIO        1050.0           6       12  ...             Sí   \n",
       "\n",
       "     TempPrepAcadem EdadIngreso AporteEcono TrabajoUniversi1Anio  \\\n",
       "48   UN AÑO Y MEDIO          18          NO                   No   \n",
       "73           UN AÑO          17          NO                   No   \n",
       "88  MENOS DE UN AÑO          16          NO                   No   \n",
       "\n",
       "   SatisfCalidad VocacionXpresion CiudNac PadreSep  ProbFamiliFreq  \n",
       "48            No               No    Lima       Sí              Sí  \n",
       "73            No               Sí   Piura       No              No  \n",
       "88            No               Sí    Lima       No              No  \n",
       "\n",
       "[3 rows x 32 columns]"
      ]
     },
     "execution_count": 46,
     "metadata": {},
     "output_type": "execute_result"
    }
   ],
   "source": [
    "#Filtro de quienes son los que tiene bajo puntaje\n",
    "dt[dt['PuntajeIngre']<1100]"
   ]
  },
  {
   "cell_type": "code",
   "execution_count": 47,
   "metadata": {},
   "outputs": [
    {
     "data": {
      "text/plain": [
       "1996      31\n",
       "1995      20\n",
       "1997      18\n",
       "1998      11\n",
       "1994      11\n",
       "1999       7\n",
       "1991       5\n",
       "1993       4\n",
       "1992       3\n",
       "1989       3\n",
       "1987       2\n",
       "1984       2\n",
       "2000       2\n",
       "1988       1\n",
       "1986       1\n",
       "1990       1\n",
       "1981       1\n",
       "110598     1\n",
       "Name: AnioNac, dtype: int64"
      ]
     },
     "execution_count": 47,
     "metadata": {},
     "output_type": "execute_result"
    }
   ],
   "source": [
    "dt.AnioNac.value_counts()"
   ]
  },
  {
   "cell_type": "code",
   "execution_count": 48,
   "metadata": {},
   "outputs": [
    {
     "data": {
      "text/plain": [
       "1996    31\n",
       "1995    20\n",
       "1997    18\n",
       "1998    12\n",
       "1994    11\n",
       "1999     7\n",
       "1991     5\n",
       "1993     4\n",
       "1992     3\n",
       "1989     3\n",
       "1987     2\n",
       "1984     2\n",
       "2000     2\n",
       "1988     1\n",
       "1986     1\n",
       "1990     1\n",
       "1981     1\n",
       "Name: AnioNac, dtype: int64"
      ]
     },
     "execution_count": 48,
     "metadata": {},
     "output_type": "execute_result"
    }
   ],
   "source": [
    "#n=dt[dt['AnioNac']==110598].index\n",
    "dt.loc[dt['AnioNac']==110598,['AnioNac']]=1998\n",
    "\n",
    "dt.AnioNac.value_counts()"
   ]
  },
  {
   "cell_type": "markdown",
   "metadata": {},
   "source": [
    "## FUNCION CUT Y PIVOT\n"
   ]
  },
  {
   "cell_type": "code",
   "execution_count": 49,
   "metadata": {},
   "outputs": [
    {
     "data": {
      "text/plain": [
       "24    31\n",
       "25    20\n",
       "23    18\n",
       "22    12\n",
       "26    11\n",
       "21     7\n",
       "29     5\n",
       "27     4\n",
       "28     3\n",
       "31     3\n",
       "20     2\n",
       "36     2\n",
       "33     2\n",
       "30     1\n",
       "32     1\n",
       "34     1\n",
       "39     1\n",
       "Name: Edad, dtype: int64"
      ]
     },
     "execution_count": 49,
     "metadata": {},
     "output_type": "execute_result"
    }
   ],
   "source": [
    "dt['Edad']=2020-dt['AnioNac']\n",
    "dt.Edad.value_counts()"
   ]
  },
  {
   "cell_type": "code",
   "execution_count": 50,
   "metadata": {},
   "outputs": [
    {
     "data": {
      "text/plain": [
       "0      (18.0, 24.0]\n",
       "1      (24.0, 30.0]\n",
       "2      (24.0, 30.0]\n",
       "3      (18.0, 24.0]\n",
       "4      (18.0, 24.0]\n",
       "           ...     \n",
       "120    (18.0, 24.0]\n",
       "121    (24.0, 30.0]\n",
       "122    (24.0, 30.0]\n",
       "123    (18.0, 24.0]\n",
       "124    (18.0, 24.0]\n",
       "Name: Edad, Length: 124, dtype: category\n",
       "Categories (4, interval[float64]): [(-0.1, 18.0] < (18.0, 24.0] < (24.0, 30.0] < (30.0, 50.0]]"
      ]
     },
     "execution_count": 50,
     "metadata": {},
     "output_type": "execute_result"
    }
   ],
   "source": [
    "eda=pd.cut(dt['Edad'],bins=[0,18,24,30,50],include_lowest=True, precision=1)\n",
    "eda"
   ]
  },
  {
   "cell_type": "code",
   "execution_count": 51,
   "metadata": {},
   "outputs": [
    {
     "data": {
      "text/html": [
       "<div>\n",
       "<style scoped>\n",
       "    .dataframe tbody tr th:only-of-type {\n",
       "        vertical-align: middle;\n",
       "    }\n",
       "\n",
       "    .dataframe tbody tr th {\n",
       "        vertical-align: top;\n",
       "    }\n",
       "\n",
       "    .dataframe thead th {\n",
       "        text-align: right;\n",
       "    }\n",
       "</style>\n",
       "<table border=\"1\" class=\"dataframe\">\n",
       "  <thead>\n",
       "    <tr style=\"text-align: right;\">\n",
       "      <th></th>\n",
       "      <th>TipoCole</th>\n",
       "      <th>NACIONAL</th>\n",
       "      <th>PARROQUIAL</th>\n",
       "      <th>PARTICULAR</th>\n",
       "    </tr>\n",
       "    <tr>\n",
       "      <th>Sexo</th>\n",
       "      <th>Edad</th>\n",
       "      <th></th>\n",
       "      <th></th>\n",
       "      <th></th>\n",
       "    </tr>\n",
       "  </thead>\n",
       "  <tbody>\n",
       "    <tr>\n",
       "      <th rowspan=\"3\" valign=\"top\">Hombre</th>\n",
       "      <th>(18.0, 24.0]</th>\n",
       "      <td>1398.153846</td>\n",
       "      <td>1467.158857</td>\n",
       "      <td>1359.177829</td>\n",
       "    </tr>\n",
       "    <tr>\n",
       "      <th>(24.0, 30.0]</th>\n",
       "      <td>1454.846154</td>\n",
       "      <td>1498.666667</td>\n",
       "      <td>1434.900000</td>\n",
       "    </tr>\n",
       "    <tr>\n",
       "      <th>(30.0, 50.0]</th>\n",
       "      <td>1528.750000</td>\n",
       "      <td>1100.000000</td>\n",
       "      <td>1518.056000</td>\n",
       "    </tr>\n",
       "    <tr>\n",
       "      <th rowspan=\"3\" valign=\"top\">Mujer</th>\n",
       "      <th>(18.0, 24.0]</th>\n",
       "      <td>1340.000000</td>\n",
       "      <td>1318.333333</td>\n",
       "      <td>1406.285714</td>\n",
       "    </tr>\n",
       "    <tr>\n",
       "      <th>(24.0, 30.0]</th>\n",
       "      <td>1414.666667</td>\n",
       "      <td>1300.000000</td>\n",
       "      <td>1300.000000</td>\n",
       "    </tr>\n",
       "    <tr>\n",
       "      <th>(30.0, 50.0]</th>\n",
       "      <td>1416.666667</td>\n",
       "      <td>NaN</td>\n",
       "      <td>NaN</td>\n",
       "    </tr>\n",
       "    <tr>\n",
       "      <th>OTRO</th>\n",
       "      <th>(18.0, 24.0]</th>\n",
       "      <td>NaN</td>\n",
       "      <td>NaN</td>\n",
       "      <td>1675.000000</td>\n",
       "    </tr>\n",
       "  </tbody>\n",
       "</table>\n",
       "</div>"
      ],
      "text/plain": [
       "TipoCole                NACIONAL   PARROQUIAL   PARTICULAR\n",
       "Sexo   Edad                                               \n",
       "Hombre (18.0, 24.0]  1398.153846  1467.158857  1359.177829\n",
       "       (24.0, 30.0]  1454.846154  1498.666667  1434.900000\n",
       "       (30.0, 50.0]  1528.750000  1100.000000  1518.056000\n",
       "Mujer  (18.0, 24.0]  1340.000000  1318.333333  1406.285714\n",
       "       (24.0, 30.0]  1414.666667  1300.000000  1300.000000\n",
       "       (30.0, 50.0]  1416.666667          NaN          NaN\n",
       "OTRO   (18.0, 24.0]          NaN          NaN  1675.000000"
      ]
     },
     "execution_count": 51,
     "metadata": {},
     "output_type": "execute_result"
    }
   ],
   "source": [
    "dt.pivot_table('PuntajeIngre', index=['Sexo',eda],columns='TipoCole')"
   ]
  },
  {
   "cell_type": "markdown",
   "metadata": {},
   "source": [
    "## Histogramas"
   ]
  },
  {
   "cell_type": "code",
   "execution_count": 52,
   "metadata": {},
   "outputs": [
    {
     "data": {
      "text/plain": [
       "array([ 7,  5,  7, 13, 28, 29, 15, 16,  2,  2], dtype=int64)"
      ]
     },
     "execution_count": 52,
     "metadata": {},
     "output_type": "execute_result"
    }
   ],
   "source": [
    "hist,bind_edges=np.histogram(dt['PuntajeIngre'])\n",
    "hist"
   ]
  },
  {
   "cell_type": "code",
   "execution_count": 53,
   "metadata": {},
   "outputs": [
    {
     "data": {
      "text/plain": [
       "array([1050., 1125., 1200., 1275., 1350., 1425., 1500., 1575., 1650.,\n",
       "       1725., 1800.])"
      ]
     },
     "execution_count": 53,
     "metadata": {},
     "output_type": "execute_result"
    }
   ],
   "source": [
    "bind_edges"
   ]
  },
  {
   "cell_type": "markdown",
   "metadata": {},
   "source": [
    "## visualizacion"
   ]
  },
  {
   "cell_type": "code",
   "execution_count": 54,
   "metadata": {},
   "outputs": [
    {
     "data": {
      "image/png": "[encoded data removed]",
      "text/plain": [
       "<Figure size 432x288 with 1 Axes>"
      ]
     },
     "metadata": {
      "needs_background": "light"
     },
     "output_type": "display_data"
    }
   ],
   "source": [
    "n,bins,patches=plt.hist(x=dt['PuntajeIngre'], bins='auto')"
   ]
  },
  {
   "cell_type": "code",
   "execution_count": 55,
   "metadata": {},
   "outputs": [
    {
     "data": {
      "image/png": "[encoded data removed]",
      "text/plain": [
       "<Figure size 432x288 with 1 Axes>"
      ]
     },
     "metadata": {
      "needs_background": "light"
     },
     "output_type": "display_data"
    }
   ],
   "source": [
    "n,bins,patches=plt.hist(x=dt['PuntajeIngre'], bins='auto', alpha=0.50, rwidth=0.90)"
   ]
  },
  {
   "cell_type": "code",
   "execution_count": 56,
   "metadata": {},
   "outputs": [
    {
     "data": {
      "image/png": "[encoded data removed]",
      "text/plain": [
       "<Figure size 432x288 with 1 Axes>"
      ]
     },
     "metadata": {
      "needs_background": "light"
     },
     "output_type": "display_data"
    }
   ],
   "source": [
    "import matplotlib\n",
    "dt.hist(column='Edad',  color='blue',bins=30)\n",
    "matplotlib.pyplot.show()"
   ]
  },
  {
   "cell_type": "code",
   "execution_count": 57,
   "metadata": {},
   "outputs": [
    {
     "data": {
      "text/plain": [
       "{'whiskers': [<matplotlib.lines.Line2D at 0x1b50d7eee08>,\n",
       "  <matplotlib.lines.Line2D at 0x1b50d7eef08>],\n",
       " 'caps': [<matplotlib.lines.Line2D at 0x1b50d7f4dc8>,\n",
       "  <matplotlib.lines.Line2D at 0x1b50d7f4ec8>],\n",
       " 'boxes': [<matplotlib.lines.Line2D at 0x1b50d7ee388>],\n",
       " 'medians': [<matplotlib.lines.Line2D at 0x1b50d7f7d48>],\n",
       " 'fliers': [<matplotlib.lines.Line2D at 0x1b50d7f7e48>],\n",
       " 'means': []}"
      ]
     },
     "execution_count": 57,
     "metadata": {},
     "output_type": "execute_result"
    },
    {
     "data": {
      "image/png": "[encoded data removed]",
      "text/plain": [
       "<Figure size 432x288 with 1 Axes>"
      ]
     },
     "metadata": {
      "needs_background": "light"
     },
     "output_type": "display_data"
    }
   ],
   "source": [
    "fig2,ax2=plt.subplots()\n",
    "ax2.set_title('caja')\n",
    "ax2.boxplot(dt['Edad'])"
   ]
  },
  {
   "cell_type": "code",
   "execution_count": 58,
   "metadata": {},
   "outputs": [
    {
     "data": {
      "image/png": "[encoded data removed]",
      "text/plain": [
       "<Figure size 432x288 with 1 Axes>"
      ]
     },
     "metadata": {
      "needs_background": "light"
     },
     "output_type": "display_data"
    }
   ],
   "source": [
    "matplotlib.pyplot.clf()\n",
    "dt['Edad'].plot(kind='density')\n",
    "matplotlib.pyplot.show()"
   ]
  },
  {
   "cell_type": "code",
   "execution_count": 59,
   "metadata": {},
   "outputs": [
    {
     "data": {
      "text/plain": [
       "<Figure size 432x288 with 0 Axes>"
      ]
     },
     "metadata": {},
     "output_type": "display_data"
    },
    {
     "data": {
      "image/png": "[encoded data removed]",
      "text/plain": [
       "<Figure size 432x288 with 1 Axes>"
      ]
     },
     "metadata": {
      "needs_background": "light"
     },
     "output_type": "display_data"
    }
   ],
   "source": [
    "matplotlib.pyplot.clf()\n",
    "dt.plot(kind='scatter', x='EdadIngreso', y='PuntajeIngre')\n",
    "matplotlib.pyplot.show()"
   ]
  },
  {
   "cell_type": "code",
   "execution_count": 60,
   "metadata": {},
   "outputs": [
    {
     "data": {
      "text/plain": [
       "EXAMEN ORDINARIO           90\n",
       "CEPRE                      25\n",
       "PRIMEROS PUESTOS            4\n",
       "OTROS                       3\n",
       "VICTIMAS DEL TERRORISMO     1\n",
       "DEPORTISTA CALIFICADO       1\n",
       "Name: TipoIngres, dtype: int64"
      ]
     },
     "execution_count": 60,
     "metadata": {},
     "output_type": "execute_result"
    }
   ],
   "source": [
    "#Borrar columnas que muy probablemente no usare\n",
    "dt.TipoIngres.value_counts()"
   ]
  },
  {
   "cell_type": "code",
   "execution_count": 61,
   "metadata": {},
   "outputs": [
    {
     "data": {
      "text/plain": [
       "Index(['Codigo', 'AnioNac', 'Sexo', 'Resid', 'TipoCole', 'MesIngres',\n",
       "       'TipoIngres', 'PuntajeIngre', 'CurDes1Ano', 'PrimRep', 'SegRep',\n",
       "       'TercRep', 'Mas3Rep', 'EduMadre', 'EduPadre', 'OcuPadre', 'OcuMadre',\n",
       "       'ClaseSoc', 'TempViajeUni', 'NumHermano', 'HermanoEstSup',\n",
       "       'EstadCivilInicio', 'PrepaAcademia', 'TempPrepAcadem', 'EdadIngreso',\n",
       "       'AporteEcono', 'TrabajoUniversi1Anio', 'SatisfCalidad',\n",
       "       'VocacionXpresion', 'CiudNac', 'PadreSep', 'ProbFamiliFreq', 'Edad'],\n",
       "      dtype='object')"
      ]
     },
     "execution_count": 61,
     "metadata": {},
     "output_type": "execute_result"
    }
   ],
   "source": [
    "dt.columns"
   ]
  },
  {
   "cell_type": "code",
   "execution_count": 62,
   "metadata": {},
   "outputs": [
    {
     "data": {
      "text/plain": [
       "SOLTERO    122\n",
       "VIUDO        1\n",
       "CASADO       1\n",
       "Name: EstadCivilInicio, dtype: int64"
      ]
     },
     "execution_count": 62,
     "metadata": {},
     "output_type": "execute_result"
    }
   ],
   "source": [
    "dt.EstadCivilInicio.value_counts()"
   ]
  },
  {
   "cell_type": "code",
   "execution_count": 63,
   "metadata": {},
   "outputs": [
    {
     "data": {
      "text/plain": [
       "DOS HORAS            35\n",
       "UN HORA              32\n",
       "HORA Y MEDIA         27\n",
       "MAS DE DOS HORAS     15\n",
       "MENOS DE UNA HORA    15\n",
       "Name: TempViajeUni, dtype: int64"
      ]
     },
     "execution_count": 63,
     "metadata": {},
     "output_type": "execute_result"
    }
   ],
   "source": [
    "dt.TempViajeUni.value_counts()"
   ]
  },
  {
   "cell_type": "code",
   "execution_count": 64,
   "metadata": {},
   "outputs": [
    {
     "data": {
      "text/plain": [
       "Sí    114\n",
       "No     10\n",
       "Name: PrepaAcademia, dtype: int64"
      ]
     },
     "execution_count": 64,
     "metadata": {},
     "output_type": "execute_result"
    }
   ],
   "source": [
    "dt.PrepaAcademia.value_counts()"
   ]
  },
  {
   "cell_type": "code",
   "execution_count": 65,
   "metadata": {},
   "outputs": [
    {
     "data": {
      "text/plain": [
       "UN AÑO                       33\n",
       "UN AÑO Y MEDIO               26\n",
       "DOS AÑOS                     25\n",
       "MENOS DE UN AÑO              18\n",
       "MAS DE DOS AÑOS              13\n",
       "NO SE PREPARO EN ACADEMIA     9\n",
       "Name: TempPrepAcadem, dtype: int64"
      ]
     },
     "execution_count": 65,
     "metadata": {},
     "output_type": "execute_result"
    }
   ],
   "source": [
    "dt.TempPrepAcadem.value_counts()"
   ]
  },
  {
   "cell_type": "code",
   "execution_count": 66,
   "metadata": {},
   "outputs": [
    {
     "data": {
      "text/plain": [
       "Lima        101\n",
       "Callao        6\n",
       "Ancash        4\n",
       "Junín         4\n",
       "Ayacucho      2\n",
       "Cusco         2\n",
       "Puno          1\n",
       "Arequipa      1\n",
       "Piura         1\n",
       "Huanuco       1\n",
       "Apurimac      1\n",
       "Name: CiudNac, dtype: int64"
      ]
     },
     "execution_count": 66,
     "metadata": {},
     "output_type": "execute_result"
    }
   ],
   "source": [
    "dt.CiudNac.value_counts()"
   ]
  },
  {
   "cell_type": "code",
   "execution_count": 67,
   "metadata": {},
   "outputs": [
    {
     "data": {
      "text/plain": [
       "Index(['Codigo', 'AnioNac', 'Sexo', 'Resid', 'TipoCole', 'TipoIngres',\n",
       "       'PuntajeIngre', 'PrimRep', 'SegRep', 'TercRep', 'Mas3Rep', 'EduMadre',\n",
       "       'EduPadre', 'OcuPadre', 'OcuMadre', 'ClaseSoc', 'TempViajeUni',\n",
       "       'NumHermano', 'HermanoEstSup', 'PrepaAcademia', 'TempPrepAcadem',\n",
       "       'EdadIngreso', 'AporteEcono', 'TrabajoUniversi1Anio', 'SatisfCalidad',\n",
       "       'VocacionXpresion', 'CiudNac', 'PadreSep', 'ProbFamiliFreq', 'Edad'],\n",
       "      dtype='object')"
      ]
     },
     "execution_count": 67,
     "metadata": {},
     "output_type": "execute_result"
    }
   ],
   "source": [
    "dt.drop(['CurDes1Ano','MesIngres','EstadCivilInicio'], axis=1, inplace=True)\n",
    "dt.columns"
   ]
  },
  {
   "cell_type": "code",
   "execution_count": 68,
   "metadata": {},
   "outputs": [
    {
     "data": {
      "text/plain": [
       "0      1\n",
       "1      1\n",
       "2      1\n",
       "3      0\n",
       "4      0\n",
       "      ..\n",
       "120    1\n",
       "121    0\n",
       "122    0\n",
       "123    0\n",
       "124    1\n",
       "Name: HermanoEstSup, Length: 124, dtype: int64"
      ]
     },
     "execution_count": 68,
     "metadata": {},
     "output_type": "execute_result"
    }
   ],
   "source": [
    "#REEMPLAZAR VALORES 'SI NO ' POR 0 , 1\n",
    "dt.HermanoEstSup.replace(to_replace='Sí',value=1,inplace=True)\n",
    "dt.HermanoEstSup.replace(to_replace='No',value=0,inplace=True)\n",
    "dt.HermanoEstSup"
   ]
  },
  {
   "cell_type": "code",
   "execution_count": 69,
   "metadata": {},
   "outputs": [
    {
     "data": {
      "text/plain": [
       "0      0\n",
       "1      0\n",
       "2      0\n",
       "3      0\n",
       "4      0\n",
       "      ..\n",
       "120    0\n",
       "121    0\n",
       "122    1\n",
       "123    0\n",
       "124    0\n",
       "Name: AporteEcono, Length: 124, dtype: int64"
      ]
     },
     "execution_count": 69,
     "metadata": {},
     "output_type": "execute_result"
    }
   ],
   "source": [
    "dt.AporteEcono.replace(to_replace='NO',value=0,inplace=True)\n",
    "dt.AporteEcono.replace(to_replace='SI',value=1,inplace=True)\n",
    "dt.AporteEcono"
   ]
  },
  {
   "cell_type": "code",
   "execution_count": 70,
   "metadata": {},
   "outputs": [
    {
     "data": {
      "text/plain": [
       "0      1\n",
       "1      0\n",
       "2      1\n",
       "3      0\n",
       "4      0\n",
       "      ..\n",
       "120    0\n",
       "121    0\n",
       "122    0\n",
       "123    1\n",
       "124    0\n",
       "Name: SatisfCalidad, Length: 124, dtype: int64"
      ]
     },
     "execution_count": 70,
     "metadata": {},
     "output_type": "execute_result"
    }
   ],
   "source": [
    "dt.SatisfCalidad.replace(to_replace='No',value=0,inplace=True)\n",
    "dt.SatisfCalidad.replace(to_replace='Sí',value=1,inplace=True)\n",
    "dt.SatisfCalidad"
   ]
  },
  {
   "cell_type": "code",
   "execution_count": 71,
   "metadata": {},
   "outputs": [
    {
     "data": {
      "text/html": [
       "<div>\n",
       "<style scoped>\n",
       "    .dataframe tbody tr th:only-of-type {\n",
       "        vertical-align: middle;\n",
       "    }\n",
       "\n",
       "    .dataframe tbody tr th {\n",
       "        vertical-align: top;\n",
       "    }\n",
       "\n",
       "    .dataframe thead th {\n",
       "        text-align: right;\n",
       "    }\n",
       "</style>\n",
       "<table border=\"1\" class=\"dataframe\">\n",
       "  <thead>\n",
       "    <tr style=\"text-align: right;\">\n",
       "      <th></th>\n",
       "      <th>tercerRepEstado</th>\n",
       "      <th>TercRep</th>\n",
       "    </tr>\n",
       "  </thead>\n",
       "  <tbody>\n",
       "    <tr>\n",
       "      <th>0</th>\n",
       "      <td>0</td>\n",
       "      <td>0</td>\n",
       "    </tr>\n",
       "    <tr>\n",
       "      <th>1</th>\n",
       "      <td>0</td>\n",
       "      <td>0</td>\n",
       "    </tr>\n",
       "    <tr>\n",
       "      <th>2</th>\n",
       "      <td>0</td>\n",
       "      <td>0</td>\n",
       "    </tr>\n",
       "    <tr>\n",
       "      <th>3</th>\n",
       "      <td>0</td>\n",
       "      <td>0</td>\n",
       "    </tr>\n",
       "    <tr>\n",
       "      <th>4</th>\n",
       "      <td>0</td>\n",
       "      <td>0</td>\n",
       "    </tr>\n",
       "    <tr>\n",
       "      <th>...</th>\n",
       "      <td>...</td>\n",
       "      <td>...</td>\n",
       "    </tr>\n",
       "    <tr>\n",
       "      <th>120</th>\n",
       "      <td>1</td>\n",
       "      <td>1</td>\n",
       "    </tr>\n",
       "    <tr>\n",
       "      <th>121</th>\n",
       "      <td>0</td>\n",
       "      <td>0</td>\n",
       "    </tr>\n",
       "    <tr>\n",
       "      <th>122</th>\n",
       "      <td>1</td>\n",
       "      <td>4</td>\n",
       "    </tr>\n",
       "    <tr>\n",
       "      <th>123</th>\n",
       "      <td>0</td>\n",
       "      <td>0</td>\n",
       "    </tr>\n",
       "    <tr>\n",
       "      <th>124</th>\n",
       "      <td>0</td>\n",
       "      <td>0</td>\n",
       "    </tr>\n",
       "  </tbody>\n",
       "</table>\n",
       "<p>124 rows × 2 columns</p>\n",
       "</div>"
      ],
      "text/plain": [
       "     tercerRepEstado  TercRep\n",
       "0                  0        0\n",
       "1                  0        0\n",
       "2                  0        0\n",
       "3                  0        0\n",
       "4                  0        0\n",
       "..               ...      ...\n",
       "120                1        1\n",
       "121                0        0\n",
       "122                1        4\n",
       "123                0        0\n",
       "124                0        0\n",
       "\n",
       "[124 rows x 2 columns]"
      ]
     },
     "execution_count": 71,
     "metadata": {},
     "output_type": "execute_result"
    }
   ],
   "source": [
    "dt['tercerRepEstado']=dt.TercRep.apply(lambda x: 1 if x>0 else 0)\n",
    "dt[['tercerRepEstado','TercRep']]\n",
    "#dt.TercRep=dt.TercRep.apply(lambda x: )"
   ]
  },
  {
   "cell_type": "code",
   "execution_count": 72,
   "metadata": {},
   "outputs": [
    {
     "data": {
      "text/html": [
       "<div>\n",
       "<style scoped>\n",
       "    .dataframe tbody tr th:only-of-type {\n",
       "        vertical-align: middle;\n",
       "    }\n",
       "\n",
       "    .dataframe tbody tr th {\n",
       "        vertical-align: top;\n",
       "    }\n",
       "\n",
       "    .dataframe thead th {\n",
       "        text-align: right;\n",
       "    }\n",
       "</style>\n",
       "<table border=\"1\" class=\"dataframe\">\n",
       "  <thead>\n",
       "    <tr style=\"text-align: right;\">\n",
       "      <th></th>\n",
       "      <th>segunRepEstado</th>\n",
       "      <th>SegRep</th>\n",
       "    </tr>\n",
       "  </thead>\n",
       "  <tbody>\n",
       "    <tr>\n",
       "      <th>0</th>\n",
       "      <td>0</td>\n",
       "      <td>0</td>\n",
       "    </tr>\n",
       "    <tr>\n",
       "      <th>1</th>\n",
       "      <td>1</td>\n",
       "      <td>1</td>\n",
       "    </tr>\n",
       "    <tr>\n",
       "      <th>2</th>\n",
       "      <td>1</td>\n",
       "      <td>1</td>\n",
       "    </tr>\n",
       "    <tr>\n",
       "      <th>3</th>\n",
       "      <td>0</td>\n",
       "      <td>0</td>\n",
       "    </tr>\n",
       "    <tr>\n",
       "      <th>4</th>\n",
       "      <td>0</td>\n",
       "      <td>0</td>\n",
       "    </tr>\n",
       "    <tr>\n",
       "      <th>...</th>\n",
       "      <td>...</td>\n",
       "      <td>...</td>\n",
       "    </tr>\n",
       "    <tr>\n",
       "      <th>120</th>\n",
       "      <td>1</td>\n",
       "      <td>2</td>\n",
       "    </tr>\n",
       "    <tr>\n",
       "      <th>121</th>\n",
       "      <td>0</td>\n",
       "      <td>0</td>\n",
       "    </tr>\n",
       "    <tr>\n",
       "      <th>122</th>\n",
       "      <td>1</td>\n",
       "      <td>4</td>\n",
       "    </tr>\n",
       "    <tr>\n",
       "      <th>123</th>\n",
       "      <td>0</td>\n",
       "      <td>0</td>\n",
       "    </tr>\n",
       "    <tr>\n",
       "      <th>124</th>\n",
       "      <td>0</td>\n",
       "      <td>0</td>\n",
       "    </tr>\n",
       "  </tbody>\n",
       "</table>\n",
       "<p>124 rows × 2 columns</p>\n",
       "</div>"
      ],
      "text/plain": [
       "     segunRepEstado  SegRep\n",
       "0                 0       0\n",
       "1                 1       1\n",
       "2                 1       1\n",
       "3                 0       0\n",
       "4                 0       0\n",
       "..              ...     ...\n",
       "120               1       2\n",
       "121               0       0\n",
       "122               1       4\n",
       "123               0       0\n",
       "124               0       0\n",
       "\n",
       "[124 rows x 2 columns]"
      ]
     },
     "execution_count": 72,
     "metadata": {},
     "output_type": "execute_result"
    }
   ],
   "source": [
    "dt['segunRepEstado']=dt.SegRep.apply(lambda x: 1 if x>0 else 0)\n",
    "dt[['segunRepEstado','SegRep']]"
   ]
  },
  {
   "cell_type": "markdown",
   "metadata": {},
   "source": [
    "# Sacar cruce de tipo de colegio y 3ra repitencia...tambien con edad, distrito(agrupar por conos )"
   ]
  },
  {
   "cell_type": "code",
   "execution_count": 73,
   "metadata": {},
   "outputs": [
    {
     "data": {
      "text/html": [
       "<div>\n",
       "<style scoped>\n",
       "    .dataframe tbody tr th:only-of-type {\n",
       "        vertical-align: middle;\n",
       "    }\n",
       "\n",
       "    .dataframe tbody tr th {\n",
       "        vertical-align: top;\n",
       "    }\n",
       "\n",
       "    .dataframe thead th {\n",
       "        text-align: right;\n",
       "    }\n",
       "</style>\n",
       "<table border=\"1\" class=\"dataframe\">\n",
       "  <thead>\n",
       "    <tr style=\"text-align: right;\">\n",
       "      <th>TipoCole</th>\n",
       "      <th>NACIONAL</th>\n",
       "      <th>PARROQUIAL</th>\n",
       "      <th>PARTICULAR</th>\n",
       "      <th>All</th>\n",
       "    </tr>\n",
       "    <tr>\n",
       "      <th>tercerRepEstado</th>\n",
       "      <th></th>\n",
       "      <th></th>\n",
       "      <th></th>\n",
       "      <th></th>\n",
       "    </tr>\n",
       "  </thead>\n",
       "  <tbody>\n",
       "    <tr>\n",
       "      <th>0</th>\n",
       "      <td>29</td>\n",
       "      <td>11</td>\n",
       "      <td>38</td>\n",
       "      <td>78</td>\n",
       "    </tr>\n",
       "    <tr>\n",
       "      <th>1</th>\n",
       "      <td>23</td>\n",
       "      <td>4</td>\n",
       "      <td>19</td>\n",
       "      <td>46</td>\n",
       "    </tr>\n",
       "    <tr>\n",
       "      <th>All</th>\n",
       "      <td>52</td>\n",
       "      <td>15</td>\n",
       "      <td>57</td>\n",
       "      <td>124</td>\n",
       "    </tr>\n",
       "  </tbody>\n",
       "</table>\n",
       "</div>"
      ],
      "text/plain": [
       "TipoCole         NACIONAL  PARROQUIAL  PARTICULAR  All\n",
       "tercerRepEstado                                       \n",
       "0                      29          11          38   78\n",
       "1                      23           4          19   46\n",
       "All                    52          15          57  124"
      ]
     },
     "execution_count": 73,
     "metadata": {},
     "output_type": "execute_result"
    }
   ],
   "source": [
    "pd.crosstab(index=dt.tercerRepEstado,columns=dt['TipoCole'],margins=True)"
   ]
  },
  {
   "cell_type": "code",
   "execution_count": 74,
   "metadata": {},
   "outputs": [
    {
     "data": {
      "text/plain": [
       "Index(['Codigo', 'AnioNac', 'Sexo', 'Resid', 'TipoCole', 'TipoIngres',\n",
       "       'PuntajeIngre', 'PrimRep', 'SegRep', 'TercRep', 'Mas3Rep', 'EduMadre',\n",
       "       'EduPadre', 'OcuPadre', 'OcuMadre', 'ClaseSoc', 'TempViajeUni',\n",
       "       'NumHermano', 'HermanoEstSup', 'PrepaAcademia', 'TempPrepAcadem',\n",
       "       'EdadIngreso', 'AporteEcono', 'TrabajoUniversi1Anio', 'SatisfCalidad',\n",
       "       'VocacionXpresion', 'CiudNac', 'PadreSep', 'ProbFamiliFreq', 'Edad',\n",
       "       'tercerRepEstado', 'segunRepEstado'],\n",
       "      dtype='object')"
      ]
     },
     "execution_count": 74,
     "metadata": {},
     "output_type": "execute_result"
    }
   ],
   "source": [
    "dt.columns"
   ]
  },
  {
   "cell_type": "code",
   "execution_count": 75,
   "metadata": {},
   "outputs": [
    {
     "data": {
      "image/png": "[encoded data removed]",
      "text/plain": [
       "<Figure size 432x288 with 1 Axes>"
      ]
     },
     "metadata": {
      "needs_background": "light"
     },
     "output_type": "display_data"
    }
   ],
   "source": [
    "#Histograma de  edad de alumnos con tercera repitencia \n",
    "dt[dt['tercerRepEstado']==1].hist(column='EdadIngreso',  color='blue',bins=40)\n",
    "matplotlib.pyplot.show()"
   ]
  },
  {
   "cell_type": "code",
   "execution_count": 76,
   "metadata": {},
   "outputs": [
    {
     "data": {
      "text/plain": [
       "<matplotlib.axes._subplots.AxesSubplot at 0x1b50f5d3ec8>"
      ]
     },
     "execution_count": 76,
     "metadata": {},
     "output_type": "execute_result"
    },
    {
     "data": {
      "image/png": "[encoded data removed]",
      "text/plain": [
       "<Figure size 432x288 with 1 Axes>"
      ]
     },
     "metadata": {
      "needs_background": "light"
     },
     "output_type": "display_data"
    }
   ],
   "source": [
    "dt[dt['tercerRepEstado']==1].TipoCole.value_counts().plot(kind='bar')"
   ]
  },
  {
   "cell_type": "code",
   "execution_count": 83,
   "metadata": {},
   "outputs": [
    {
     "data": {
      "text/plain": [
       "<matplotlib.axes._subplots.AxesSubplot at 0x1b51465dbc8>"
      ]
     },
     "execution_count": 83,
     "metadata": {},
     "output_type": "execute_result"
    },
    {
     "data": {
      "image/png": "[encoded data removed]",
      "text/plain": [
       "<Figure size 432x288 with 1 Axes>"
      ]
     },
     "metadata": {
      "needs_background": "light"
     },
     "output_type": "display_data"
    }
   ],
   "source": [
    "tab=pd.crosstab(index=dt['TipoCole'],columns=dt['tercerRepEstado']).plot(kind='bar')\n",
    "tab.legend(['No 3ra rep','Si 3ra rep'])\n",
    "tab"
   ]
  },
  {
   "cell_type": "code",
   "execution_count": 78,
   "metadata": {},
   "outputs": [
    {
     "data": {
      "text/plain": [
       "<matplotlib.axes._subplots.AxesSubplot at 0x1b50f5ac988>"
      ]
     },
     "execution_count": 78,
     "metadata": {},
     "output_type": "execute_result"
    },
    {
     "data": {
      "image/png": "[encoded data removed]",
      "text/plain": [
       "<Figure size 432x288 with 1 Axes>"
      ]
     },
     "metadata": {
      "needs_background": "light"
     },
     "output_type": "display_data"
    }
   ],
   "source": [
    "tab=pd.crosstab(index=dt['TipoCole'],columns=dt['segunRepEstado']).plot(kind='bar')\n",
    "tab.legend(['No 3ra rep','Si 3ra rep'])\n",
    "tab"
   ]
  },
  {
   "cell_type": "code",
   "execution_count": 79,
   "metadata": {},
   "outputs": [
    {
     "data": {
      "text/plain": [
       "<matplotlib.axes._subplots.AxesSubplot at 0x1b50f6b6148>"
      ]
     },
     "execution_count": 79,
     "metadata": {},
     "output_type": "execute_result"
    },
    {
     "data": {
      "image/png": "[encoded data removed]",
      "text/plain": [
       "<Figure size 432x288 with 1 Axes>"
      ]
     },
     "metadata": {
      "needs_background": "light"
     },
     "output_type": "display_data"
    }
   ],
   "source": [
    "tab=pd.crosstab(index=dt['TempViajeUni'],columns=dt['segunRepEstado']).plot(kind='bar')\n",
    "tab.legend(['No 3ra rep','Si 3ra rep'])\n",
    "tab"
   ]
  },
  {
   "cell_type": "code",
   "execution_count": 85,
   "metadata": {},
   "outputs": [
    {
     "data": {
      "text/plain": [
       "<matplotlib.axes._subplots.AxesSubplot at 0x1b515937688>"
      ]
     },
     "execution_count": 85,
     "metadata": {},
     "output_type": "execute_result"
    },
    {
     "data": {
      "image/png": "[encoded data removed]",
      "text/plain": [
       "<Figure size 432x288 with 1 Axes>"
      ]
     },
     "metadata": {
      "needs_background": "light"
     },
     "output_type": "display_data"
    }
   ],
   "source": [
    "tab=pd.crosstab(index=dt['ProbFamiliFreq'],columns=dt['tercerRepEstado']).plot(kind='bar')\n",
    "tab.legend(['No 2ra rep','Si 2ra rep'])\n",
    "tab"
   ]
  },
  {
   "cell_type": "code",
   "execution_count": 86,
   "metadata": {},
   "outputs": [
    {
     "data": {
      "text/plain": [
       "<matplotlib.legend.Legend at 0x1b50bff5508>"
      ]
     },
     "execution_count": 86,
     "metadata": {},
     "output_type": "execute_result"
    },
    {
     "data": {
      "image/png": "[encoded data removed]",
      "text/plain": [
       "<Figure size 432x288 with 1 Axes>"
      ]
     },
     "metadata": {
      "needs_background": "light"
     },
     "output_type": "display_data"
    }
   ],
   "source": [
    "tab=pd.crosstab(index=dt['OcuPadre'],columns=dt['tercerRepEstado']).plot(kind='bar')\n",
    "tab.legend(['No 3ra rep','Si 3ra rep'])"
   ]
  },
  {
   "cell_type": "code",
   "execution_count": 87,
   "metadata": {},
   "outputs": [
    {
     "data": {
      "text/plain": [
       "<matplotlib.legend.Legend at 0x1b5151b3248>"
      ]
     },
     "execution_count": 87,
     "metadata": {},
     "output_type": "execute_result"
    },
    {
     "data": {
      "image/png": "[encoded data removed]",
      "text/plain": [
       "<Figure size 432x288 with 1 Axes>"
      ]
     },
     "metadata": {
      "needs_background": "light"
     },
     "output_type": "display_data"
    }
   ],
   "source": [
    "tab=pd.crosstab(index=dt['OcuMadre'],columns=dt['tercerRepEstado']).plot(kind='bar')\n",
    "tab.legend(['No 3ra rep','Si 3ra rep'])"
   ]
  },
  {
   "cell_type": "code",
   "execution_count": null,
   "metadata": {},
   "outputs": [],
   "source": []
  }
 ],
 "metadata": {
  "kernelspec": {
   "display_name": "Python 3",
   "language": "python",
   "name": "python3"
  },
  "language_info": {
   "codemirror_mode": {
    "name": "ipython",
    "version": 3
   },
   "file_extension": ".py",
   "mimetype": "text/x-python",
   "name": "python",
   "nbconvert_exporter": "python",
   "pygments_lexer": "ipython3",
   "version": "3.7.6"
  }
 },
 "nbformat": 4,
 "nbformat_minor": 4
}
